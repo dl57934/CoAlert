{
 "cells": [
  {
   "cell_type": "code",
   "execution_count": 1,
   "metadata": {
    "collapsed": true
   },
   "outputs": [],
   "source": [
    "%matplotlib inline\n",
    "import pandas as pd \n",
    "import numpy as np\n",
    "import matplotlib.pyplot as plt\n",
    "import seaborn as sns \n",
    "from scipy import stats\n",
    "from ast import literal_eval # 문자열 모형의 딕트를 스근하게 딕트로 바꾸어 준다. \n",
    "from sklearn.feature_extraction.text import TfidfVectorizer, CountVectorizer\n",
    "from sklearn.metrics.pairwise import linear_kernel, cosine_similarity\n",
    "from nltk.stem.snowball import SnowballStemmer\n",
    "from nltk.stem.wordnet import WordNetLemmatizer\n",
    "from nltk.corpus import wordnet\n",
    "from surprise import Reader, Dataset, SVD, evaluate\n",
    "\n",
    "import warnings; warnings.simplefilter('ignore')"
   ]
  },
  {
   "cell_type": "code",
   "execution_count": 2,
   "metadata": {},
   "outputs": [],
   "source": [
    "md = pd.read_csv('input/movies_metadata.csv')"
   ]
  },
  {
   "cell_type": "code",
   "execution_count": 3,
   "metadata": {
    "collapsed": true
   },
   "outputs": [
    {
     "data": {
      "text/plain": [
       "adult                        0\nbelongs_to_collection    40972\nbudget                       0\ngenres                       0\nhomepage                 37684\nid                           0\nimdb_id                     17\noriginal_language           11\noriginal_title               0\noverview                   954\npopularity                   5\nposter_path                386\nproduction_companies         3\nproduction_countries         3\nrelease_date                87\nrevenue                      6\nruntime                    263\nspoken_languages             6\nstatus                      87\ntagline                  25054\ntitle                        6\nvideo                        6\nvote_average                 6\nvote_count                   6\ndtype: int64"
      ]
     },
     "execution_count": 3,
     "metadata": {},
     "output_type": "execute_result"
    }
   ],
   "source": [
    "md.isnull().sum()"
   ]
  },
  {
   "cell_type": "code",
   "execution_count": 4,
   "metadata": {
    "collapsed": true
   },
   "outputs": [
    {
     "name": "stdout",
     "output_type": "stream",
     "text": [
      "<class 'pandas.core.frame.DataFrame'>\nRangeIndex: 45466 entries, 0 to 45465\nData columns (total 24 columns):\nadult                    45466 non-null object\nbelongs_to_collection    4494 non-null object\nbudget                   45466 non-null object\ngenres                   45466 non-null object\nhomepage                 7782 non-null object\nid                       45466 non-null object\nimdb_id                  45449 non-null object\noriginal_language        45455 non-null object\noriginal_title           45466 non-null object\noverview                 44512 non-null object\npopularity               45461 non-null object\nposter_path              45080 non-null object\nproduction_companies     45463 non-null object\nproduction_countries     45463 non-null object\nrelease_date             45379 non-null object\nrevenue                  45460 non-null float64\nruntime                  45203 non-null float64\nspoken_languages         45460 non-null object\nstatus                   45379 non-null object\ntagline                  20412 non-null object\ntitle                    45460 non-null object\nvideo                    45460 non-null object\nvote_average             45460 non-null float64\nvote_count               45460 non-null float64\ndtypes: float64(4), object(20)\nmemory usage: 8.3+ MB\n"
     ]
    }
   ],
   "source": [
    "md.info()"
   ]
  },
  {
   "cell_type": "heading",
   "metadata": {},
   "level": 1,
   "source": [
    "genres data"
   ]
  },
  {
   "cell_type": "code",
   "execution_count": 4,
   "metadata": {
    "collapsed": true
   },
   "outputs": [],
   "source": [
    "md['genres'] = md['genres'].apply(literal_eval).apply(lambda x: [i['name'] for i in x] if isinstance(x, list) else [])"
   ]
  },
  {
   "cell_type": "heading",
   "metadata": {},
   "level": 1,
   "source": [
    "v는 영화의 득표수\n",
    "m은 차트에 나열되기 위한 최소한의 투표수\n",
    "R은 영화의 평균 평점\n",
    "C는 전체 보고서에 평균 투표"
   ]
  },
  {
   "cell_type": "code",
   "execution_count": 5,
   "metadata": {},
   "outputs": [],
   "source": [
    "md['year'] = md['release_date'].apply(lambda x:str(x).split('-')[0] if x != np.nan else np.nan)"
   ]
  },
  {
   "cell_type": "code",
   "execution_count": 6,
   "metadata": {
    "collapsed": true
   },
   "outputs": [
    {
     "data": {
      "text/plain": [
       "5.618207215134185"
      ]
     },
     "execution_count": 6,
     "metadata": {},
     "output_type": "execute_result"
    }
   ],
   "source": [
    "vote_count = md['vote_count']\n",
    "vote_average = md['vote_average']\n",
    "m = vote_count.quantile(0.95)\n",
    "c = vote_average.mean()\n",
    "c"
   ]
  },
  {
   "cell_type": "code",
   "execution_count": 7,
   "metadata": {},
   "outputs": [],
   "source": [
    "def get_wr(x):\n",
    "    v = x['vote_count']\n",
    "    r = x['vote_average']\n",
    "    return (v / (v + m) * r) + (m/(v+m)*c)\n"
   ]
  },
  {
   "cell_type": "code",
   "execution_count": 8,
   "metadata": {},
   "outputs": [],
   "source": [
    "\n",
    "qualified = md[(md['vote_count'].notnull()) & (md['vote_average'].notnull()) & (md['vote_count'] >= m)][['title', 'year', 'vote_count', 'vote_average', 'popularity', 'genres']]\n",
    "qualified['vote_count'] = qualified['vote_count'].astype(int)\n",
    "qualified['vote_average'] = qualified['vote_average'].astype(int)"
   ]
  },
  {
   "cell_type": "code",
   "execution_count": 9,
   "metadata": {
    "collapsed": true
   },
   "outputs": [
    {
     "name": "stdout",
     "output_type": "stream",
     "text": [
      "<class 'pandas.core.frame.DataFrame'>\nInt64Index: 2274 entries, 0 to 45014\nData columns (total 6 columns):\ntitle           2274 non-null object\nyear            2274 non-null object\nvote_count      2274 non-null int32\nvote_average    2274 non-null int32\npopularity      2274 non-null object\ngenres          2274 non-null object\ndtypes: int32(2), object(4)\nmemory usage: 106.6+ KB\n"
     ]
    }
   ],
   "source": [
    "qualified.info()"
   ]
  },
  {
   "cell_type": "code",
   "execution_count": 10,
   "metadata": {
    "collapsed": true
   },
   "outputs": [],
   "source": [
    "qualified['wr'] = qualified.apply(get_wr, axis=1)"
   ]
  },
  {
   "cell_type": "code",
   "execution_count": 11,
   "metadata": {
    "collapsed": true
   },
   "outputs": [],
   "source": [
    "qualified = qualified.sort_values('wr', ascending=False)"
   ]
  },
  {
   "cell_type": "code",
   "execution_count": 12,
   "metadata": {
    "collapsed": true
   },
   "outputs": [],
   "source": [
    "s_gen = md.apply(lambda x: pd.Series(x['genres']), axis=1).stack().reset_index(level=1, drop=True)"
   ]
  },
  {
   "cell_type": "code",
   "execution_count": 13,
   "metadata": {
    "collapsed": true
   },
   "outputs": [],
   "source": [
    "s_gen.name = 'genres' \n",
    "s_gen = md.drop('genres', axis=1).join(s_gen)"
   ]
  },
  {
   "cell_type": "code",
   "execution_count": 14,
   "metadata": {},
   "outputs": [],
   "source": [
    "def bar_chart(genres, percent=0.85):\n",
    "    df = s_gen[s_gen['genres'] == genres]\n",
    "    vote_count = df[df['vote_count'].notnull()]['vote_count']\n",
    "    vote_average = df[df['vote_average'].notnull()]['vote_average']\n",
    "    m = vote_count.quantile(percent)\n",
    "    c = vote_average.mean()\n",
    "    qualified = df[(df['vote_count'].notnull()) & (df['vote_count'] >= m) & df['vote_average'].notnull()][['title', 'year', 'vote_count', 'vote_average', 'popularity']]\n",
    "    qualified['vote_count'] = qualified['vote_count'].astype(int)\n",
    "    qualified['vote_average'] = qualified['vote_average'].astype(int)\n",
    "    qualified['wr'] = qualified.apply(lambda x: (x['vote_count']/(x['vote_count']+m) * x['vote_average']) + (m/(m+x['vote_count']) * c), axis=1)\n",
    "    qualified = qualified.sort_values('wr', ascending=False).head(250)\n",
    "    return qualified"
   ]
  },
  {
   "cell_type": "code",
   "execution_count": 15,
   "metadata": {
    "collapsed": true
   },
   "outputs": [
    {
     "data": {
      "text/html": [
       "<div>\n",
       "<style scoped>\n",
       "    .dataframe tbody tr th:only-of-type {\n",
       "        vertical-align: middle;\n",
       "    }\n",
       "\n",
       "    .dataframe tbody tr th {\n",
       "        vertical-align: top;\n",
       "    }\n",
       "\n",
       "    .dataframe thead th {\n",
       "        text-align: right;\n",
       "    }\n",
       "</style>\n",
       "<table border=\"1\" class=\"dataframe\">\n",
       "  <thead>\n",
       "    <tr style=\"text-align: right;\">\n",
       "      <th></th>\n",
       "      <th>title</th>\n",
       "      <th>year</th>\n",
       "      <th>vote_count</th>\n",
       "      <th>vote_average</th>\n",
       "      <th>popularity</th>\n",
       "      <th>wr</th>\n",
       "    </tr>\n",
       "  </thead>\n",
       "  <tbody>\n",
       "    <tr>\n",
       "      <th>15480</th>\n",
       "      <td>Inception</td>\n",
       "      <td>2010</td>\n",
       "      <td>14075</td>\n",
       "      <td>8</td>\n",
       "      <td>29.1081</td>\n",
       "      <td>7.920697</td>\n",
       "    </tr>\n",
       "    <tr>\n",
       "      <th>22879</th>\n",
       "      <td>Interstellar</td>\n",
       "      <td>2014</td>\n",
       "      <td>11187</td>\n",
       "      <td>8</td>\n",
       "      <td>32.2135</td>\n",
       "      <td>7.901099</td>\n",
       "    </tr>\n",
       "    <tr>\n",
       "      <th>4863</th>\n",
       "      <td>The Lord of the Rings: The Fellowship of the Ring</td>\n",
       "      <td>2001</td>\n",
       "      <td>8892</td>\n",
       "      <td>8</td>\n",
       "      <td>32.0707</td>\n",
       "      <td>7.876930</td>\n",
       "    </tr>\n",
       "    <tr>\n",
       "      <th>7000</th>\n",
       "      <td>The Lord of the Rings: The Return of the King</td>\n",
       "      <td>2003</td>\n",
       "      <td>8226</td>\n",
       "      <td>8</td>\n",
       "      <td>29.3244</td>\n",
       "      <td>7.867537</td>\n",
       "    </tr>\n",
       "    <tr>\n",
       "      <th>5814</th>\n",
       "      <td>The Lord of the Rings: The Two Towers</td>\n",
       "      <td>2002</td>\n",
       "      <td>7641</td>\n",
       "      <td>8</td>\n",
       "      <td>29.4235</td>\n",
       "      <td>7.858018</td>\n",
       "    </tr>\n",
       "    <tr>\n",
       "      <th>256</th>\n",
       "      <td>Star Wars</td>\n",
       "      <td>1977</td>\n",
       "      <td>6778</td>\n",
       "      <td>8</td>\n",
       "      <td>42.1497</td>\n",
       "      <td>7.841181</td>\n",
       "    </tr>\n",
       "    <tr>\n",
       "      <th>1225</th>\n",
       "      <td>Back to the Future</td>\n",
       "      <td>1985</td>\n",
       "      <td>6239</td>\n",
       "      <td>8</td>\n",
       "      <td>25.7785</td>\n",
       "      <td>7.828477</td>\n",
       "    </tr>\n",
       "    <tr>\n",
       "      <th>1154</th>\n",
       "      <td>The Empire Strikes Back</td>\n",
       "      <td>1980</td>\n",
       "      <td>5998</td>\n",
       "      <td>8</td>\n",
       "      <td>19.471</td>\n",
       "      <td>7.822115</td>\n",
       "    </tr>\n",
       "    <tr>\n",
       "      <th>5481</th>\n",
       "      <td>Spirited Away</td>\n",
       "      <td>2001</td>\n",
       "      <td>3968</td>\n",
       "      <td>8</td>\n",
       "      <td>41.0489</td>\n",
       "      <td>7.741285</td>\n",
       "    </tr>\n",
       "    <tr>\n",
       "      <th>9698</th>\n",
       "      <td>Howl's Moving Castle</td>\n",
       "      <td>2004</td>\n",
       "      <td>2049</td>\n",
       "      <td>8</td>\n",
       "      <td>16.136</td>\n",
       "      <td>7.546475</td>\n",
       "    </tr>\n",
       "  </tbody>\n",
       "</table>\n",
       "</div>"
      ],
      "text/plain": [
       "<div>\n",
       "<style scoped>\n",
       "    .dataframe tbody tr th:only-of-type {\n",
       "        vertical-align: middle;\n",
       "    }\n",
       "\n",
       "    .dataframe tbody tr th {\n",
       "        vertical-align: top;\n",
       "    }\n",
       "\n",
       "    .dataframe thead th {\n",
       "        text-align: right;\n",
       "    }\n",
       "</style>\n",
       "<table border=\"1\" class=\"dataframe\">\n",
       "  <thead>\n",
       "    <tr style=\"text-align: right;\">\n",
       "      <th></th>\n",
       "      <th>title</th>\n",
       "      <th>year</th>\n",
       "      <th>vote_count</th>\n",
       "      <th>vote_average</th>\n",
       "      <th>popularity</th>\n",
       "      <th>wr</th>\n",
       "    </tr>\n",
       "  </thead>\n",
       "  <tbody>\n",
       "    <tr>\n",
       "      <th>15480</th>\n",
       "      <td>Inception</td>\n",
       "      <td>2010</td>\n",
       "      <td>14075</td>\n",
       "      <td>8</td>\n",
       "      <td>29.1081</td>\n",
       "      <td>7.920697</td>\n",
       "    </tr>\n",
       "    <tr>\n",
       "      <th>22879</th>\n",
       "      <td>Interstellar</td>\n",
       "      <td>2014</td>\n",
       "      <td>11187</td>\n",
       "      <td>8</td>\n",
       "      <td>32.2135</td>\n",
       "      <td>7.901099</td>\n",
       "    </tr>\n",
       "    <tr>\n",
       "      <th>4863</th>\n",
       "      <td>The Lord of the Rings: The Fellowship of the Ring</td>\n",
       "      <td>2001</td>\n",
       "      <td>8892</td>\n",
       "      <td>8</td>\n",
       "      <td>32.0707</td>\n",
       "      <td>7.876930</td>\n",
       "    </tr>\n",
       "    <tr>\n",
       "      <th>7000</th>\n",
       "      <td>The Lord of the Rings: The Return of the King</td>\n",
       "      <td>2003</td>\n",
       "      <td>8226</td>\n",
       "      <td>8</td>\n",
       "      <td>29.3244</td>\n",
       "      <td>7.867537</td>\n",
       "    </tr>\n",
       "    <tr>\n",
       "      <th>5814</th>\n",
       "      <td>The Lord of the Rings: The Two Towers</td>\n",
       "      <td>2002</td>\n",
       "      <td>7641</td>\n",
       "      <td>8</td>\n",
       "      <td>29.4235</td>\n",
       "      <td>7.858018</td>\n",
       "    </tr>\n",
       "    <tr>\n",
       "      <th>256</th>\n",
       "      <td>Star Wars</td>\n",
       "      <td>1977</td>\n",
       "      <td>6778</td>\n",
       "      <td>8</td>\n",
       "      <td>42.1497</td>\n",
       "      <td>7.841181</td>\n",
       "    </tr>\n",
       "    <tr>\n",
       "      <th>1225</th>\n",
       "      <td>Back to the Future</td>\n",
       "      <td>1985</td>\n",
       "      <td>6239</td>\n",
       "      <td>8</td>\n",
       "      <td>25.7785</td>\n",
       "      <td>7.828477</td>\n",
       "    </tr>\n",
       "    <tr>\n",
       "      <th>1154</th>\n",
       "      <td>The Empire Strikes Back</td>\n",
       "      <td>1980</td>\n",
       "      <td>5998</td>\n",
       "      <td>8</td>\n",
       "      <td>19.471</td>\n",
       "      <td>7.822115</td>\n",
       "    </tr>\n",
       "    <tr>\n",
       "      <th>5481</th>\n",
       "      <td>Spirited Away</td>\n",
       "      <td>2001</td>\n",
       "      <td>3968</td>\n",
       "      <td>8</td>\n",
       "      <td>41.0489</td>\n",
       "      <td>7.741285</td>\n",
       "    </tr>\n",
       "    <tr>\n",
       "      <th>9698</th>\n",
       "      <td>Howl's Moving Castle</td>\n",
       "      <td>2004</td>\n",
       "      <td>2049</td>\n",
       "      <td>8</td>\n",
       "      <td>16.136</td>\n",
       "      <td>7.546475</td>\n",
       "    </tr>\n",
       "  </tbody>\n",
       "</table>\n",
       "</div>"
      ]
     },
     "execution_count": 15,
     "metadata": {},
     "output_type": "execute_result"
    }
   ],
   "source": [
    "bar_chart('Adventure').head(10)"
   ]
  },
  {
   "cell_type": "code",
   "execution_count": 16,
   "metadata": {
    "collapsed": true
   },
   "outputs": [
    {
     "data": {
      "text/html": [
       "<div>\n",
       "<style scoped>\n",
       "    .dataframe tbody tr th:only-of-type {\n",
       "        vertical-align: middle;\n",
       "    }\n",
       "\n",
       "    .dataframe tbody tr th {\n",
       "        vertical-align: top;\n",
       "    }\n",
       "\n",
       "    .dataframe thead th {\n",
       "        text-align: right;\n",
       "    }\n",
       "</style>\n",
       "<table border=\"1\" class=\"dataframe\">\n",
       "  <thead>\n",
       "    <tr style=\"text-align: right;\">\n",
       "      <th></th>\n",
       "      <th>title</th>\n",
       "      <th>year</th>\n",
       "      <th>vote_count</th>\n",
       "      <th>vote_average</th>\n",
       "      <th>popularity</th>\n",
       "      <th>wr</th>\n",
       "    </tr>\n",
       "  </thead>\n",
       "  <tbody>\n",
       "    <tr>\n",
       "      <th>10309</th>\n",
       "      <td>Dilwale Dulhania Le Jayenge</td>\n",
       "      <td>1995</td>\n",
       "      <td>661</td>\n",
       "      <td>9</td>\n",
       "      <td>34.457</td>\n",
       "      <td>8.613461</td>\n",
       "    </tr>\n",
       "    <tr>\n",
       "      <th>351</th>\n",
       "      <td>Forrest Gump</td>\n",
       "      <td>1994</td>\n",
       "      <td>8147</td>\n",
       "      <td>8</td>\n",
       "      <td>48.3072</td>\n",
       "      <td>7.975754</td>\n",
       "    </tr>\n",
       "    <tr>\n",
       "      <th>876</th>\n",
       "      <td>Vertigo</td>\n",
       "      <td>1958</td>\n",
       "      <td>1162</td>\n",
       "      <td>8</td>\n",
       "      <td>18.2082</td>\n",
       "      <td>7.840579</td>\n",
       "    </tr>\n",
       "  </tbody>\n",
       "</table>\n",
       "</div>"
      ],
      "text/plain": [
       "<div>\n",
       "<style scoped>\n",
       "    .dataframe tbody tr th:only-of-type {\n",
       "        vertical-align: middle;\n",
       "    }\n",
       "\n",
       "    .dataframe tbody tr th {\n",
       "        vertical-align: top;\n",
       "    }\n",
       "\n",
       "    .dataframe thead th {\n",
       "        text-align: right;\n",
       "    }\n",
       "</style>\n",
       "<table border=\"1\" class=\"dataframe\">\n",
       "  <thead>\n",
       "    <tr style=\"text-align: right;\">\n",
       "      <th></th>\n",
       "      <th>title</th>\n",
       "      <th>year</th>\n",
       "      <th>vote_count</th>\n",
       "      <th>vote_average</th>\n",
       "      <th>popularity</th>\n",
       "      <th>wr</th>\n",
       "    </tr>\n",
       "  </thead>\n",
       "  <tbody>\n",
       "    <tr>\n",
       "      <th>10309</th>\n",
       "      <td>Dilwale Dulhania Le Jayenge</td>\n",
       "      <td>1995</td>\n",
       "      <td>661</td>\n",
       "      <td>9</td>\n",
       "      <td>34.457</td>\n",
       "      <td>8.613461</td>\n",
       "    </tr>\n",
       "    <tr>\n",
       "      <th>351</th>\n",
       "      <td>Forrest Gump</td>\n",
       "      <td>1994</td>\n",
       "      <td>8147</td>\n",
       "      <td>8</td>\n",
       "      <td>48.3072</td>\n",
       "      <td>7.975754</td>\n",
       "    </tr>\n",
       "    <tr>\n",
       "      <th>876</th>\n",
       "      <td>Vertigo</td>\n",
       "      <td>1958</td>\n",
       "      <td>1162</td>\n",
       "      <td>8</td>\n",
       "      <td>18.2082</td>\n",
       "      <td>7.840579</td>\n",
       "    </tr>\n",
       "  </tbody>\n",
       "</table>\n",
       "</div>"
      ]
     },
     "execution_count": 16,
     "metadata": {},
     "output_type": "execute_result"
    }
   ],
   "source": [
    "bar_chart('Romance').head(3)"
   ]
  },
  {
   "cell_type": "code",
   "execution_count": 17,
   "metadata": {},
   "outputs": [
    {
     "data": {
      "text/html": [
       "<div>\n",
       "<style scoped>\n",
       "    .dataframe tbody tr th:only-of-type {\n",
       "        vertical-align: middle;\n",
       "    }\n",
       "\n",
       "    .dataframe tbody tr th {\n",
       "        vertical-align: top;\n",
       "    }\n",
       "\n",
       "    .dataframe thead th {\n",
       "        text-align: right;\n",
       "    }\n",
       "</style>\n",
       "<table border=\"1\" class=\"dataframe\">\n",
       "  <thead>\n",
       "    <tr style=\"text-align: right;\">\n",
       "      <th></th>\n",
       "      <th>title</th>\n",
       "      <th>year</th>\n",
       "      <th>vote_count</th>\n",
       "      <th>vote_average</th>\n",
       "      <th>popularity</th>\n",
       "      <th>wr</th>\n",
       "    </tr>\n",
       "  </thead>\n",
       "  <tbody>\n",
       "    <tr>\n",
       "      <th>15480</th>\n",
       "      <td>Inception</td>\n",
       "      <td>2010</td>\n",
       "      <td>14075</td>\n",
       "      <td>8</td>\n",
       "      <td>29.1081</td>\n",
       "      <td>7.962878</td>\n",
       "    </tr>\n",
       "    <tr>\n",
       "      <th>12481</th>\n",
       "      <td>The Dark Knight</td>\n",
       "      <td>2008</td>\n",
       "      <td>12269</td>\n",
       "      <td>8</td>\n",
       "      <td>123.167</td>\n",
       "      <td>7.957511</td>\n",
       "    </tr>\n",
       "    <tr>\n",
       "      <th>292</th>\n",
       "      <td>Pulp Fiction</td>\n",
       "      <td>1994</td>\n",
       "      <td>8670</td>\n",
       "      <td>8</td>\n",
       "      <td>140.95</td>\n",
       "      <td>7.940315</td>\n",
       "    </tr>\n",
       "  </tbody>\n",
       "</table>\n",
       "</div>"
      ],
      "text/plain": [
       "<div>\n",
       "<style scoped>\n",
       "    .dataframe tbody tr th:only-of-type {\n",
       "        vertical-align: middle;\n",
       "    }\n",
       "\n",
       "    .dataframe tbody tr th {\n",
       "        vertical-align: top;\n",
       "    }\n",
       "\n",
       "    .dataframe thead th {\n",
       "        text-align: right;\n",
       "    }\n",
       "</style>\n",
       "<table border=\"1\" class=\"dataframe\">\n",
       "  <thead>\n",
       "    <tr style=\"text-align: right;\">\n",
       "      <th></th>\n",
       "      <th>title</th>\n",
       "      <th>year</th>\n",
       "      <th>vote_count</th>\n",
       "      <th>vote_average</th>\n",
       "      <th>popularity</th>\n",
       "      <th>wr</th>\n",
       "    </tr>\n",
       "  </thead>\n",
       "  <tbody>\n",
       "    <tr>\n",
       "      <th>15480</th>\n",
       "      <td>Inception</td>\n",
       "      <td>2010</td>\n",
       "      <td>14075</td>\n",
       "      <td>8</td>\n",
       "      <td>29.1081</td>\n",
       "      <td>7.962878</td>\n",
       "    </tr>\n",
       "    <tr>\n",
       "      <th>12481</th>\n",
       "      <td>The Dark Knight</td>\n",
       "      <td>2008</td>\n",
       "      <td>12269</td>\n",
       "      <td>8</td>\n",
       "      <td>123.167</td>\n",
       "      <td>7.957511</td>\n",
       "    </tr>\n",
       "    <tr>\n",
       "      <th>292</th>\n",
       "      <td>Pulp Fiction</td>\n",
       "      <td>1994</td>\n",
       "      <td>8670</td>\n",
       "      <td>8</td>\n",
       "      <td>140.95</td>\n",
       "      <td>7.940315</td>\n",
       "    </tr>\n",
       "  </tbody>\n",
       "</table>\n",
       "</div>"
      ]
     },
     "execution_count": 17,
     "metadata": {},
     "output_type": "execute_result"
    }
   ],
   "source": [
    "bar_chart('Thriller').head(3)"
   ]
  },
  {
   "cell_type": "code",
   "execution_count": 18,
   "metadata": {},
   "outputs": [],
   "source": [
    "link_small = pd.read_csv('input/links_small.csv')\n",
    "link_small = link_small[link_small['tmdbId'].notnull()]['tmdbId'].astype('int')"
   ]
  },
  {
   "cell_type": "code",
   "execution_count": 19,
   "metadata": {
    "collapsed": true
   },
   "outputs": [],
   "source": [
    "md = md.drop([19730, 29503, 35587])"
   ]
  },
  {
   "cell_type": "code",
   "execution_count": 20,
   "metadata": {},
   "outputs": [],
   "source": [
    "md['id'] = md['id'].astype('int')"
   ]
  },
  {
   "cell_type": "code",
   "execution_count": 21,
   "metadata": {},
   "outputs": [],
   "source": [
    "smd = md[md['id'].isin(link_small)]"
   ]
  },
  {
   "cell_type": "code",
   "execution_count": 27,
   "metadata": {
    "collapsed": true
   },
   "outputs": [],
   "source": [
    "smd['tagline'] = smd['tagline'].fillna('')\n",
    "smd['description'] = smd['overview'] + smd['tagline']\n",
    "smd['description'] = smd['description'].fillna('')"
   ]
  },
  {
   "cell_type": "code",
   "execution_count": 28,
   "metadata": {},
   "outputs": [],
   "source": [
    "tf = TfidfVectorizer(analyzer='word', ngram_range=(1, 2), min_df=0, stop_words='english')\n",
    "tfidf_matrix = tf.fit_transform(smd['description'])"
   ]
  },
  {
   "cell_type": "code",
   "execution_count": 29,
   "metadata": {},
   "outputs": [
    {
     "data": {
      "text/plain": [
       "array([1.        , 0.00680476, 0.        , ..., 0.        , 0.00344913,\n       0.        ])"
      ]
     },
     "execution_count": 29,
     "metadata": {},
     "output_type": "execute_result"
    }
   ],
   "source": [
    "cosine_sim = linear_kernel(tfidf_matrix, tfidf_matrix)\n",
    "cosine_sim[0]"
   ]
  },
  {
   "cell_type": "code",
   "execution_count": 32,
   "metadata": {},
   "outputs": [],
   "source": [
    "smd = smd.reset_index()"
   ]
  },
  {
   "cell_type": "code",
   "execution_count": 36,
   "metadata": {},
   "outputs": [],
   "source": [
    "titles = smd['title']\n",
    "indces = pd.Series(smd.index, index=titles)"
   ]
  },
  {
   "cell_type": "code",
   "execution_count": 38,
   "metadata": {},
   "outputs": [],
   "source": [
    "def getrecommandations(title):\n",
    "    index = indces[title]\n",
    "    sim_scores = list(enumerate(cosine_sim[index]))\n",
    "    sim_scores = sorted(sim_scores, key=lambda x:x[1], reverse=True)\n",
    "    sim_scores = sim_scores[1:31]\n",
    "    movie_indices = [i[0] for i in sim_scores] \n",
    "    return titles.iloc[movie_indices]"
   ]
  },
  {
   "cell_type": "code",
   "execution_count": 39,
   "metadata": {
    "collapsed": false
   },
   "outputs": [
    {
     "data": {
      "text/plain": [
       "7931                      The Dark Knight Rises\n132                              Batman Forever\n1113                             Batman Returns\n8227    Batman: The Dark Knight Returns, Part 2\n7565                 Batman: Under the Red Hood\n524                                      Batman\n7901                           Batman: Year One\n2579               Batman: Mask of the Phantasm\n2696                                        JFK\n8165    Batman: The Dark Knight Returns, Part 1\n6144                              Batman Begins\n7933         Sherlock Holmes: A Game of Shadows\n5511                            To End All Wars\n4489                                      Q & A\n7344                        Law Abiding Citizen\n7242                  The File on Thelma Jordon\n3537                               Criminal Law\n2893                              Flying Tigers\n1135                   Night Falls on Manhattan\n8680                          The Young Savages\n8917         Batman v Superman: Dawn of Justice\n1240                             Batman & Robin\n6740                                Rush Hour 3\n1652                            The Shaggy D.A.\n6667                                   Fracture\n4028                                 The Rookie\n8371       Justice League: Crisis on Two Earths\n8719                                 By the Gun\n3730                    Dr. Mabuse, the Gambler\n4160                     The Master of Disguise\nName: title, dtype: object"
      ]
     },
     "execution_count": 39,
     "metadata": {},
     "output_type": "execute_result"
    }
   ],
   "source": [
    "getrecommandations('The Dark Knight')"
   ]
  },
  {
   "cell_type": "code",
   "execution_count": 41,
   "metadata": {},
   "outputs": [
    {
     "name": "stdout",
     "output_type": "stream",
     "text": [
      "[(0, 1.0000000000000018), (1, 0.0068047556717484225), (2, 0.0), (3, 0.0), (4, 0.0), (5, 0.0), (6, 0.0), (7, 0.0), (8, 0.0), (9, 0.0), (10, 0.0), (11, 0.0), (12, 0.0), (13, 0.0), (14, 0.0), (15, 0.0), (16, 0.006787806467693803), (17, 0.012752661542485267), (18, 0.0), (19, 0.0), (20, 0.004436513622462533), (21, 0.0), (22, 0.0035114754610620874), (23, 0.0), (24, 0.0), (25, 0.0), (26, 0.0), (27, 0.0), (28, 0.014778802381970275), (29, 0.0), (30, 0.0), (31, 0.0), (32, 0.008376177570083292), (33, 0.0), (34, 0.0), (35, 0.0), (36, 0.0), (37, 0.0), (38, 0.0), (39, 0.0), (40, 0.0), (41, 0.0035157893614046697), (42, 0.0), (43, 0.0), (44, 0.00417096144994564), (45, 0.0), (46, 0.0), (47, 0.0), (48, 0.006490627286836497), (49, 0.004844838982980995), (50, 0.0), (51, 0.0), (52, 0.00810046370192087), (53, 0.008466183599812206), (54, 0.00835779370046548), (55, 0.0), (56, 0.01406635985802028), (57, 0.0), (58, 0.0), (59, 0.003226395273549717), (60, 0.0), (61, 0.003124215660565687), (62, 0.0), (63, 0.0), (64, 0.0), (65, 0.0), (66, 0.0), (67, 0.0), (68, 0.0), (69, 0.0), (70, 0.0), (71, 0.004624584967593122), (72, 0.0), (73, 0.0), (74, 0.0), (75, 0.0), (76, 0.004727204991419062), (77, 0.006265690634770645), (78, 0.011837280118494251), (79, 0.0), (80, 0.0), (81, 0.0), (82, 0.0), (83, 0.0), (84, 0.0), (85, 0.0045751716797754124), (86, 0.0), (87, 0.0), (88, 0.0), (89, 0.0), (90, 0.0), (91, 0.0), (92, 0.0), (93, 0.0), (94, 0.0), (95, 0.0), (96, 0.0), (97, 0.0), (98, 0.004713967846597466), (99, 0.0), (100, 0.006187361590889499), (101, 0.0), (102, 0.0), (103, 0.0), (104, 0.0), (105, 0.0), (106, 0.0), (107, 0.0), (108, 0.0), (109, 0.0), (110, 0.0), (111, 0.0), (112, 0.0), (113, 0.0), (114, 0.0), (115, 0.0), (116, 0.011363735549932922), (117, 0.0), (118, 0.0), (119, 0.0), (120, 0.0), (121, 0.004726380041217633), (122, 0.008551639612627471), (123, 0.0), (124, 0.0), (125, 0.0), (126, 0.0), (127, 0.0), (128, 0.0), (129, 0.0), (130, 0.0), (131, 0.0), (132, 0.0072564367358548), (133, 0.0), (134, 0.0), (135, 0.0), (136, 0.0), (137, 0.003185592808989264), (138, 0.0), (139, 0.0), (140, 0.0), (141, 0.0), (142, 0.0), (143, 0.0), (144, 0.0), (145, 0.0), (146, 0.0), (147, 0.0), (148, 0.0), (149, 0.0), (150, 0.0), (151, 0.0), (152, 0.0), (153, 0.008315250088214252), (154, 0.0), (155, 0.0063643532406816436), (156, 0.0), (157, 0.0), (158, 0.004125006060701135), (159, 0.0), (160, 0.0), (161, 0.025808216035981466), (162, 0.0), (163, 0.0), (164, 0.0), (165, 0.0), (166, 0.0), (167, 0.0), (168, 0.005299701379451928), (169, 0.0), (170, 0.0), (171, 0.0), (172, 0.0), (173, 0.0), (174, 0.0), (175, 0.0), (176, 0.0), (177, 0.0), (178, 0.0), (179, 0.0), (180, 0.0), (181, 0.0), (182, 0.0), (183, 0.0), (184, 0.0), (185, 0.00372536641262958), (186, 0.004255524505572825), (187, 0.0), (188, 0.0), (189, 0.0), (190, 0.0), (191, 0.0), (192, 0.008729952161495956), (193, 0.0), (194, 0.0), (195, 0.0), (196, 0.0), (197, 0.0), (198, 0.0), (199, 0.009573607520975178), (200, 0.0), (201, 0.0), (202, 0.010839791399228759), (203, 0.009291592344687795), (204, 0.0), (205, 0.009495411549221618), (206, 0.003709920965923649), (207, 0.0), (208, 0.0), (209, 0.0), (210, 0.0), (211, 0.0), (212, 0.0), (213, 0.0), (214, 0.0), (215, 0.0), (216, 0.0), (217, 0.0), (218, 0.0), (219, 0.0), (220, 0.0), (221, 0.0), (222, 0.0), (223, 0.0), (224, 0.0), (225, 0.006748889142258535), (226, 0.0), (227, 0.0), (228, 0.0), (229, 0.0), (230, 0.004874160069171041), (231, 0.0), (232, 0.008206915298257242), (233, 0.009701230062310745), (234, 0.0), (235, 0.0), (236, 0.0), (237, 0.0), (238, 0.0), (239, 0.0), (240, 0.0), (241, 0.0), (242, 0.006577650511250058), (243, 0.0), (244, 0.0), (245, 0.0), (246, 0.0), (247, 0.0), (248, 0.004835059126205021), (249, 0.0), (250, 0.004683326897130532), (251, 0.0), (252, 0.0), (253, 0.00699630321237145), (254, 0.006511530286521791), (255, 0.0), (256, 0.0), (257, 0.0), (258, 0.0), (259, 0.0), (260, 0.0), (261, 0.012278819413414743), (262, 0.0), (263, 0.0), (264, 0.0), (265, 0.0), (266, 0.0), (267, 0.004135628640543335), (268, 0.0), (269, 0.0), (270, 0.0), (271, 0.0), (272, 0.0), (273, 0.0), (274, 0.0), (275, 0.011000682915816405), (276, 0.006797091130931001), (277, 0.0), (278, 0.005743460380775213), (279, 0.004364058703398429), (280, 0.012637156160051899), (281, 0.0), (282, 0.0), (283, 0.005213042122614868), (284, 0.02640889542777451), (285, 0.0), (286, 0.0), (287, 0.006723091065749409), (288, 0.0), (289, 0.0), (290, 0.0), (291, 0.0), (292, 0.0), (293, 0.0), (294, 0.0), (295, 0.006943375133076606), (296, 0.0), (297, 0.0), (298, 0.0), (299, 0.0), (300, 0.0037055766688923893), (301, 0.0), (302, 0.007908260513008778), (303, 0.0), (304, 0.0), (305, 0.0), (306, 0.00391182099385382), (307, 0.0), (308, 0.0), (309, 0.0), (310, 0.0), (311, 0.0), (312, 0.0), (313, 0.003754249189979328), (314, 0.0), (315, 0.005758859076718525), (316, 0.0), (317, 0.0), (318, 0.0), (319, 0.0), (320, 0.004052097722458344), (321, 0.0), (322, 0.0), (323, 0.0), (324, 0.0), (325, 0.0), (326, 0.011607788288760563), (327, 0.0), (328, 0.006950433038633823), (329, 0.006483027688670808), (330, 0.0), (331, 0.0), (332, 0.0), (333, 0.005142578764432967), (334, 0.0), (335, 0.0), (336, 0.0), (337, 0.0), (338, 0.0), (339, 0.012191121261938293), (340, 0.0), (341, 0.0), (342, 0.0), (343, 0.0), (344, 0.0), (345, 0.0), (346, 0.0), (347, 0.005915022358170296), (348, 0.0), (349, 0.0), (350, 0.0), (351, 0.0), (352, 0.0), (353, 0.0), (354, 0.0), (355, 0.0), (356, 0.0), (357, 0.0), (358, 0.005250692006577774), (359, 0.0), (360, 0.0), (361, 0.0), (362, 0.0), (363, 0.0), (364, 0.0), (365, 0.0), (366, 0.0), (367, 0.0), (368, 0.0), (369, 0.0), (370, 0.0), (371, 0.0), (372, 0.0), (373, 0.0), (374, 0.0), (375, 0.0), (376, 0.004820167780702488), (377, 0.0), (378, 0.0), (379, 0.0), (380, 0.0053022725990286), (381, 0.01667119634342587), (382, 0.0), (383, 0.007370231760462847), (384, 0.0037343127585753207), (385, 0.0), (386, 0.0), (387, 0.0), (388, 0.0), (389, 0.002950660917320024), (390, 0.0), (391, 0.0), (392, 0.0), (393, 0.0), (394, 0.0), (395, 0.014411677244506784), (396, 0.004546518109807412), (397, 0.008537045293525876), (398, 0.0), (399, 0.0), (400, 0.0), (401, 0.0), (402, 0.0502436368207457), (403, 0.0), (404, 0.012279504744488582), (405, 0.0), (406, 0.005456628464808971), (407, 0.0), (408, 0.0), (409, 0.0), (410, 0.0), (411, 0.0), (412, 0.0), (413, 0.004689313610240883), (414, 0.0), (415, 0.0), (416, 0.0), (417, 0.0), (418, 0.006844562319322176), (419, 0.0), (420, 0.005140215497319557), (421, 0.0), (422, 0.0), (423, 0.0), (424, 0.0), (425, 0.013562309798368493), (426, 0.0), (427, 0.0), (428, 0.014478554098440911), (429, 0.0), (430, 0.0), (431, 0.0), (432, 0.0), (433, 0.0), (434, 0.0), (435, 0.0), (436, 0.0), (437, 0.047023817411782715), (438, 0.0), (439, 0.0), (440, 0.0), (441, 0.0), (442, 0.0), (443, 0.0), (444, 0.016771399805688446), (445, 0.0), (446, 0.0), (447, 0.004961833074095605), (448, 0.0), (449, 0.006104655505424671), (450, 0.0), (451, 0.0), (452, 0.0), (453, 0.0), (454, 0.0), (455, 0.0), (456, 0.0), (457, 0.0), (458, 0.0), (459, 0.004746020078944555), (460, 0.0), (461, 0.0), (462, 0.0), (463, 0.007927368732963404), (464, 0.005679015084417207), (465, 0.0), (466, 0.0), (467, 0.0), (468, 0.0), (469, 0.004860167077398304), (470, 0.0), (471, 0.0), (472, 0.0), (473, 0.004365882826684431), (474, 0.0), (475, 0.012545780431121662), (476, 0.0), (477, 0.0), (478, 0.0), (479, 0.0), (480, 0.002892105097006438), (481, 0.0), (482, 0.0), (483, 0.0), (484, 0.00802990173522877), (485, 0.0), (486, 0.0037076789848363443), (487, 0.0), (488, 0.0), (489, 0.005013591239257979), (490, 0.0), (491, 0.0), (492, 0.0), (493, 0.007770737321185656), (494, 0.0), (495, 0.0), (496, 0.0), (497, 0.0), (498, 0.0), (499, 0.0), (500, 0.0), (501, 0.0), (502, 0.0), (503, 0.0), (504, 0.007368405101808566), (505, 0.0), (506, 0.004490218193715558), (507, 0.022214933560027184), (508, 0.0), (509, 0.0), (510, 0.0032597441673280986), (511, 0.0), (512, 0.0), (513, 0.0), (514, 0.0), (515, 0.0), (516, 0.0), (517, 0.0), (518, 0.010300703468924729), (519, 0.0), (520, 0.004664728961989026), (521, 0.0), (522, 0.0), (523, 0.0), (524, 0.0), (525, 0.0), (526, 0.0), (527, 0.006330404718772629), (528, 0.004108175365049141), (529, 0.028516161507014477), (530, 0.0), (531, 0.0), (532, 0.0), (533, 0.0), (534, 0.0), (535, 0.0), (536, 0.0), (537, 0.0), (538, 0.0), (539, 0.004247614233501919), (540, 0.011346645040127855), (541, 0.0), (542, 0.0054889506700886775), (543, 0.009112159744604734), (544, 0.0), (545, 0.0), (546, 0.004734529136892161), (547, 0.003982425684070943), (548, 0.007568110583488261), (549, 0.0), (550, 0.013972825052804231), (551, 0.017467226501454665), (552, 0.0), (553, 0.0), (554, 0.0027533282520429215), (555, 0.0), (556, 0.0), (557, 0.0), (558, 0.0), (559, 0.0), (560, 0.0), (561, 0.0), (562, 0.0), (563, 0.0), (564, 0.009541349751957631), (565, 0.004715179673656771), (566, 0.0), (567, 0.0), (568, 0.0), (569, 0.0), (570, 0.0), (571, 0.004506882509855416), (572, 0.0033662637302249872), (573, 0.0), (574, 0.0), (575, 0.0), (576, 0.0), (577, 0.0), (578, 0.0), (579, 0.0), (580, 0.0), (581, 0.0), (582, 0.0), (583, 0.0), (584, 0.0), (585, 0.0), (586, 0.0), (587, 0.0), (588, 0.0), (589, 0.0), (590, 0.0), (591, 0.0), (592, 0.0), (593, 0.003999937845478613), (594, 0.0), (595, 0.0), (596, 0.0), (597, 0.0), (598, 0.0), (599, 0.0), (600, 0.0054266589249358085), (601, 0.004390587796187201), (602, 0.005420038671757454), (603, 0.0), (604, 0.0), (605, 0.0), (606, 0.0), (607, 0.0), (608, 0.0), (609, 0.0), (610, 0.0), (611, 0.0), (612, 0.0), (613, 0.0), (614, 0.0), (615, 0.004568372540228709), (616, 0.004852085225318023), (617, 0.006037721545996595), (618, 0.0), (619, 0.0), (620, 0.005924448776335257), (621, 0.0), (622, 0.0), (623, 0.0), (624, 0.012218056185788737), (625, 0.0), (626, 0.0), (627, 0.0), (628, 0.0), (629, 0.004330029420513415), (630, 0.0), (631, 0.0), (632, 0.0), (633, 0.014310220424972292), (634, 0.004406949589516847), (635, 0.0), (636, 0.03363312573436446), (637, 0.0), (638, 0.0), (639, 0.011182974032918262), (640, 0.0), (641, 0.0), (642, 0.005329272066443939), (643, 0.0), (644, 0.0), (645, 0.0), (646, 0.0), (647, 0.0), (648, 0.0), (649, 0.0036998162571105124), (650, 0.0), (651, 0.0), (652, 0.0), (653, 0.010029038808396973), (654, 0.0), (655, 0.0), (656, 0.0), (657, 0.0), (658, 0.0), (659, 0.0), (660, 0.0), (661, 0.0), (662, 0.0), (663, 0.004176653427209712), (664, 0.0), (665, 0.0), (666, 0.0), (667, 0.0), (668, 0.005717556798391647), (669, 0.0), (670, 0.0), (671, 0.005942977412827133), (672, 0.0), (673, 0.0), (674, 0.0), (675, 0.0), (676, 0.0), (677, 0.0), (678, 0.0), (679, 0.0), (680, 0.0), (681, 0.0), (682, 0.0), (683, 0.0), (684, 0.0), (685, 0.0), (686, 0.016869864549117763), (687, 0.0), (688, 0.0), (689, 0.006104324594981639), (690, 0.006168873769754232), (691, 0.004569026583472756), (692, 0.0), (693, 0.0), (694, 0.0), (695, 0.0), (696, 0.0), (697, 0.004116393025028661), (698, 0.005032214702692444), (699, 0.0), (700, 0.0), (701, 0.0), (702, 0.0), (703, 0.005780547026832016), (704, 0.0), (705, 0.0), (706, 0.0), (707, 0.013729191250310482), (708, 0.0), (709, 0.0), (710, 0.0071582986740839905), (711, 0.0), (712, 0.0), (713, 0.0), (714, 0.0), (715, 0.004779337910695064), (716, 0.0), (717, 0.0), (718, 0.0), (719, 0.0), (720, 0.006080684209206389), (721, 0.0), (722, 0.0), (723, 0.004499845298950636), (724, 0.0028677205957270144), (725, 0.0), (726, 0.0), (727, 0.004511615878106467), (728, 0.006743264814726373), (729, 0.0), (730, 0.0), (731, 0.0), (732, 0.0), (733, 0.0), (734, 0.0), (735, 0.0), (736, 0.0), (737, 0.0), (738, 0.0), (739, 0.0), (740, 0.0), (741, 0.0), (742, 0.0), (743, 0.0), (744, 0.0), (745, 0.0), (746, 0.0), (747, 0.0), (748, 0.0), (749, 0.0), (750, 0.0), (751, 0.0), (752, 0.0), (753, 0.0), (754, 0.0), (755, 0.0), (756, 0.0), (757, 0.0), (758, 0.0), (759, 0.0), (760, 0.011532129223951307), (761, 0.0), (762, 0.0), (763, 0.0), (764, 0.0), (765, 0.0), (766, 0.0), (767, 0.0), (768, 0.0), (769, 0.0), (770, 0.0), (771, 0.003522598535882626), (772, 0.021075265467543507), (773, 0.0), (774, 0.0), (775, 0.002688922561556428), (776, 0.006937650610476289), (777, 0.0), (778, 0.0), (779, 0.0), (780, 0.0), (781, 0.0), (782, 0.0), (783, 0.0), (784, 0.0), (785, 0.005346985480648723), (786, 0.006259757293754404), (787, 0.0), (788, 0.005157076111435), (789, 0.0), (790, 0.0), (791, 0.0), (792, 0.0), (793, 0.003654735385973486), (794, 0.0), (795, 0.0), (796, 0.00490365199520782), (797, 0.0), (798, 0.0), (799, 0.0), (800, 0.0), (801, 0.0), (802, 0.0), (803, 0.0), (804, 0.006251613367713502), (805, 0.0), (806, 0.0), (807, 0.0), (808, 0.0), (809, 0.005052584771441602), (810, 0.0), (811, 0.005648028063970792), (812, 0.0), (813, 0.005267621881847597), (814, 0.0), (815, 0.0), (816, 0.0), (817, 0.0), (818, 0.0), (819, 0.0), (820, 0.0), (821, 0.0), (822, 0.0047138260050591085), (823, 0.0), (824, 0.0), (825, 0.011162365376691585), (826, 0.0), (827, 0.0), (828, 0.0), (829, 0.004135077094371808), (830, 0.006639608154792324), (831, 0.0), (832, 0.0), (833, 0.0), (834, 0.0), (835, 0.0), (836, 0.0), (837, 0.0), (838, 0.0), (839, 0.0), (840, 0.0), (841, 0.0), (842, 0.0), (843, 0.0), (844, 0.0), (845, 0.0), (846, 0.0), (847, 0.0), (848, 0.0), (849, 0.0042646806774577556), (850, 0.0), (851, 0.0), (852, 0.0), (853, 0.0), (854, 0.0), (855, 0.009089278878074635), (856, 0.005559188856953644), (857, 0.006066669076192244), (858, 0.0), (859, 0.0), (860, 0.0), (861, 0.0), (862, 0.0), (863, 0.0), (864, 0.0), (865, 0.03724183728630855), (866, 0.0), (867, 0.0), (868, 0.0), (869, 0.0), (870, 0.0), (871, 0.0), (872, 0.006133013741320127), (873, 0.0), (874, 0.0), (875, 0.0), (876, 0.0), (877, 0.0), (878, 0.0), (879, 0.0), (880, 0.0), (881, 0.0), (882, 0.0), (883, 0.0), (884, 0.0), (885, 0.008417917766892293), (886, 0.005866902686062394), (887, 0.0), (888, 0.0), (889, 0.07185882463754448), (890, 0.0), (891, 0.0), (892, 0.0033984749336549496), (893, 0.0), (894, 0.0), (895, 0.0), (896, 0.0), (897, 0.0), (898, 0.007199928629387301), (899, 0.0), (900, 0.0071676513425117895), (901, 0.0), (902, 0.0), (903, 0.0), (904, 0.0), (905, 0.0), (906, 0.011848761170539089), (907, 0.0), (908, 0.0034667364030214858), (909, 0.0), (910, 0.0), (911, 0.0), (912, 0.006917476711139021), (913, 0.0), (914, 0.0037602133987881267), (915, 0.0), (916, 0.0), (917, 0.0), (918, 0.007502790521553315), (919, 0.0), (920, 0.0), (921, 0.0), (922, 0.0), (923, 0.0), (924, 0.007333241802051501), (925, 0.0), (926, 0.0), (927, 0.0), (928, 0.0), (929, 0.0), (930, 0.005050385771579636), (931, 0.0), (932, 0.0), (933, 0.0), (934, 0.0), (935, 0.0), (936, 0.0), (937, 0.0), (938, 0.0), (939, 0.0), (940, 0.0), (941, 0.0), (942, 0.0), (943, 0.008200926534328582), (944, 0.0), (945, 0.0077383914810868655), (946, 0.010056937154140222), (947, 0.0), (948, 0.011930413327197954), (949, 0.004783398203130637), (950, 0.0), (951, 0.0), (952, 0.005388838225612708), (953, 0.0), (954, 0.0), (955, 0.0), (956, 0.007783848378460541), (957, 0.0), (958, 0.0), (959, 0.0), (960, 0.0), (961, 0.0), (962, 0.0), (963, 0.0), (964, 0.0), (965, 0.0), (966, 0.0), (967, 0.0), (968, 0.0026818447140700883), (969, 0.0), (970, 0.0), (971, 0.004447791104081015), (972, 0.0), (973, 0.0), (974, 0.0), (975, 0.00982150274754204), (976, 0.0), (977, 0.0), (978, 0.0), (979, 0.0), (980, 0.0), (981, 0.0), (982, 0.0), (983, 0.005194986512189709), (984, 0.0), (985, 0.0), (986, 0.009326781154848309), (987, 0.0), (988, 0.0), (989, 0.0), (990, 0.0), (991, 0.0), (992, 0.0), (993, 0.0), (994, 0.051611500499819975), (995, 0.0), (996, 0.0), (997, 0.0), (998, 0.0), (999, 0.006294164787049763), (1000, 0.0), (1001, 0.0), (1002, 0.0), (1003, 0.0), (1004, 0.00532529774350626), (1005, 0.0), (1006, 0.0), (1007, 0.0), (1008, 0.005117005708639693), (1009, 0.0), (1010, 0.0), (1011, 0.0), (1012, 0.0), (1013, 0.0), (1014, 0.0), (1015, 0.0), (1016, 0.0), (1017, 0.0), (1018, 0.0), (1019, 0.005923337922642543), (1020, 0.0), (1021, 0.0), (1022, 0.00929174962618769), (1023, 0.009303158766065444), (1024, 0.0), (1025, 0.0), (1026, 0.0), (1027, 0.0), (1028, 0.0), (1029, 0.0), (1030, 0.011699376232218247), (1031, 0.0), (1032, 0.0), (1033, 0.0), (1034, 0.0), (1035, 0.0), (1036, 0.0048001462323427075), (1037, 0.0), (1038, 0.0), (1039, 0.004296877291763449), (1040, 0.0), (1041, 0.0), (1042, 0.0), (1043, 0.0), (1044, 0.004921421243032475), (1045, 0.0), (1046, 0.0), (1047, 0.0), (1048, 0.0), (1049, 0.0), (1050, 0.0), (1051, 0.0), (1052, 0.0), (1053, 0.0), (1054, 0.025978190868601984), (1055, 0.0), (1056, 0.0), (1057, 0.007696107654303311), (1058, 0.0), (1059, 0.0), (1060, 0.0), (1061, 0.0), (1062, 0.0), (1063, 0.014778463372328767), (1064, 0.004371251218672839), (1065, 0.0), (1066, 0.0), (1067, 0.0), (1068, 0.0), (1069, 0.0), (1070, 0.003251737180922207), (1071, 0.0), (1072, 0.0), (1073, 0.0), (1074, 0.0), (1075, 0.0), (1076, 0.00397814716984327), (1077, 0.0), (1078, 0.0), (1079, 0.0), (1080, 0.0), (1081, 0.0), (1082, 0.0), (1083, 0.0), (1084, 0.0), (1085, 0.0), (1086, 0.0), (1087, 0.0), (1088, 0.0), (1089, 0.0), (1090, 0.0), (1091, 0.0), (1092, 0.0), (1093, 0.0), (1094, 0.0), (1095, 0.0), (1096, 0.0), (1097, 0.0), (1098, 0.0), (1099, 0.0), (1100, 0.0), (1101, 0.0037066429459522467), (1102, 0.0), (1103, 0.0), (1104, 0.005450269120051947), (1105, 0.002949901981524077), (1106, 0.005475660208726267), (1107, 0.0), (1108, 0.0), (1109, 0.0), (1110, 0.0), (1111, 0.0), (1112, 0.0), (1113, 0.0), (1114, 0.00854713770274935), (1115, 0.005400888778705592), (1116, 0.0), (1117, 0.004254379497142387), (1118, 0.0), (1119, 0.0), (1120, 0.00454667863106832), (1121, 0.0), (1122, 0.0), (1123, 0.0), (1124, 0.0), (1125, 0.0), (1126, 0.0), (1127, 0.006493364560139167), (1128, 0.0), (1129, 0.0), (1130, 0.0), (1131, 0.0), (1132, 0.0), (1133, 0.0), (1134, 0.0), (1135, 0.011164501039874479), (1136, 0.010496145254417201), (1137, 0.0), (1138, 0.0), (1139, 0.0), (1140, 0.0), (1141, 0.0), (1142, 0.0), (1143, 0.0), (1144, 0.0), (1145, 0.004664194203801218), (1146, 0.006738118845158432), (1147, 0.008389700177578823), (1148, 0.0), (1149, 0.0), (1150, 0.0), (1151, 0.0), (1152, 0.0), (1153, 0.007740332913890889), (1154, 0.0), (1155, 0.0), (1156, 0.0), (1157, 0.0), (1158, 0.0), (1159, 0.0), (1160, 0.0), (1161, 0.0), (1162, 0.0), (1163, 0.0), (1164, 0.005139031311271697), (1165, 0.0), (1166, 0.0), (1167, 0.0), (1168, 0.0), (1169, 0.0), (1170, 0.0), (1171, 0.0), (1172, 0.0), (1173, 0.006454744447431252), (1174, 0.0), (1175, 0.0), (1176, 0.008557121852954137), (1177, 0.0), (1178, 0.0), (1179, 0.0), (1180, 0.0), (1181, 0.0), (1182, 0.0), (1183, 0.0), (1184, 0.0), (1185, 0.006095421985937647), (1186, 0.0), (1187, 0.004784066284111863), (1188, 0.0), (1189, 0.0), (1190, 0.004282590885540252), (1191, 0.0), (1192, 0.0), (1193, 0.0), (1194, 0.0), (1195, 0.008607918487766113), (1196, 0.0), (1197, 0.0), (1198, 0.0), (1199, 0.0), (1200, 0.0), (1201, 0.0), (1202, 0.0), (1203, 0.0), (1204, 0.0), (1205, 0.0), (1206, 0.0), (1207, 0.0), (1208, 0.0), (1209, 0.0), (1210, 0.0), (1211, 0.005221983362864908), (1212, 0.0), (1213, 0.0), (1214, 0.0), (1215, 0.0), (1216, 0.005007097312333895), (1217, 0.0), (1218, 0.004066498007168306), (1219, 0.0050868153359793335), (1220, 0.0), (1221, 0.0), (1222, 0.0), (1223, 0.0), (1224, 0.0), (1225, 0.02708563343296596), (1226, 0.0), (1227, 0.0035878044027110065), (1228, 0.0), (1229, 0.0), (1230, 0.00593674158468686), (1231, 0.0), (1232, 0.0), (1233, 0.0), (1234, 0.0), (1235, 0.0), (1236, 0.00649895039836683), (1237, 0.0), (1238, 0.0), (1239, 0.0), (1240, 0.008449739191332063), (1241, 0.0), (1242, 0.004586306764540607), (1243, 0.0), (1244, 0.0), (1245, 0.0), (1246, 0.004107828260096588), (1247, 0.0), (1248, 0.0), (1249, 0.0), (1250, 0.0), (1251, 0.0), (1252, 0.0), (1253, 0.0), (1254, 0.0), (1255, 0.0), (1256, 0.0), (1257, 0.008540729201331266), (1258, 0.00874245892388055), (1259, 0.0), (1260, 0.0), (1261, 0.0063484206084715175), (1262, 0.0), (1263, 0.0), (1264, 0.004073016697940298), (1265, 0.0), (1266, 0.0), (1267, 0.0), (1268, 0.0), (1269, 0.0), (1270, 0.0), (1271, 0.003871223827731377), (1272, 0.0), (1273, 0.0), (1274, 0.0), (1275, 0.0), (1276, 0.0), (1277, 0.009308169596965146), (1278, 0.0), (1279, 0.005093471457013067), (1280, 0.004481896853535456), (1281, 0.0), (1282, 0.0), (1283, 0.0), (1284, 0.0), (1285, 0.0), (1286, 0.0), (1287, 0.008423566333805688), (1288, 0.0), (1289, 0.0), (1290, 0.0), (1291, 0.00780088593594459), (1292, 0.0), (1293, 0.0), (1294, 0.0), (1295, 0.0), (1296, 0.0), (1297, 0.0), (1298, 0.0049962124108062465), (1299, 0.0), (1300, 0.0), (1301, 0.0), (1302, 0.0), (1303, 0.0), (1304, 0.006833241483432207), (1305, 0.0), (1306, 0.010455482646657842), (1307, 0.0), (1308, 0.0), (1309, 0.0), (1310, 0.0), (1311, 0.0), (1312, 0.0), (1313, 0.0), (1314, 0.0), (1315, 0.0), (1316, 0.0), (1317, 0.0), (1318, 0.0), (1319, 0.00912842902450223), (1320, 0.0), (1321, 0.0), (1322, 0.005034889795989384), (1323, 0.004985003693508316), (1324, 0.009524786416845846), (1325, 0.00527130953051207), (1326, 0.0), (1327, 0.0), (1328, 0.0), (1329, 0.0), (1330, 0.0), (1331, 0.0), (1332, 0.0), (1333, 0.004225366094742999), (1334, 0.0), (1335, 0.0), (1336, 0.0), (1337, 0.0), (1338, 0.0), (1339, 0.0), (1340, 0.0), (1341, 0.0), (1342, 0.004747047202621342), (1343, 0.0), (1344, 0.005899016660391071), (1345, 0.004072534341723154), (1346, 0.0), (1347, 0.0), (1348, 0.0), (1349, 0.0), (1350, 0.0), (1351, 0.0), (1352, 0.0), (1353, 0.004841502116749302), (1354, 0.0), (1355, 0.0), (1356, 0.0), (1357, 0.0), (1358, 0.0), (1359, 0.0), (1360, 0.0), (1361, 0.0), (1362, 0.0), (1363, 0.0), (1364, 0.0), (1365, 0.0), (1366, 0.0), (1367, 0.0), (1368, 0.005083722668103031), (1369, 0.0), (1370, 0.0), (1371, 0.0), (1372, 0.0), (1373, 0.0), (1374, 0.010192178458497982), (1375, 0.0), (1376, 0.0), (1377, 0.0), (1378, 0.0), (1379, 0.0), (1380, 0.0), (1381, 0.0), (1382, 0.0), (1383, 0.005248993876507673), (1384, 0.00796689868212908), (1385, 0.0), (1386, 0.006023482056285357), (1387, 0.0), (1388, 0.0), (1389, 0.0), (1390, 0.004433179586943275), (1391, 0.0), (1392, 0.0), (1393, 0.0), (1394, 0.0), (1395, 0.0), (1396, 0.010002582971785145), (1397, 0.0), (1398, 0.0), (1399, 0.0), (1400, 0.0), (1401, 0.0), (1402, 0.0), (1403, 0.0), (1404, 0.008450328725879249), (1405, 0.0), (1406, 0.0), (1407, 0.0), (1408, 0.0), (1409, 0.0), (1410, 0.010746219510375256), (1411, 0.0), (1412, 0.0), (1413, 0.0), (1414, 0.0), (1415, 0.01870113340372078), (1416, 0.0), (1417, 0.0), (1418, 0.0), (1419, 0.004876077013966164), (1420, 0.0), (1421, 0.0), (1422, 0.0), (1423, 0.0), (1424, 0.0036841114400812834), (1425, 0.0), (1426, 0.0), (1427, 0.007761057892540264), (1428, 0.0), (1429, 0.0), (1430, 0.0), (1431, 0.0), (1432, 0.0), (1433, 0.0), (1434, 0.008669927512249305), (1435, 0.0), (1436, 0.0), (1437, 0.0), (1438, 0.005092673109749926), (1439, 0.0), (1440, 0.022193818970030595), (1441, 0.0), (1442, 0.0041058016389360855), (1443, 0.0), (1444, 0.008548947802589326), (1445, 0.0), (1446, 0.0), (1447, 0.0), (1448, 0.0), (1449, 0.0), (1450, 0.0), (1451, 0.0), (1452, 0.0), (1453, 0.0), (1454, 0.0), (1455, 0.0), (1456, 0.00696670008512731), (1457, 0.0), (1458, 0.0), (1459, 0.0), (1460, 0.0), (1461, 0.0), (1462, 0.006835335039089236), (1463, 0.0), (1464, 0.0), (1465, 0.011451119381863615), (1466, 0.0), (1467, 0.0), (1468, 0.0), (1469, 0.005360552157804099), (1470, 0.0), (1471, 0.0), (1472, 0.0), (1473, 0.0), (1474, 0.0), (1475, 0.0), (1476, 0.0), (1477, 0.0), (1478, 0.0), (1479, 0.0), (1480, 0.01978400936806719), (1481, 0.0), (1482, 0.005659767070059914), (1483, 0.0), (1484, 0.0), (1485, 0.010069238555170775), (1486, 0.0033904336183630144), (1487, 0.006383794206289999), (1488, 0.0), (1489, 0.0), (1490, 0.0), (1491, 0.0), (1492, 0.0), (1493, 0.0), (1494, 0.0), (1495, 0.0), (1496, 0.009883505905185073), (1497, 0.0), (1498, 0.0), (1499, 0.0), (1500, 0.0), (1501, 0.0), (1502, 0.0), (1503, 0.0), (1504, 0.0), (1505, 0.0), (1506, 0.0), (1507, 0.0), (1508, 0.0), (1509, 0.0), (1510, 0.0), (1511, 0.0), (1512, 0.0), (1513, 0.0), (1514, 0.0), (1515, 0.0044965744477394026), (1516, 0.0), (1517, 0.0), (1518, 0.0), (1519, 0.0), (1520, 0.0), (1521, 0.0), (1522, 0.0), (1523, 0.005469387038239093), (1524, 0.0), (1525, 0.0), (1526, 0.0), (1527, 0.0), (1528, 0.0), (1529, 0.0), (1530, 0.0), (1531, 0.0), (1532, 0.0), (1533, 0.0), (1534, 0.0), (1535, 0.0), (1536, 0.0), (1537, 0.0), (1538, 0.0), (1539, 0.0), (1540, 0.0), (1541, 0.0), (1542, 0.0), (1543, 0.005113014674882845), (1544, 0.0), (1545, 0.006522578928412007), (1546, 0.0), (1547, 0.0), (1548, 0.0), (1549, 0.0), (1550, 0.014282199506033119), (1551, 0.0), (1552, 0.03115124671796864), (1553, 0.005837130152920088), (1554, 0.0), (1555, 0.004308718876689871), (1556, 0.0), (1557, 0.0), (1558, 0.00491417262240813), (1559, 0.0), (1560, 0.0), (1561, 0.0), (1562, 0.0), (1563, 0.0), (1564, 0.0), (1565, 0.0), (1566, 0.008730820643200316), (1567, 0.0), (1568, 0.0), (1569, 0.01598303988967999), (1570, 0.007568373171857556), (1571, 0.0), (1572, 0.0), (1573, 0.0), (1574, 0.0), (1575, 0.008389924649655262), (1576, 0.012855371881807347), (1577, 0.008910730529091427), (1578, 0.0), (1579, 0.0), (1580, 0.005882808193451299), (1581, 0.0), (1582, 0.0), (1583, 0.0), (1584, 0.0), (1585, 0.0), (1586, 0.0), (1587, 0.0), (1588, 0.0), (1589, 0.0), (1590, 0.0), (1591, 0.009920436843893371), (1592, 0.0), (1593, 0.0), (1594, 0.0), (1595, 0.004645947272375581), (1596, 0.0), (1597, 0.0), (1598, 0.0), (1599, 0.05564955916353284), (1600, 0.0), (1601, 0.0), (1602, 0.0), (1603, 0.008973841723841764), (1604, 0.0), (1605, 0.0), (1606, 0.0), (1607, 0.0), (1608, 0.0), (1609, 0.0), (1610, 0.0), (1611, 0.005514857034028857), (1612, 0.0), (1613, 0.0), (1614, 0.0), (1615, 0.0), (1616, 0.0), (1617, 0.0), (1618, 0.0050842100760503765), (1619, 0.0), (1620, 0.0), (1621, 0.0), (1622, 0.007229965772468707), (1623, 0.005610116764607635), (1624, 0.0), (1625, 0.0), (1626, 0.0), (1627, 0.0), (1628, 0.0), (1629, 0.0), (1630, 0.0), (1631, 0.0), (1632, 0.0), (1633, 0.0), (1634, 0.0), (1635, 0.0), (1636, 0.0), (1637, 0.0), (1638, 0.0), (1639, 0.0047472718955426955), (1640, 0.0), (1641, 0.0), (1642, 0.0), (1643, 0.0), (1644, 0.010341547418437241), (1645, 0.0046282351489260465), (1646, 0.008236797531833163), (1647, 0.0), (1648, 0.0), (1649, 0.0), (1650, 0.0), (1651, 0.0), (1652, 0.0), (1653, 0.0), (1654, 0.0), (1655, 0.0), (1656, 0.0), (1657, 0.0), (1658, 0.0), (1659, 0.0), (1660, 0.0), (1661, 0.0), (1662, 0.0), (1663, 0.0), (1664, 0.0), (1665, 0.006647200756550558), (1666, 0.0), (1667, 0.0), (1668, 0.0), (1669, 0.0), (1670, 0.0), (1671, 0.0), (1672, 0.0), (1673, 0.0), (1674, 0.0), (1675, 0.0), (1676, 0.0), (1677, 0.0), (1678, 0.0), (1679, 0.0059423632795294066), (1680, 0.0), (1681, 0.0), (1682, 0.005296737427577482), (1683, 0.0), (1684, 0.0), (1685, 0.0), (1686, 0.0), (1687, 0.0), (1688, 0.0), (1689, 0.0), (1690, 0.003442622163535948), (1691, 0.0), (1692, 0.0), (1693, 0.007060078587960498), (1694, 0.0), (1695, 0.0), (1696, 0.0), (1697, 0.004140576557373928), (1698, 0.0), (1699, 0.01446420085169374), (1700, 0.0), (1701, 0.002381480725878835), (1702, 0.005684248652010272), (1703, 0.0), (1704, 0.0031743702518263043), (1705, 0.0), (1706, 0.0), (1707, 0.0), (1708, 0.0), (1709, 0.018349378362794353), (1710, 0.0), (1711, 0.0), (1712, 0.0), (1713, 0.0), (1714, 0.0), (1715, 0.0), (1716, 0.0), (1717, 0.0), (1718, 0.004238251300502468), (1719, 0.0), (1720, 0.0), (1721, 0.0), (1722, 0.0), (1723, 0.0), (1724, 0.0), (1725, 0.0), (1726, 0.0), (1727, 0.0), (1728, 0.0), (1729, 0.0), (1730, 0.0), (1731, 0.0), (1732, 0.0), (1733, 0.0), (1734, 0.0), (1735, 0.0), (1736, 0.0), (1737, 0.006047588646204829), (1738, 0.0), (1739, 0.004726644706911512), (1740, 0.0), (1741, 0.0), (1742, 0.020036560948287596), (1743, 0.0), (1744, 0.0), (1745, 0.0), (1746, 0.0), (1747, 0.0), (1748, 0.009941331385179917), (1749, 0.006874204323666775), (1750, 0.005750056668003908), (1751, 0.0), (1752, 0.0), (1753, 0.0), (1754, 0.0), (1755, 0.0), (1756, 0.0), (1757, 0.0), (1758, 0.0), (1759, 0.0), (1760, 0.0), (1761, 0.0), (1762, 0.003520287242236328), (1763, 0.0), (1764, 0.007569830664231092), (1765, 0.0), (1766, 0.0), (1767, 0.0), (1768, 0.0), (1769, 0.0), (1770, 0.0), (1771, 0.0), (1772, 0.0), (1773, 0.0), (1774, 0.0), (1775, 0.0), (1776, 0.0), (1777, 0.014620325976513845), (1778, 0.0), (1779, 0.0), (1780, 0.0), (1781, 0.0), (1782, 0.0), (1783, 0.0), (1784, 0.0), (1785, 0.0), (1786, 0.0), (1787, 0.0), (1788, 0.0), (1789, 0.006667978990226986), (1790, 0.0), (1791, 0.0), (1792, 0.03962517365677308), (1793, 0.0), (1794, 0.0), (1795, 0.0), (1796, 0.0), (1797, 0.0), (1798, 0.0), (1799, 0.0), (1800, 0.0), (1801, 0.0), (1802, 0.0), (1803, 0.0), (1804, 0.0), (1805, 0.006544173263508446), (1806, 0.0), (1807, 0.007508090175953207), (1808, 0.0), (1809, 0.0), (1810, 0.0), (1811, 0.0), (1812, 0.0), (1813, 0.0), (1814, 0.0037369888787177267), (1815, 0.0), (1816, 0.0), (1817, 0.0), (1818, 0.0), (1819, 0.0), (1820, 0.0), (1821, 0.0), (1822, 0.0), (1823, 0.0), (1824, 0.0), (1825, 0.0), (1826, 0.0), (1827, 0.005955289171841842), (1828, 0.0), (1829, 0.0), (1830, 0.0), (1831, 0.0), (1832, 0.0), (1833, 0.0057651751234821386), (1834, 0.0), (1835, 0.0), (1836, 0.0), (1837, 0.0), (1838, 0.0), (1839, 0.0), (1840, 0.0), (1841, 0.004760074966326643), (1842, 0.007671754177165133), (1843, 0.0), (1844, 0.0), (1845, 0.0), (1846, 0.0), (1847, 0.00643856665736184), (1848, 0.006696142959588763), (1849, 0.0), (1850, 0.0), (1851, 0.0), (1852, 0.0), (1853, 0.0), (1854, 0.003612426496672314), (1855, 0.0), (1856, 0.0), (1857, 0.0), (1858, 0.007832070204996655), (1859, 0.0), (1860, 0.0), (1861, 0.0), (1862, 0.0), (1863, 0.006794784329724518), (1864, 0.0), (1865, 0.0), (1866, 0.0), (1867, 0.008105088035598645), (1868, 0.0), (1869, 0.0), (1870, 0.005963119118446904), (1871, 0.0), (1872, 0.005756706852598997), (1873, 0.0), (1874, 0.0060140387443695644), (1875, 0.0), (1876, 0.0), (1877, 0.0), (1878, 0.0035493924127215828), (1879, 0.0), (1880, 0.0), (1881, 0.0), (1882, 0.0), (1883, 0.0), (1884, 0.006496932918239951), (1885, 0.0), (1886, 0.0), (1887, 0.0), (1888, 0.004864512507607604), (1889, 0.0), (1890, 0.0), (1891, 0.0), (1892, 0.0), (1893, 0.0), (1894, 0.0), (1895, 0.0), (1896, 0.0), (1897, 0.0), (1898, 0.0), (1899, 0.0), (1900, 0.0), (1901, 0.0), (1902, 0.0), (1903, 0.0), (1904, 0.0), (1905, 0.0), (1906, 0.01715922143114544), (1907, 0.0039851539125432996), (1908, 0.010820068781730606), (1909, 0.007099874754456108), (1910, 0.0), (1911, 0.0), (1912, 0.005528631813126984), (1913, 0.0), (1914, 0.0), (1915, 0.0060320035853141845), (1916, 0.0), (1917, 0.0), (1918, 0.0), (1919, 0.0), (1920, 0.0), (1921, 0.0), (1922, 0.0), (1923, 0.0), (1924, 0.009845193759394062), (1925, 0.0), (1926, 0.00874644978412724), (1927, 0.0), (1928, 0.0), (1929, 0.0), (1930, 0.0), (1931, 0.007348734479731935), (1932, 0.0), (1933, 0.023558149004020493), (1934, 0.0), (1935, 0.004993836602139405), (1936, 0.0), (1937, 0.0), (1938, 0.03831782683762844), (1939, 0.0), (1940, 0.01248472627002466), (1941, 0.0), (1942, 0.0), (1943, 0.0), (1944, 0.0), (1945, 0.0), (1946, 0.0023103339331737383), (1947, 0.0050739145890508035), (1948, 0.0), (1949, 0.004125971732240643), (1950, 0.0), (1951, 0.0), (1952, 0.0), (1953, 0.0), (1954, 0.0), (1955, 0.006385486865837834), (1956, 0.0), (1957, 0.0), (1958, 0.0), (1959, 0.02505133493790365), (1960, 0.005992751150994476), (1961, 0.0), (1962, 0.008493930127485016), (1963, 0.0), (1964, 0.0), (1965, 0.0), (1966, 0.0), (1967, 0.0), (1968, 0.01340027216325512), (1969, 0.0), (1970, 0.0093893403679275), (1971, 0.0), (1972, 0.0), (1973, 0.0), (1974, 0.0), (1975, 0.0), (1976, 0.0047238166542414575), (1977, 0.004495592519376325), (1978, 0.0), (1979, 0.0), (1980, 0.0), (1981, 0.005600714034882749), (1982, 0.0), (1983, 0.0), (1984, 0.0), (1985, 0.0), (1986, 0.0), (1987, 0.0), (1988, 0.0), (1989, 0.0), (1990, 0.0), (1991, 0.004038125790972648), (1992, 0.0), (1993, 0.0), (1994, 0.003750170137210359), (1995, 0.0), (1996, 0.0), (1997, 0.0036901357539250636), (1998, 0.0), (1999, 0.0), (2000, 0.007787007900566991), (2001, 0.0), (2002, 0.0), (2003, 0.0), (2004, 0.0), (2005, 0.015883526182713457), (2006, 0.0), (2007, 0.006237409337855212), (2008, 0.0), (2009, 0.0), (2010, 0.00457673527534236), (2011, 0.0), (2012, 0.0), (2013, 0.0), (2014, 0.0), (2015, 0.0), (2016, 0.0), (2017, 0.0), (2018, 0.0), (2019, 0.0), (2020, 0.004072674667629262), (2021, 0.0), (2022, 0.017518219926426642), (2023, 0.0), (2024, 0.0), (2025, 0.008089615171933615), (2026, 0.0), (2027, 0.0), (2028, 0.0), (2029, 0.0), (2030, 0.0), (2031, 0.0), (2032, 0.0), (2033, 0.0), (2034, 0.0), (2035, 0.008002688231052801), (2036, 0.0), (2037, 0.0), (2038, 0.004254554793833537), (2039, 0.0), (2040, 0.0), (2041, 0.0), (2042, 0.005925668871845667), (2043, 0.0), (2044, 0.0), (2045, 0.0), (2046, 0.0), (2047, 0.0), (2048, 0.0), (2049, 0.0), (2050, 0.0), (2051, 0.0), (2052, 0.004299647025558872), (2053, 0.005881056133041216), (2054, 0.0), (2055, 0.0), (2056, 0.0), (2057, 0.0), (2058, 0.0), (2059, 0.0), (2060, 0.0), (2061, 0.0), (2062, 0.0), (2063, 0.0025658917373048815), (2064, 0.008659161814307825), (2065, 0.0), (2066, 0.0), (2067, 0.0), (2068, 0.0), (2069, 0.0), (2070, 0.004764887466550605), (2071, 0.0), (2072, 0.0), (2073, 0.0038670882932516112), (2074, 0.0), (2075, 0.0), (2076, 0.0), (2077, 0.0), (2078, 0.009745834715493307), (2079, 0.0), (2080, 0.005871562769699795), (2081, 0.0), (2082, 0.0), (2083, 0.0), (2084, 0.0), (2085, 0.0), (2086, 0.005153315297297287), (2087, 0.0), (2088, 0.0), (2089, 0.0), (2090, 0.0), (2091, 0.0), (2092, 0.0), (2093, 0.009433826905040115), (2094, 0.0), (2095, 0.005195659854674951), (2096, 0.0), (2097, 0.005630119390826789), (2098, 0.0), (2099, 0.0), (2100, 0.0), (2101, 0.0), (2102, 0.011636125424315205), (2103, 0.0), (2104, 0.0), (2105, 0.0), (2106, 0.0), (2107, 0.0), (2108, 0.0046656424782119815), (2109, 0.0), (2110, 0.0), (2111, 0.0), (2112, 0.005930077389653981), (2113, 0.0), (2114, 0.0), (2115, 0.0), (2116, 0.0), (2117, 0.0), (2118, 0.003554193882768538), (2119, 0.007629507878455606), (2120, 0.00456469680398001), (2121, 0.0), (2122, 0.0), (2123, 0.0), (2124, 0.0), (2125, 0.0), (2126, 0.0), (2127, 0.0), (2128, 0.0), (2129, 0.0), (2130, 0.0), (2131, 0.010163712945577167), (2132, 0.0), (2133, 0.0), (2134, 0.0), (2135, 0.0), (2136, 0.0), (2137, 0.0060623012807500595), (2138, 0.0), (2139, 0.004167964139838669), (2140, 0.004919131297395417), (2141, 0.0), (2142, 0.0), (2143, 0.0), (2144, 0.0), (2145, 0.0), (2146, 0.0), (2147, 0.0), (2148, 0.0), (2149, 0.0), (2150, 0.0), (2151, 0.0), (2152, 0.0), (2153, 0.0), (2154, 0.008225087324859728), (2155, 0.0), (2156, 0.0), (2157, 0.0), (2158, 0.0), (2159, 0.0051992369916352785), (2160, 0.004903043018412383), (2161, 0.009210615676846706), (2162, 0.0), (2163, 0.0), (2164, 0.0), (2165, 0.0), (2166, 0.0), (2167, 0.004203732157744667), (2168, 0.0), (2169, 0.0), (2170, 0.01512811667191546), (2171, 0.0), (2172, 0.0), (2173, 0.0), (2174, 0.0), (2175, 0.0032672365408676555), (2176, 0.0), (2177, 0.0), (2178, 0.0), (2179, 0.013858668481541724), (2180, 0.004415964296364213), (2181, 0.0), (2182, 0.0), (2183, 0.0), (2184, 0.0), (2185, 0.0), (2186, 0.0), (2187, 0.005007878570373944), (2188, 0.0), (2189, 0.0), (2190, 0.0), (2191, 0.0), (2192, 0.0), (2193, 0.0), (2194, 0.0), (2195, 0.0), (2196, 0.0), (2197, 0.0), (2198, 0.0), (2199, 0.03577308407650194), (2200, 0.0), (2201, 0.0), (2202, 0.0), (2203, 0.0), (2204, 0.0), (2205, 0.0), (2206, 0.0), (2207, 0.0), (2208, 0.0), (2209, 0.0), (2210, 0.0), (2211, 0.0), (2212, 0.0), (2213, 0.0), (2214, 0.0), (2215, 0.0), (2216, 0.0), (2217, 0.0), (2218, 0.004294923291850611), (2219, 0.0), (2220, 0.0), (2221, 0.0), (2222, 0.0), (2223, 0.0), (2224, 0.0), (2225, 0.0), (2226, 0.0), (2227, 0.0), (2228, 0.0), (2229, 0.0), (2230, 0.008805659759317366), (2231, 0.005985225381640081), (2232, 0.0), (2233, 0.0), (2234, 0.0), (2235, 0.0), (2236, 0.0), (2237, 0.02862417082124397), (2238, 0.0), (2239, 0.007594214444153912), (2240, 0.0), (2241, 0.0), (2242, 0.0), (2243, 0.0), (2244, 0.0), (2245, 0.0), (2246, 0.0), (2247, 0.0), (2248, 0.0), (2249, 0.0), (2250, 0.0), (2251, 0.0), (2252, 0.0), (2253, 0.0), (2254, 0.0), (2255, 0.0), (2256, 0.0), (2257, 0.0), (2258, 0.005264617564661446), (2259, 0.0), (2260, 0.0), (2261, 0.0), (2262, 0.0), (2263, 0.0), (2264, 0.0), (2265, 0.0), (2266, 0.0), (2267, 0.005529286714398659), (2268, 0.0), (2269, 0.0), (2270, 0.0), (2271, 0.0), (2272, 0.0), (2273, 0.0), (2274, 0.0), (2275, 0.0), (2276, 0.0), (2277, 0.0), (2278, 0.0), (2279, 0.0), (2280, 0.0), (2281, 0.0), (2282, 0.0), (2283, 0.0), (2284, 0.0), (2285, 0.0), (2286, 0.0), (2287, 0.006508800435671917), (2288, 0.0), (2289, 0.0), (2290, 0.0), (2291, 0.0), (2292, 0.007531496570740385), (2293, 0.0), (2294, 0.0036662513515733465), (2295, 0.0), (2296, 0.0), (2297, 0.0), (2298, 0.0), (2299, 0.0037657458212548888), (2300, 0.009226981503747723), (2301, 0.0), (2302, 0.0), (2303, 0.0), (2304, 0.0), (2305, 0.0), (2306, 0.0), (2307, 0.0), (2308, 0.0), (2309, 0.0), (2310, 0.007211685747061344), (2311, 0.0), (2312, 0.004333169567661448), (2313, 0.0), (2314, 0.0), (2315, 0.0), (2316, 0.0), (2317, 0.0), (2318, 0.0), (2319, 0.0), (2320, 0.0074843163073596885), (2321, 0.0), (2322, 0.0), (2323, 0.0), (2324, 0.0), (2325, 0.0), (2326, 0.0), (2327, 0.0), (2328, 0.020095838556999965), (2329, 0.0), (2330, 0.0), (2331, 0.0), (2332, 0.0), (2333, 0.0), (2334, 0.0), (2335, 0.0), (2336, 0.0), (2337, 0.0), (2338, 0.0), (2339, 0.0), (2340, 0.0), (2341, 0.0), (2342, 0.0), (2343, 0.0), (2344, 0.0), (2345, 0.0), (2346, 0.0), (2347, 0.0), (2348, 0.0), (2349, 0.0), (2350, 0.0), (2351, 0.010457351191761386), (2352, 0.003340383137691425), (2353, 0.0), (2354, 0.0), (2355, 0.0), (2356, 0.0038445807252804535), (2357, 0.0), (2358, 0.0), (2359, 0.0), (2360, 0.006176106015392377), (2361, 0.0), (2362, 0.0), (2363, 0.0), (2364, 0.0), (2365, 0.0), (2366, 0.0), (2367, 0.0), (2368, 0.007271395264210419), (2369, 0.007873568204938192), (2370, 0.0), (2371, 0.0), (2372, 0.0), (2373, 0.0), (2374, 0.0), (2375, 0.0), (2376, 0.0), (2377, 0.0), (2378, 0.0), (2379, 0.0), (2380, 0.0), (2381, 0.0), (2382, 0.0), (2383, 0.0), (2384, 0.0), (2385, 0.0), (2386, 0.0), (2387, 0.010615116551119547), (2388, 0.0), (2389, 0.0047288150873614826), (2390, 0.004335471088175358), (2391, 0.0), (2392, 0.004459817571412518), (2393, 0.004420136238024524), (2394, 0.0), (2395, 0.0), (2396, 0.0), (2397, 0.005742696759691065), (2398, 0.0), (2399, 0.0), (2400, 0.0), (2401, 0.0), (2402, 0.0), (2403, 0.0), (2404, 0.008135574854009795), (2405, 0.0), (2406, 0.00678033380207504), (2407, 0.0), (2408, 0.0), (2409, 0.005620812780035455), (2410, 0.0), (2411, 0.0), (2412, 0.0), (2413, 0.0), (2414, 0.0), (2415, 0.0), (2416, 0.014006054018471215), (2417, 0.0), (2418, 0.0), (2419, 0.0), (2420, 0.0), (2421, 0.005115561673758148), (2422, 0.011981923245783465), (2423, 0.03175321786098905), (2424, 0.0), (2425, 0.0), (2426, 0.0), (2427, 0.0), (2428, 0.0), (2429, 0.0), (2430, 0.003532332497258731), (2431, 0.0), (2432, 0.0), (2433, 0.0), (2434, 0.0031785481379980217), (2435, 0.0), (2436, 0.0), (2437, 0.0), (2438, 0.0), (2439, 0.0036132689348769556), (2440, 0.007084704080954008), (2441, 0.0), (2442, 0.005864657521513189), (2443, 0.0), (2444, 0.0), (2445, 0.0), (2446, 0.0), (2447, 0.0), (2448, 0.0), (2449, 0.0), (2450, 0.0), (2451, 0.0), (2452, 0.002998161194494076), (2453, 0.0), (2454, 0.0), (2455, 0.0), (2456, 0.0), (2457, 0.0), (2458, 0.0), (2459, 0.0), (2460, 0.0), (2461, 0.0), (2462, 0.005705177177215464), (2463, 0.0), (2464, 0.0), (2465, 0.0), (2466, 0.005003977877805554), (2467, 0.0), (2468, 0.0), (2469, 0.0), (2470, 0.0), (2471, 0.009228504387594712), (2472, 0.0), (2473, 0.0), (2474, 0.009912591264609449), (2475, 0.0), (2476, 0.0), (2477, 0.0), (2478, 0.0), (2479, 0.0), (2480, 0.0), (2481, 0.011113619331005676), (2482, 0.0), (2483, 0.0), (2484, 0.0), (2485, 0.0), (2486, 0.006572559882533083), (2487, 0.0), (2488, 0.010012103119230658), (2489, 0.0093220491404815), (2490, 0.0), (2491, 0.0), (2492, 0.0), (2493, 0.0), (2494, 0.0), (2495, 0.0), (2496, 0.0), (2497, 0.0), (2498, 0.0), (2499, 0.0), (2500, 0.0), (2501, 0.0), (2502, 0.24806754761844269), (2503, 0.0), (2504, 0.0), (2505, 0.003926972747474868), (2506, 0.0), (2507, 0.00619184550300303), (2508, 0.0), (2509, 0.0), (2510, 0.0), (2511, 0.004861598932269795), (2512, 0.0), (2513, 0.0), (2514, 0.0), (2515, 0.012185261614680802), (2516, 0.008540470280563464), (2517, 0.0), (2518, 0.00566246222629716), (2519, 0.0), (2520, 0.0), (2521, 0.0), (2522, 0.0), (2523, 0.0), (2524, 0.006911731804135156), (2525, 0.0), (2526, 0.0), (2527, 0.0), (2528, 0.0036952794834128147), (2529, 0.0), (2530, 0.0), (2531, 0.0), (2532, 0.0), (2533, 0.0), (2534, 0.0), (2535, 0.0), (2536, 0.0), (2537, 0.0), (2538, 0.0), (2539, 0.009970906563292463), (2540, 0.0), (2541, 0.0), (2542, 0.0), (2543, 0.0), (2544, 0.0), (2545, 0.0), (2546, 0.011672931890589962), (2547, 0.10163965417886676), (2548, 0.0), (2549, 0.0), (2550, 0.0), (2551, 0.0), (2552, 0.0), (2553, 0.0), (2554, 0.0), (2555, 0.0), (2556, 0.0), (2557, 0.0), (2558, 0.0), (2559, 0.0), (2560, 0.007971671361394926), (2561, 0.0), (2562, 0.0), (2563, 0.0), (2564, 0.0), (2565, 0.0), (2566, 0.0), (2567, 0.0), (2568, 0.0), (2569, 0.0), (2570, 0.0), (2571, 0.0), (2572, 0.0), (2573, 0.0), (2574, 0.0), (2575, 0.0), (2576, 0.0), (2577, 0.0), (2578, 0.0), (2579, 0.0), (2580, 0.0), (2581, 0.0), (2582, 0.004485344981943004), (2583, 0.004674683331310733), (2584, 0.0), (2585, 0.0036588649918339374), (2586, 0.004159657822990479), (2587, 0.005096528520660196), (2588, 0.0), (2589, 0.01118459681671797), (2590, 0.0), (2591, 0.0), (2592, 0.003504201081911673), (2593, 0.004576009097270094), (2594, 0.0), (2595, 0.0), (2596, 0.0), (2597, 0.01103164841376604), (2598, 0.0), (2599, 0.005754748897467945), (2600, 0.0), (2601, 0.0), (2602, 0.0), (2603, 0.0), (2604, 0.0), (2605, 0.0), (2606, 0.0), (2607, 0.006735654415102464), (2608, 0.0), (2609, 0.0), (2610, 0.0), (2611, 0.0), (2612, 0.0), (2613, 0.01818044828464904), (2614, 0.0), (2615, 0.03832604797832363), (2616, 0.0), (2617, 0.0), (2618, 0.0), (2619, 0.0), (2620, 0.013059781821253433), (2621, 0.0), (2622, 0.0), (2623, 0.006368971790193686), (2624, 0.0), (2625, 0.0), (2626, 0.0), (2627, 0.0), (2628, 0.0), (2629, 0.0), (2630, 0.0), (2631, 0.0), (2632, 0.0), (2633, 0.0), (2634, 0.0), (2635, 0.0042210020840308905), (2636, 0.0), (2637, 0.0), (2638, 0.0), (2639, 0.0), (2640, 0.0), (2641, 0.014971617208255376), (2642, 0.009571657504229452), (2643, 0.0), (2644, 0.0), (2645, 0.0), (2646, 0.004641036227331319), (2647, 0.0), (2648, 0.0049211125299387405), (2649, 0.0), (2650, 0.009250605768645623), (2651, 0.0), (2652, 0.0), (2653, 0.0), (2654, 0.0), (2655, 0.0), (2656, 0.0), (2657, 0.0), (2658, 0.0), (2659, 0.0), (2660, 0.0), (2661, 0.006364137865930178), (2662, 0.0), (2663, 0.0), (2664, 0.00553114244042955), (2665, 0.005817986137497128), (2666, 0.0), (2667, 0.0), (2668, 0.0), (2669, 0.0), (2670, 0.0), (2671, 0.0), (2672, 0.0), (2673, 0.004166677942383071), (2674, 0.0), (2675, 0.0), (2676, 0.0), (2677, 0.0), (2678, 0.007374450803705901), (2679, 0.0), (2680, 0.0), (2681, 0.0), (2682, 0.0), (2683, 0.0), (2684, 0.0), (2685, 0.0), (2686, 0.0), (2687, 0.0), (2688, 0.004183826120119126), (2689, 0.0), (2690, 0.032104707448109934), (2691, 0.0), (2692, 0.0), (2693, 0.0), (2694, 0.0), (2695, 0.0), (2696, 0.0), (2697, 0.0), (2698, 0.004992554323435085), (2699, 0.004957674255482728), (2700, 0.0), (2701, 0.0), (2702, 0.0), (2703, 0.0), (2704, 0.0), (2705, 0.0), (2706, 0.0), (2707, 0.0), (2708, 0.0), (2709, 0.0), (2710, 0.0), (2711, 0.013361251933735404), (2712, 0.0), (2713, 0.0), (2714, 0.0), (2715, 0.0), (2716, 0.0), (2717, 0.0), (2718, 0.0), (2719, 0.0), (2720, 0.0), (2721, 0.00931496217217374), (2722, 0.0), (2723, 0.0), (2724, 0.0), (2725, 0.008107069509862624), (2726, 0.0), (2727, 0.0), (2728, 0.0), (2729, 0.0), (2730, 0.0), (2731, 0.0), (2732, 0.0), (2733, 0.0), (2734, 0.004879182607110294), (2735, 0.0), (2736, 0.0), (2737, 0.0), (2738, 0.004803333689756542), (2739, 0.0), (2740, 0.0), (2741, 0.0), (2742, 0.0), (2743, 0.0), (2744, 0.0), (2745, 0.0), (2746, 0.0), (2747, 0.0), (2748, 0.0), (2749, 0.0049869654901896834), (2750, 0.00915068259487415), (2751, 0.010118116976610336), (2752, 0.0), (2753, 0.0), (2754, 0.0), (2755, 0.005305895038248812), (2756, 0.0), (2757, 0.0), (2758, 0.0), (2759, 0.014966627380458154), (2760, 0.01019657228005691), (2761, 0.0), (2762, 0.015852228901899405), (2763, 0.0), (2764, 0.0), (2765, 0.0), (2766, 0.0), (2767, 0.0), (2768, 0.0), (2769, 0.0), (2770, 0.008259611292924487), (2771, 0.0), (2772, 0.0), (2773, 0.0), (2774, 0.0), (2775, 0.0), (2776, 0.005819258183509731), (2777, 0.0), (2778, 0.0), (2779, 0.0), (2780, 0.0), (2781, 0.0), (2782, 0.0), (2783, 0.0), (2784, 0.007869042837317902), (2785, 0.0), (2786, 0.0), (2787, 0.005110753824897168), (2788, 0.0), (2789, 0.0), (2790, 0.006842586414179329), (2791, 0.004289583755643995), (2792, 0.003855486869779756), (2793, 0.0), (2794, 0.0), (2795, 0.0), (2796, 0.0), (2797, 0.0), (2798, 0.0), (2799, 0.0), (2800, 0.0), (2801, 0.0), (2802, 0.004920818297888696), (2803, 0.0), (2804, 0.013575573861981601), (2805, 0.0), (2806, 0.005058114010343682), (2807, 0.008193561356052054), (2808, 0.0), (2809, 0.0), (2810, 0.0), (2811, 0.005376531799173604), (2812, 0.0), (2813, 0.0), (2814, 0.0), (2815, 0.0), (2816, 0.007375462596862205), (2817, 0.011656280811157323), (2818, 0.0), (2819, 0.0), (2820, 0.0), (2821, 0.0), (2822, 0.005408847091195583), (2823, 0.0), (2824, 0.0029756980269996965), (2825, 0.0), (2826, 0.0), (2827, 0.0), (2828, 0.0075544364489823265), (2829, 0.0), (2830, 0.008960691944182683), (2831, 0.0), (2832, 0.0), (2833, 0.0), (2834, 0.0), (2835, 0.0), (2836, 0.007537751113047307), (2837, 0.0), (2838, 0.0), (2839, 0.0), (2840, 0.0), (2841, 0.0), (2842, 0.008757153145412233), (2843, 0.0), (2844, 0.004204712377214452), (2845, 0.0053701906281898625), (2846, 0.003943059218671212), (2847, 0.0), (2848, 0.0), (2849, 0.0), (2850, 0.0), (2851, 0.0), (2852, 0.0), (2853, 0.0), (2854, 0.00513432358553188), (2855, 0.0), (2856, 0.0), (2857, 0.005671809568778903), (2858, 0.0), (2859, 0.0), (2860, 0.0), (2861, 0.0), (2862, 0.0), (2863, 0.0), (2864, 0.0), (2865, 0.005787326349962373), (2866, 0.0), (2867, 0.0), (2868, 0.0), (2869, 0.0), (2870, 0.0), (2871, 0.0), (2872, 0.0), (2873, 0.0), (2874, 0.0), (2875, 0.0), (2876, 0.0), (2877, 0.003478050692875224), (2878, 0.0), (2879, 0.0), (2880, 0.0), (2881, 0.0), (2882, 0.0), (2883, 0.0), (2884, 0.0), (2885, 0.007846336790206096), (2886, 0.0), (2887, 0.0), (2888, 0.0), (2889, 0.0), (2890, 0.0), (2891, 0.0), (2892, 0.008139120894969468), (2893, 0.00387297173658753), (2894, 0.006313269270566348), (2895, 0.005630335314143551), (2896, 0.0), (2897, 0.0), (2898, 0.0), (2899, 0.01784204650553902), (2900, 0.010983041105618149), (2901, 0.0), (2902, 0.0), (2903, 0.0), (2904, 0.0), (2905, 0.0), (2906, 0.0), (2907, 0.0), (2908, 0.0), (2909, 0.0), (2910, 0.0), (2911, 0.0), (2912, 0.0), (2913, 0.0), (2914, 0.0), (2915, 0.0), (2916, 0.0), (2917, 0.0), (2918, 0.0), (2919, 0.0), (2920, 0.0), (2921, 0.0), (2922, 0.0), (2923, 0.0), (2924, 0.0), (2925, 0.0), (2926, 0.0), (2927, 0.0), (2928, 0.0), (2929, 0.00967953794583395), (2930, 0.007106508111066468), (2931, 0.0), (2932, 0.0), (2933, 0.007784498069644987), (2934, 0.0), (2935, 0.0), (2936, 0.0), (2937, 0.0), (2938, 0.007348082469938786), (2939, 0.005855859630369391), (2940, 0.0), (2941, 0.006124490784208773), (2942, 0.0), (2943, 0.0), (2944, 0.0), (2945, 0.0), (2946, 0.0), (2947, 0.0), (2948, 0.0), (2949, 0.0), (2950, 0.00720406826718223), (2951, 0.0), (2952, 0.0), (2953, 0.0), (2954, 0.0), (2955, 0.0), (2956, 0.0), (2957, 0.0), (2958, 0.025980413508433157), (2959, 0.0), (2960, 0.0), (2961, 0.0), (2962, 0.0), (2963, 0.01154394729345409), (2964, 0.0070442707690655994), (2965, 0.00502339209647019), (2966, 0.0), (2967, 0.0), (2968, 0.0), (2969, 0.0), (2970, 0.0), (2971, 0.0), (2972, 0.0), (2973, 0.0), (2974, 0.0), (2975, 0.0), (2976, 0.0), (2977, 0.0), (2978, 0.0), (2979, 0.0), (2980, 0.0), (2981, 0.0), (2982, 0.0), (2983, 0.0), (2984, 0.0), (2985, 0.0), (2986, 0.0), (2987, 0.0), (2988, 0.0), (2989, 0.0), (2990, 0.0), (2991, 0.01052202902158541), (2992, 0.0), (2993, 0.0), (2994, 0.0), (2995, 0.0), (2996, 0.0), (2997, 0.0), (2998, 0.0), (2999, 0.0), (3000, 0.0), (3001, 0.0), (3002, 0.0), (3003, 0.0), (3004, 0.0), (3005, 0.0), (3006, 0.0), (3007, 0.0), (3008, 0.0), (3009, 0.0), (3010, 0.003947220332279623), (3011, 0.0), (3012, 0.004639653488817593), (3013, 0.0), (3014, 0.0), (3015, 0.0), (3016, 0.0), (3017, 0.00888770355226789), (3018, 0.0), (3019, 0.0), (3020, 0.0), (3021, 0.0), (3022, 0.0), (3023, 0.0), (3024, 0.0), (3025, 0.0), (3026, 0.015667360487496968), (3027, 0.0), (3028, 0.0), (3029, 0.0), (3030, 0.0), (3031, 0.007260227560111307), (3032, 0.0), (3033, 0.0), (3034, 0.0), (3035, 0.0), (3036, 0.0), (3037, 0.0), (3038, 0.0), (3039, 0.0), (3040, 0.0), (3041, 0.0), (3042, 0.0), (3043, 0.0), (3044, 0.0), (3045, 0.0), (3046, 0.0), (3047, 0.0), (3048, 0.006881097511541308), (3049, 0.0), (3050, 0.0), (3051, 0.0), (3052, 0.0), (3053, 0.0), (3054, 0.0), (3055, 0.0059989503474081425), (3056, 0.0), (3057, 0.0), (3058, 0.006600188419999539), (3059, 0.0), (3060, 0.0), (3061, 0.0), (3062, 0.0), (3063, 0.0), (3064, 0.0), (3065, 0.0), (3066, 0.0), (3067, 0.0), (3068, 0.006578615906241626), (3069, 0.0), (3070, 0.007972975310471076), (3071, 0.0), (3072, 0.0), (3073, 0.0), (3074, 0.0), (3075, 0.002808355064720213), (3076, 0.00638300386357459), (3077, 0.0), (3078, 0.0), (3079, 0.012813890250047177), (3080, 0.0037875710555219594), (3081, 0.0), (3082, 0.0), (3083, 0.0), (3084, 0.0), (3085, 0.0), (3086, 0.0), (3087, 0.003397797717499541), (3088, 0.0), (3089, 0.0), (3090, 0.0), (3091, 0.0), (3092, 0.0), (3093, 0.0), (3094, 0.0), (3095, 0.009702006096267882), (3096, 0.0), (3097, 0.04001833819038358), (3098, 0.0), (3099, 0.0), (3100, 0.0), (3101, 0.0), (3102, 0.007173088194380192), (3103, 0.0), (3104, 0.0), (3105, 0.014083597597012065), (3106, 0.0), (3107, 0.0), (3108, 0.0), (3109, 0.0), (3110, 0.0), (3111, 0.0), (3112, 0.0), (3113, 0.0), (3114, 0.0), (3115, 0.0), (3116, 0.0), (3117, 0.0), (3118, 0.005112596073453755), (3119, 0.0), (3120, 0.0), (3121, 0.0), (3122, 0.0), (3123, 0.010192799850243534), (3124, 0.0), (3125, 0.0), (3126, 0.0), (3127, 0.0), (3128, 0.011322495059483777), (3129, 0.0), (3130, 0.0), (3131, 0.0), (3132, 0.0), (3133, 0.0), (3134, 0.0), (3135, 0.0), (3136, 0.0), (3137, 0.0), (3138, 0.005854441552017785), (3139, 0.0), (3140, 0.0), (3141, 0.0), (3142, 0.0), (3143, 0.0066257824638079115), (3144, 0.0), (3145, 0.0), (3146, 0.005577530493579035), (3147, 0.004007007056530364), (3148, 0.0), (3149, 0.0), (3150, 0.0), (3151, 0.0), (3152, 0.0), (3153, 0.0), (3154, 0.0), (3155, 0.0), (3156, 0.0), (3157, 0.0), (3158, 0.0), (3159, 0.004896299015081165), (3160, 0.0), (3161, 0.0), (3162, 0.0), (3163, 0.0), (3164, 0.0), (3165, 0.006592194737504943), (3166, 0.004044971466467199), (3167, 0.0), (3168, 0.008001738737957098), (3169, 0.0), (3170, 0.0), (3171, 0.0), (3172, 0.005874611942967201), (3173, 0.0), (3174, 0.0), (3175, 0.0), (3176, 0.0065710477353412965), (3177, 0.0), (3178, 0.009454002540524515), (3179, 0.0), (3180, 0.0), (3181, 0.0), (3182, 0.0), (3183, 0.0), (3184, 0.0), (3185, 0.005785567864749534), (3186, 0.0), (3187, 0.0), (3188, 0.01081227223631861), (3189, 0.0), (3190, 0.0), (3191, 0.0), (3192, 0.0), (3193, 0.0), (3194, 0.0), (3195, 0.007890267631428848), (3196, 0.008704498022579887), (3197, 0.0), (3198, 0.0), (3199, 0.0), (3200, 0.0), (3201, 0.0), (3202, 0.0), (3203, 0.0), (3204, 0.0), (3205, 0.0), (3206, 0.0), (3207, 0.0), (3208, 0.0), (3209, 0.0), (3210, 0.0), (3211, 0.0), (3212, 0.0), (3213, 0.005599341045127139), (3214, 0.0), (3215, 0.0), (3216, 0.004746517005370683), (3217, 0.0), (3218, 0.0), (3219, 0.0), (3220, 0.0), (3221, 0.010306534143582156), (3222, 0.0), (3223, 0.0), (3224, 0.0), (3225, 0.0), (3226, 0.0), (3227, 0.0), (3228, 0.0), (3229, 0.0), (3230, 0.0), (3231, 0.0), (3232, 0.00948999845825684), (3233, 0.008398947509132018), (3234, 0.0), (3235, 0.0), (3236, 0.0), (3237, 0.0), (3238, 0.0), (3239, 0.0), (3240, 0.0), (3241, 0.00582251839565209), (3242, 0.0), (3243, 0.0), (3244, 0.0), (3245, 0.008233196403701964), (3246, 0.0), (3247, 0.0), (3248, 0.004259125944528712), (3249, 0.0), (3250, 0.0), (3251, 0.006500055898933853), (3252, 0.0), (3253, 0.0), (3254, 0.0), (3255, 0.009272788193993617), (3256, 0.0), (3257, 0.0), (3258, 0.0), (3259, 0.0), (3260, 0.0), (3261, 0.0), (3262, 0.0), (3263, 0.0), (3264, 0.0), (3265, 0.0), (3266, 0.0), (3267, 0.0), (3268, 0.0), (3269, 0.004862725884160476), (3270, 0.0), (3271, 0.0), (3272, 0.008537065012801675), (3273, 0.0), (3274, 0.0), (3275, 0.006068987319809549), (3276, 0.0), (3277, 0.005788583063919537), (3278, 0.0), (3279, 0.012149431567022573), (3280, 0.0), (3281, 0.0), (3282, 0.0), (3283, 0.0), (3284, 0.0), (3285, 0.0), (3286, 0.0), (3287, 0.0), (3288, 0.0), (3289, 0.006686546879824942), (3290, 0.0), (3291, 0.0), (3292, 0.0), (3293, 0.0), (3294, 0.0), (3295, 0.0), (3296, 0.0), (3297, 0.007696498161473768), (3298, 0.0), (3299, 0.0), (3300, 0.0), (3301, 0.0), (3302, 0.005123830155867791), (3303, 0.0), (3304, 0.0), (3305, 0.0), (3306, 0.0), (3307, 0.0), (3308, 0.0), (3309, 0.0), (3310, 0.0), (3311, 0.007554096966643721), (3312, 0.0), (3313, 0.0), (3314, 0.0), (3315, 0.0), (3316, 0.0), (3317, 0.0), (3318, 0.0), (3319, 0.0), (3320, 0.004326457789558799), (3321, 0.0), (3322, 0.0), (3323, 0.0), (3324, 0.0), (3325, 0.0), (3326, 0.008350829122294684), (3327, 0.0), (3328, 0.00911294598750655), (3329, 0.0), (3330, 0.0), (3331, 0.0), (3332, 0.0), (3333, 0.0), (3334, 0.0), (3335, 0.0), (3336, 0.0), (3337, 0.005645422744032667), (3338, 0.0), (3339, 0.0), (3340, 0.0), (3341, 0.00514316676818743), (3342, 0.0), (3343, 0.0), (3344, 0.0), (3345, 0.0), (3346, 0.0), (3347, 0.0), (3348, 0.0), (3349, 0.0), (3350, 0.0), (3351, 0.0), (3352, 0.0), (3353, 0.0), (3354, 0.0), (3355, 0.0), (3356, 0.0), (3357, 0.0), (3358, 0.006614851093793266), (3359, 0.005640233202793402), (3360, 0.005167287560327501), (3361, 0.0), (3362, 0.0), (3363, 0.0057754334507817825), (3364, 0.0), (3365, 0.0), (3366, 0.0), (3367, 0.004296169039195505), (3368, 0.009003214925092061), (3369, 0.0), (3370, 0.0), (3371, 0.0), (3372, 0.0), (3373, 0.0), (3374, 0.0), (3375, 0.0), (3376, 0.011371284346044435), (3377, 0.0), (3378, 0.0), (3379, 0.0), (3380, 0.0), (3381, 0.004792453710326656), (3382, 0.0), (3383, 0.012398226454534401), (3384, 0.00938335757517152), (3385, 0.0), (3386, 0.0), (3387, 0.0), (3388, 0.0), (3389, 0.0), (3390, 0.0), (3391, 0.0), (3392, 0.0), (3393, 0.0), (3394, 0.0), (3395, 0.0), (3396, 0.0), (3397, 0.0), (3398, 0.0), (3399, 0.0), (3400, 0.0), (3401, 0.0), (3402, 0.0), (3403, 0.0), (3404, 0.0), (3405, 0.0), (3406, 0.0), (3407, 0.0), (3408, 0.004481954042594007), (3409, 0.0), (3410, 0.0), (3411, 0.004184829632497485), (3412, 0.01473878972752491), (3413, 0.0), (3414, 0.004961011183435987), (3415, 0.0), (3416, 0.0), (3417, 0.0), (3418, 0.0), (3419, 0.003150369738034091), (3420, 0.0), (3421, 0.0), (3422, 0.00383152273176304), (3423, 0.0), (3424, 0.0), (3425, 0.0), (3426, 0.0), (3427, 0.0), (3428, 0.0034656665012924564), (3429, 0.007671396773896123), (3430, 0.0), (3431, 0.0), (3432, 0.0), (3433, 0.0), (3434, 0.0), (3435, 0.0), (3436, 0.0), (3437, 0.0), (3438, 0.0), (3439, 0.0), (3440, 0.0), (3441, 0.0), (3442, 0.0), (3443, 0.0), (3444, 0.0), (3445, 0.0), (3446, 0.0), (3447, 0.0), (3448, 0.0044972856229335955), (3449, 0.0), (3450, 0.0), (3451, 0.00763209806178326), (3452, 0.0), (3453, 0.0), (3454, 0.004204557914795252), (3455, 0.007545140423285907), (3456, 0.0), (3457, 0.0), (3458, 0.0028311233413627845), (3459, 0.0), (3460, 0.0), (3461, 0.0), (3462, 0.0), (3463, 0.0036212044187585004), (3464, 0.005790356930367853), (3465, 0.0), (3466, 0.0), (3467, 0.0), (3468, 0.0), (3469, 0.0), (3470, 0.004591878329393297), (3471, 0.005551759330777463), (3472, 0.0), (3473, 0.0), (3474, 0.0), (3475, 0.0), (3476, 0.0), (3477, 0.0), (3478, 0.0), (3479, 0.0), (3480, 0.0), (3481, 0.0), (3482, 0.0), (3483, 0.0), (3484, 0.0), (3485, 0.0), (3486, 0.0), (3487, 0.0), (3488, 0.0), (3489, 0.0), (3490, 0.0), (3491, 0.0), (3492, 0.0), (3493, 0.0), (3494, 0.0), (3495, 0.004719023750354234), (3496, 0.0), (3497, 0.0), (3498, 0.0), (3499, 0.0), (3500, 0.0), (3501, 0.0), (3502, 0.0), (3503, 0.0057005137422429806), (3504, 0.006333984946011109), (3505, 0.0), (3506, 0.006587834426879795), (3507, 0.0), (3508, 0.0), (3509, 0.0), (3510, 0.0), (3511, 0.0), (3512, 0.0), (3513, 0.0), (3514, 0.0), (3515, 0.0), (3516, 0.0), (3517, 0.0), (3518, 0.0), (3519, 0.0), (3520, 0.0), (3521, 0.0), (3522, 0.0), (3523, 0.0), (3524, 0.008433566318881225), (3525, 0.0), (3526, 0.004166891492023027), (3527, 0.0), (3528, 0.007274743236756674), (3529, 0.0), (3530, 0.0), (3531, 0.0), (3532, 0.0), (3533, 0.0), (3534, 0.0), (3535, 0.004739875133820885), (3536, 0.0), (3537, 0.0), (3538, 0.0), (3539, 0.0), (3540, 0.0), (3541, 0.0), (3542, 0.005492442889571908), (3543, 0.0), (3544, 0.012104312649470029), (3545, 0.0), (3546, 0.0), (3547, 0.0), (3548, 0.0), (3549, 0.005487592138764383), (3550, 0.0), (3551, 0.0), (3552, 0.0), (3553, 0.0), (3554, 0.0), (3555, 0.004440525639962624), (3556, 0.0), (3557, 0.0), (3558, 0.0), (3559, 0.0), (3560, 0.0), (3561, 0.0), (3562, 0.005713730114092986), (3563, 0.005595975867016037), (3564, 0.0), (3565, 0.0), (3566, 0.0), (3567, 0.0), (3568, 0.0), (3569, 0.0), (3570, 0.0), (3571, 0.0), (3572, 0.0), (3573, 0.0), (3574, 0.0), (3575, 0.0), (3576, 0.0), (3577, 0.0), (3578, 0.0), (3579, 0.0), (3580, 0.0), (3581, 0.0), (3582, 0.0), (3583, 0.0), (3584, 0.0), (3585, 0.0), (3586, 0.007480226703864287), (3587, 0.0), (3588, 0.0), (3589, 0.0), (3590, 0.0), (3591, 0.0), (3592, 0.0), (3593, 0.006040473566397875), (3594, 0.0), (3595, 0.0), (3596, 0.007079269987465005), (3597, 0.0), (3598, 0.0), (3599, 0.012064042497334209), (3600, 0.004883049133213885), (3601, 0.010411170701593225), (3602, 0.006539377634029068), (3603, 0.0), (3604, 0.0), (3605, 0.0), (3606, 0.0), (3607, 0.0), (3608, 0.0), (3609, 0.007386490904756521), (3610, 0.0), (3611, 0.0), (3612, 0.004722863818612977), (3613, 0.0), (3614, 0.0), (3615, 0.0), (3616, 0.0), (3617, 0.0), (3618, 0.0), (3619, 0.01053865084225432), (3620, 0.0), (3621, 0.0), (3622, 0.0), (3623, 0.0), (3624, 0.007456104871814972), (3625, 0.0), (3626, 0.0), (3627, 0.0), (3628, 0.0), (3629, 0.0), (3630, 0.0), (3631, 0.0), (3632, 0.0), (3633, 0.0), (3634, 0.0), (3635, 0.0), (3636, 0.0), (3637, 0.0), (3638, 0.0), (3639, 0.0), (3640, 0.006251656893000465), (3641, 0.0), (3642, 0.0), (3643, 0.0), (3644, 0.0), (3645, 0.0), (3646, 0.0), (3647, 0.0), (3648, 0.009560540332576842), (3649, 0.0), (3650, 0.0), (3651, 0.0041748188956199075), (3652, 0.0), (3653, 0.0), (3654, 0.0), (3655, 0.0), (3656, 0.0), (3657, 0.006122790149229977), (3658, 0.0), (3659, 0.0), (3660, 0.0), (3661, 0.0), (3662, 0.0), (3663, 0.0), (3664, 0.0), (3665, 0.02651198976969623), (3666, 0.0), (3667, 0.0), (3668, 0.0), (3669, 0.0), (3670, 0.0), (3671, 0.0), (3672, 0.0), (3673, 0.0096139264179136), (3674, 0.0), (3675, 0.010382849029152864), (3676, 0.0), (3677, 0.007263677992452875), (3678, 0.0), (3679, 0.0), (3680, 0.0), (3681, 0.0), (3682, 0.0), (3683, 0.0), (3684, 0.0), (3685, 0.003574883613475267), (3686, 0.0), (3687, 0.0), (3688, 0.0), (3689, 0.0), (3690, 0.0), (3691, 0.0), (3692, 0.0), (3693, 0.006190652229306282), (3694, 0.0), (3695, 0.010382619248816838), (3696, 0.0), (3697, 0.0), (3698, 0.0), (3699, 0.007800335944411866), (3700, 0.0), (3701, 0.0), (3702, 0.0), (3703, 0.0), (3704, 0.0), (3705, 0.0), (3706, 0.0), (3707, 0.0), (3708, 0.0), (3709, 0.0), (3710, 0.0), (3711, 0.01047810640190018), (3712, 0.0), (3713, 0.0), (3714, 0.0), (3715, 0.0), (3716, 0.0), (3717, 0.0), (3718, 0.0), (3719, 0.0), (3720, 0.0), (3721, 0.00571005528063461), (3722, 0.0), (3723, 0.0), (3724, 0.0), (3725, 0.0), (3726, 0.0), (3727, 0.004232668242793294), (3728, 0.004106551811413612), (3729, 0.0), (3730, 0.0), (3731, 0.0), (3732, 0.0), (3733, 0.0), (3734, 0.004110070797070658), (3735, 0.006079647613401738), (3736, 0.0), (3737, 0.0), (3738, 0.0), (3739, 0.0), (3740, 0.0), (3741, 0.0), (3742, 0.0), (3743, 0.0), (3744, 0.0), (3745, 0.0), (3746, 0.0), (3747, 0.0), (3748, 0.0), (3749, 0.0), (3750, 0.0), (3751, 0.0), (3752, 0.0), (3753, 0.0), (3754, 0.0), (3755, 0.0), (3756, 0.008913893777845804), (3757, 0.0), (3758, 0.0), (3759, 0.0), (3760, 0.0), (3761, 0.0), (3762, 0.0), (3763, 0.02480394611077217), (3764, 0.0), (3765, 0.0), (3766, 0.0), (3767, 0.0), (3768, 0.0), (3769, 0.0), (3770, 0.0), (3771, 0.0), (3772, 0.0), (3773, 0.0), (3774, 0.009958678029149865), (3775, 0.0), (3776, 0.0), (3777, 0.004933434342451412), (3778, 0.0), (3779, 0.004679277067085715), (3780, 0.0), (3781, 0.0), (3782, 0.004873896734764818), (3783, 0.0), (3784, 0.0), (3785, 0.0), (3786, 0.0), (3787, 0.0), (3788, 0.0), (3789, 0.0), (3790, 0.0), (3791, 0.0), (3792, 0.0), (3793, 0.0), (3794, 0.0), (3795, 0.0), (3796, 0.0), (3797, 0.0), (3798, 0.0), (3799, 0.020376509092076594), (3800, 0.0), (3801, 0.0), (3802, 0.0), (3803, 0.0), (3804, 0.0), (3805, 0.0), (3806, 0.023158749645571856), (3807, 0.009093356495948416), (3808, 0.0), (3809, 0.0), (3810, 0.005311755711967146), (3811, 0.005991787999003516), (3812, 0.0), (3813, 0.0), (3814, 0.0), (3815, 0.0), (3816, 0.0), (3817, 0.0), (3818, 0.0), (3819, 0.0), (3820, 0.0), (3821, 0.0), (3822, 0.0), (3823, 0.0), (3824, 0.0), (3825, 0.0), (3826, 0.003926266965901282), (3827, 0.0), (3828, 0.0), (3829, 0.0), (3830, 0.0), (3831, 0.0), (3832, 0.0), (3833, 0.0), (3834, 0.0), (3835, 0.0), (3836, 0.0), (3837, 0.0), (3838, 0.0057820582439811925), (3839, 0.016527366716224207), (3840, 0.0), (3841, 0.0), (3842, 0.0023599530116595073), (3843, 0.0), (3844, 0.0), (3845, 0.0), (3846, 0.0), (3847, 0.0), (3848, 0.0), (3849, 0.0032673124369628813), (3850, 0.0), (3851, 0.0), (3852, 0.0), (3853, 0.0), (3854, 0.0), (3855, 0.0), (3856, 0.0), (3857, 0.0), (3858, 0.0), (3859, 0.0), (3860, 0.0), (3861, 0.0), (3862, 0.0), (3863, 0.0), (3864, 0.005523779551419544), (3865, 0.004762957845709785), (3866, 0.0), (3867, 0.004157625348661357), (3868, 0.0), (3869, 0.0), (3870, 0.0), (3871, 0.0), (3872, 0.0), (3873, 0.0), (3874, 0.0), (3875, 0.0), (3876, 0.00444286984790193), (3877, 0.006208336939448627), (3878, 0.0), (3879, 0.0), (3880, 0.0), (3881, 0.0), (3882, 0.0), (3883, 0.0), (3884, 0.0), (3885, 0.005115251367697944), (3886, 0.0), (3887, 0.0), (3888, 0.0), (3889, 0.004679267829465374), (3890, 0.0), (3891, 0.0), (3892, 0.0), (3893, 0.0), (3894, 0.0), (3895, 0.005025391975952808), (3896, 0.0), (3897, 0.0), (3898, 0.0), (3899, 0.0), (3900, 0.0), (3901, 0.0), (3902, 0.0), (3903, 0.0), (3904, 0.0), (3905, 0.0), (3906, 0.0), (3907, 0.0), (3908, 0.0), (3909, 0.0), (3910, 0.0), (3911, 0.002343218906550681), (3912, 0.0), (3913, 0.0), (3914, 0.0), (3915, 0.0), (3916, 0.010194710209467142), (3917, 0.0), (3918, 0.0), (3919, 0.003420222694894218), (3920, 0.0), (3921, 0.0), (3922, 0.0), (3923, 0.0), (3924, 0.0), (3925, 0.0), (3926, 0.0), (3927, 0.0), (3928, 0.0), (3929, 0.0), (3930, 0.0), (3931, 0.0), (3932, 0.0), (3933, 0.0), (3934, 0.011096316358853216), (3935, 0.004317625634644993), (3936, 0.0), (3937, 0.0), (3938, 0.0), (3939, 0.0078123963738024335), (3940, 0.010754230316054181), (3941, 0.003562342975502882), (3942, 0.0), (3943, 0.0), (3944, 0.007225678675748606), (3945, 0.0027456810727744083), (3946, 0.00535812132709548), (3947, 0.0), (3948, 0.0), (3949, 0.0), (3950, 0.0), (3951, 0.0), (3952, 0.0), (3953, 0.003225825016859879), (3954, 0.004408775462967764), (3955, 0.0), (3956, 0.01324658968084242), (3957, 0.0), (3958, 0.0), (3959, 0.011366527003338317), (3960, 0.0), (3961, 0.0), (3962, 0.0), (3963, 0.0), (3964, 0.0), (3965, 0.0), (3966, 0.0), (3967, 0.004890358476692231), (3968, 0.007836423166656408), (3969, 0.006509101494820515), (3970, 0.0), (3971, 0.0), (3972, 0.0046659730529555335), (3973, 0.0), (3974, 0.0), (3975, 0.0), (3976, 0.0), (3977, 0.0), (3978, 0.0), (3979, 0.005360735659330163), (3980, 0.0), (3981, 0.0), (3982, 0.0), (3983, 0.003334226696915332), (3984, 0.0), (3985, 0.00825309142718139), (3986, 0.0), (3987, 0.0), (3988, 0.0), (3989, 0.0), (3990, 0.0), (3991, 0.0), (3992, 0.0), (3993, 0.0), (3994, 0.0), (3995, 0.0), (3996, 0.0), (3997, 0.0), (3998, 0.0), (3999, 0.0037014383666061678), (4000, 0.0), (4001, 0.0), (4002, 0.0), (4003, 0.008956240535313015), (4004, 0.0), (4005, 0.0), (4006, 0.0), (4007, 0.0), (4008, 0.0), (4009, 0.0), (4010, 0.0038745799324546634), (4011, 0.0), (4012, 0.0), (4013, 0.0), (4014, 0.0), (4015, 0.0), (4016, 0.0), (4017, 0.0), (4018, 0.0), (4019, 0.007918219326149632), (4020, 0.0), (4021, 0.0), (4022, 0.0), (4023, 0.0030774287106045545), (4024, 0.0), (4025, 0.005190322353963281), (4026, 0.0), (4027, 0.013935326363701537), (4028, 0.0025406920877768546), (4029, 0.0), (4030, 0.0), (4031, 0.0), (4032, 0.0), (4033, 0.004373922887637197), (4034, 0.0), (4035, 0.0), (4036, 0.0049766870712315186), (4037, 0.004691945540175011), (4038, 0.0), (4039, 0.0), (4040, 0.0), (4041, 0.005935683235079568), (4042, 0.010931473180205575), (4043, 0.008113020859481625), (4044, 0.0), (4045, 0.004591530050132022), (4046, 0.0), (4047, 0.0), (4048, 0.0), (4049, 0.0), (4050, 0.0), (4051, 0.0), (4052, 0.004878127192536325), (4053, 0.0), (4054, 0.0), (4055, 0.0), (4056, 0.0), (4057, 0.009596840344173628), (4058, 0.0), (4059, 0.0), (4060, 0.0), (4061, 0.0), (4062, 0.0), (4063, 0.0074383367608880195), (4064, 0.0), (4065, 0.0), (4066, 0.005158053923017429), (4067, 0.0), (4068, 0.0), (4069, 0.0), (4070, 0.0), (4071, 0.0), (4072, 0.0), (4073, 0.0), (4074, 0.0), (4075, 0.0), (4076, 0.0), (4077, 0.027389565175996586), (4078, 0.0), (4079, 0.0), (4080, 0.0), (4081, 0.0), (4082, 0.0), (4083, 0.0), (4084, 0.0), (4085, 0.0), (4086, 0.0), (4087, 0.0), (4088, 0.0), (4089, 0.0), (4090, 0.0184223103756653), (4091, 0.0), (4092, 0.0), (4093, 0.0), (4094, 0.0), (4095, 0.0), (4096, 0.003265769645242844), (4097, 0.0), (4098, 0.0), (4099, 0.006305149312722138), (4100, 0.0), (4101, 0.0), (4102, 0.0), (4103, 0.0), (4104, 0.0), (4105, 0.0), (4106, 0.0), (4107, 0.0), (4108, 0.0), (4109, 0.0), (4110, 0.0), (4111, 0.0), (4112, 0.0), (4113, 0.004809707214810887), (4114, 0.0), (4115, 0.0), (4116, 0.0), (4117, 0.0), (4118, 0.0), (4119, 0.012845666647585895), (4120, 0.0), (4121, 0.0), (4122, 0.0), (4123, 0.0), (4124, 0.005176898512885165), (4125, 0.0), (4126, 0.0), (4127, 0.0), (4128, 0.011322499458402052), (4129, 0.0), (4130, 0.0), (4131, 0.0), (4132, 0.0), (4133, 0.007006377788105761), (4134, 0.0), (4135, 0.0), (4136, 0.004855503277548807), (4137, 0.010120632626955962), (4138, 0.0), (4139, 0.003564419432116675), (4140, 0.0), (4141, 0.0), (4142, 0.0), (4143, 0.0), (4144, 0.0), (4145, 0.0), (4146, 0.0), (4147, 0.0), (4148, 0.0), (4149, 0.0), (4150, 0.0), (4151, 0.0), (4152, 0.0), (4153, 0.009603502622931134), (4154, 0.0), (4155, 0.0), (4156, 0.0), (4157, 0.0), (4158, 0.0), (4159, 0.004349731517975785), (4160, 0.0), (4161, 0.0), (4162, 0.0), (4163, 0.0), (4164, 0.0), (4165, 0.006655505797781917), (4166, 0.006883092995584814), (4167, 0.010435652534272265), (4168, 0.0), (4169, 0.0), (4170, 0.006846077939103539), (4171, 0.0035756680795223975), (4172, 0.0), (4173, 0.0), (4174, 0.005912487135097935), (4175, 0.00668110051082378), (4176, 0.007039502762220328), (4177, 0.0), (4178, 0.005146989594627428), (4179, 0.0), (4180, 0.0), (4181, 0.0), (4182, 0.0), (4183, 0.011499772245687124), (4184, 0.012874899678486243), (4185, 0.004576584867570355), (4186, 0.0), (4187, 0.0), (4188, 0.0), (4189, 0.0), (4190, 0.0), (4191, 0.00658598391339913), (4192, 0.0), (4193, 0.0), (4194, 0.0), (4195, 0.0), (4196, 0.0), (4197, 0.0), (4198, 0.0), (4199, 0.0), (4200, 0.0), (4201, 0.0), (4202, 0.0), (4203, 0.0), (4204, 0.0), (4205, 0.0), (4206, 0.0), (4207, 0.0), (4208, 0.0), (4209, 0.0), (4210, 0.0), (4211, 0.007222746629789104), (4212, 0.005747660093277602), (4213, 0.0), (4214, 0.0), (4215, 0.0), (4216, 0.0046466218534627415), (4217, 0.0), (4218, 0.0), (4219, 0.004822793058510064), (4220, 0.0), (4221, 0.0), (4222, 0.0), (4223, 0.0), (4224, 0.007376593192469198), (4225, 0.0), (4226, 0.0), (4227, 0.004503587602534869), (4228, 0.0), (4229, 0.0), (4230, 0.0), (4231, 0.0), (4232, 0.0), (4233, 0.0), (4234, 0.0), (4235, 0.0), (4236, 0.0), (4237, 0.0), (4238, 0.004774416326584107), (4239, 0.0), (4240, 0.0), (4241, 0.0), (4242, 0.0), (4243, 0.0), (4244, 0.0), (4245, 0.0), (4246, 0.0), (4247, 0.0), (4248, 0.0), (4249, 0.0), (4250, 0.003541511311192488), (4251, 0.0), (4252, 0.0030762560706839373), (4253, 0.0), (4254, 0.003449126190863791), (4255, 0.011258201631757824), (4256, 0.0), (4257, 0.0), (4258, 0.0), (4259, 0.0), (4260, 0.0), (4261, 0.0), (4262, 0.0), (4263, 0.0), (4264, 0.0), (4265, 0.0), (4266, 0.004234424064594123), (4267, 0.0), (4268, 0.0), (4269, 0.0), (4270, 0.005490004170300618), (4271, 0.0), (4272, 0.0), (4273, 0.0), (4274, 0.0067489204411411855), (4275, 0.005644511010286796), (4276, 0.0), (4277, 0.0), (4278, 0.0), (4279, 0.0), (4280, 0.0), (4281, 0.0), (4282, 0.0), (4283, 0.0), (4284, 0.0), (4285, 0.0), (4286, 0.0), (4287, 0.0), (4288, 0.0), (4289, 0.0), (4290, 0.004350464066041513), (4291, 0.0), (4292, 0.009170908458290303), (4293, 0.0), (4294, 0.0), (4295, 0.0), (4296, 0.0), (4297, 0.0), (4298, 0.0), (4299, 0.0), (4300, 0.0), (4301, 0.0), (4302, 0.0), (4303, 0.003872190317584174), (4304, 0.0), (4305, 0.0), (4306, 0.0), (4307, 0.015395821797561781), (4308, 0.007001989052089204), (4309, 0.0), (4310, 0.0), (4311, 0.0), (4312, 0.0), (4313, 0.0), (4314, 0.0), (4315, 0.004702784389081816), (4316, 0.0), (4317, 0.0), (4318, 0.0), (4319, 0.0), (4320, 0.0), (4321, 0.006413333242009569), (4322, 0.0), (4323, 0.0), (4324, 0.0), (4325, 0.0), (4326, 0.0), (4327, 0.0), (4328, 0.0), (4329, 0.0), (4330, 0.016207735377185378), (4331, 0.0), (4332, 0.0), (4333, 0.0075862137547719685), (4334, 0.0), (4335, 0.0), (4336, 0.0), (4337, 0.0), (4338, 0.0), (4339, 0.0), (4340, 0.0), (4341, 0.004441181811912982), (4342, 0.0), (4343, 0.0), (4344, 0.0), (4345, 0.0), (4346, 0.0), (4347, 0.0), (4348, 0.0), (4349, 0.0), (4350, 0.0), (4351, 0.0), (4352, 0.0), (4353, 0.0), (4354, 0.0), (4355, 0.0), (4356, 0.004855779363175514), (4357, 0.012806496653115939), (4358, 0.0), (4359, 0.0), (4360, 0.0), (4361, 0.00416475246706823), (4362, 0.0), (4363, 0.0), (4364, 0.0), (4365, 0.0), (4366, 0.0), (4367, 0.004032388420921953), (4368, 0.0), (4369, 0.0), (4370, 0.0), (4371, 0.0), (4372, 0.0), (4373, 0.0), (4374, 0.0), (4375, 0.0), (4376, 0.0), (4377, 0.00377986848246993), (4378, 0.0), (4379, 0.0), (4380, 0.0), (4381, 0.0), (4382, 0.0), (4383, 0.03929433501921285), (4384, 0.0), (4385, 0.0), (4386, 0.0), (4387, 0.0), (4388, 0.0), (4389, 0.0), (4390, 0.006478142428751849), (4391, 0.0), (4392, 0.0), (4393, 0.0), (4394, 0.005640808437577285), (4395, 0.0), (4396, 0.0), (4397, 0.0), (4398, 0.0), (4399, 0.0), (4400, 0.0), (4401, 0.0), (4402, 0.0), (4403, 0.0), (4404, 0.0), (4405, 0.0), (4406, 0.0), (4407, 0.0), (4408, 0.0), (4409, 0.0), (4410, 0.008817913423975777), (4411, 0.0), (4412, 0.009591423202620466), (4413, 0.0), (4414, 0.0), (4415, 0.0), (4416, 0.0), (4417, 0.0), (4418, 0.0), (4419, 0.0), (4420, 0.0), (4421, 0.0), (4422, 0.0), (4423, 0.0), (4424, 0.0), (4425, 0.004034414856469774), (4426, 0.0), (4427, 0.0), (4428, 0.0), (4429, 0.0), (4430, 0.0), (4431, 0.0), (4432, 0.0), (4433, 0.0), (4434, 0.0), (4435, 0.010177348596731185), (4436, 0.0), (4437, 0.0), (4438, 0.01280325591784666), (4439, 0.0), (4440, 0.0), (4441, 0.0), (4442, 0.0), (4443, 0.008058289077783923), (4444, 0.0), (4445, 0.0), (4446, 0.007726994030029663), (4447, 0.0), (4448, 0.0), (4449, 0.008646855993963186), (4450, 0.0), (4451, 0.0), (4452, 0.0), (4453, 0.0), (4454, 0.009443529696532097), (4455, 0.0056699564935511464), (4456, 0.013365677060851096), (4457, 0.0), (4458, 0.0), (4459, 0.0), (4460, 0.0065265091124364905), (4461, 0.0), (4462, 0.0), (4463, 0.0036784469819502335), (4464, 0.0), (4465, 0.006059699311280459), (4466, 0.0), (4467, 0.0), (4468, 0.0), (4469, 0.0), (4470, 0.0), (4471, 0.0), (4472, 0.0), (4473, 0.0), (4474, 0.0), (4475, 0.0), (4476, 0.0), (4477, 0.0), (4478, 0.0), (4479, 0.0), (4480, 0.0), (4481, 0.007773586792122622), (4482, 0.0), (4483, 0.0), (4484, 0.0), (4485, 0.0), (4486, 0.0), (4487, 0.0), (4488, 0.0), (4489, 0.0), (4490, 0.0), (4491, 0.0), (4492, 0.0), (4493, 0.0), (4494, 0.005468070282834013), (4495, 0.0), (4496, 0.0), (4497, 0.0), (4498, 0.00887474297008306), (4499, 0.0), (4500, 0.0), (4501, 0.0), (4502, 0.0), (4503, 0.0), (4504, 0.0), (4505, 0.0), (4506, 0.0), (4507, 0.0), (4508, 0.0), (4509, 0.00792711943687195), (4510, 0.0), (4511, 0.0), (4512, 0.0), (4513, 0.0), (4514, 0.0), (4515, 0.0), (4516, 0.0), (4517, 0.004434468383648392), (4518, 0.008093633675365603), (4519, 0.0), (4520, 0.0), (4521, 0.0), (4522, 0.013312142937111618), (4523, 0.0), (4524, 0.0036418453716840792), (4525, 0.0), (4526, 0.0), (4527, 0.0), (4528, 0.005259640372813611), (4529, 0.0), (4530, 0.0), (4531, 0.007545940115460545), (4532, 0.0), (4533, 0.0), (4534, 0.0), (4535, 0.0), (4536, 0.0), (4537, 0.0), (4538, 0.003832717577889411), (4539, 0.005533951506831577), (4540, 0.0), (4541, 0.0), (4542, 0.0), (4543, 0.005283615619917266), (4544, 0.0), (4545, 0.0), (4546, 0.0), (4547, 0.0), (4548, 0.0), (4549, 0.0), (4550, 0.0), (4551, 0.0), (4552, 0.003767005019869003), (4553, 0.0), (4554, 0.0), (4555, 0.0), (4556, 0.0), (4557, 0.0), (4558, 0.0), (4559, 0.0), (4560, 0.0), (4561, 0.0), (4562, 0.0), (4563, 0.0), (4564, 0.0), (4565, 0.0), (4566, 0.004076631864982403), (4567, 0.0), (4568, 0.0), (4569, 0.005914721048462021), (4570, 0.0), (4571, 0.0), (4572, 0.005283969203452352), (4573, 0.0), (4574, 0.0), (4575, 0.0), (4576, 0.0), (4577, 0.0), (4578, 0.0), (4579, 0.0), (4580, 0.005826855859351437), (4581, 0.0), (4582, 0.0033431866156294738), (4583, 0.0), (4584, 0.0037818410209469965), (4585, 0.0), (4586, 0.0), (4587, 0.008187219997182003), (4588, 0.0), (4589, 0.006971860782777502), (4590, 0.0), (4591, 0.0), (4592, 0.0), (4593, 0.0), (4594, 0.0), (4595, 0.0), (4596, 0.0), (4597, 0.0), (4598, 0.0), (4599, 0.0026997113061254796), (4600, 0.0), (4601, 0.0), (4602, 0.0), (4603, 0.0), (4604, 0.0), (4605, 0.0), (4606, 0.0), (4607, 0.0), (4608, 0.0), (4609, 0.0), (4610, 0.0), (4611, 0.0), (4612, 0.0), (4613, 0.0), (4614, 0.0), (4615, 0.004301399791717273), (4616, 0.0), (4617, 0.0), (4618, 0.0), (4619, 0.0), (4620, 0.0), (4621, 0.004635843566020163), (4622, 0.0), (4623, 0.002726889787844052), (4624, 0.0), (4625, 0.0), (4626, 0.0), (4627, 0.0), (4628, 0.004042142061799916), (4629, 0.006669501470574443), (4630, 0.0), (4631, 0.0), (4632, 0.0), (4633, 0.0), (4634, 0.0), (4635, 0.0), (4636, 0.0), (4637, 0.0), (4638, 0.007335154003803329), (4639, 0.0), (4640, 0.007071038941035566), (4641, 0.0), (4642, 0.0), (4643, 0.0), (4644, 0.0), (4645, 0.0), (4646, 0.0), (4647, 0.0), (4648, 0.0), (4649, 0.0), (4650, 0.0), (4651, 0.0), (4652, 0.005023407428381735), (4653, 0.0), (4654, 0.0), (4655, 0.0), (4656, 0.0), (4657, 0.005778830512975331), (4658, 0.0), (4659, 0.0), (4660, 0.0), (4661, 0.0), (4662, 0.0), (4663, 0.0), (4664, 0.0), (4665, 0.0), (4666, 0.004741185522520757), (4667, 0.0), (4668, 0.0), (4669, 0.0), (4670, 0.0), (4671, 0.0), (4672, 0.0), (4673, 0.0), (4674, 0.0), (4675, 0.0), (4676, 0.008928989500910563), (4677, 0.0), (4678, 0.0), (4679, 0.0), (4680, 0.0), (4681, 0.0), (4682, 0.0), (4683, 0.0), (4684, 0.0), (4685, 0.0), (4686, 0.0), (4687, 0.0), (4688, 0.0), (4689, 0.0), (4690, 0.0), (4691, 0.0038055823412129967), (4692, 0.0), (4693, 0.0), (4694, 0.00823957830968348), (4695, 0.0), (4696, 0.0), (4697, 0.0), (4698, 0.004698094305968215), (4699, 0.0), (4700, 0.0), (4701, 0.0), (4702, 0.072697621569523), (4703, 0.0), (4704, 0.0), (4705, 0.0), (4706, 0.0043490226162632775), (4707, 0.0), (4708, 0.0), (4709, 0.0), (4710, 0.009373196557889837), (4711, 0.0), (4712, 0.0), (4713, 0.0), (4714, 0.0), (4715, 0.0), (4716, 0.0), (4717, 0.007368372150461894), (4718, 0.0), (4719, 0.0), (4720, 0.0), (4721, 0.008285023825014861), (4722, 0.0), (4723, 0.0), (4724, 0.0), (4725, 0.0), (4726, 0.0), (4727, 0.01209318141682409), (4728, 0.008794244842122777), (4729, 0.0), (4730, 0.009101498755031221), (4731, 0.005525201067669188), (4732, 0.0), (4733, 0.0), (4734, 0.00406236160913686), (4735, 0.0), (4736, 0.0), (4737, 0.0), (4738, 0.0), (4739, 0.006379089678957749), (4740, 0.0), (4741, 0.0), (4742, 0.0), (4743, 0.0), (4744, 0.0), (4745, 0.0), (4746, 0.0), (4747, 0.0), (4748, 0.0), (4749, 0.0), (4750, 0.0), (4751, 0.0), (4752, 0.0), (4753, 0.0), (4754, 0.0), (4755, 0.0), (4756, 0.0), (4757, 0.0), (4758, 0.0), (4759, 0.0), (4760, 0.0), (4761, 0.0), (4762, 0.0), (4763, 0.0), (4764, 0.0), (4765, 0.0), (4766, 0.0), (4767, 0.0), (4768, 0.0), (4769, 0.0), (4770, 0.0), (4771, 0.0), (4772, 0.0), (4773, 0.0), (4774, 0.0), (4775, 0.0), (4776, 0.0), (4777, 0.00502615055087401), (4778, 0.0), (4779, 0.0), (4780, 0.0), (4781, 0.0), (4782, 0.0), (4783, 0.0), (4784, 0.0), (4785, 0.0), (4786, 0.0), (4787, 0.0), (4788, 0.0), (4789, 0.006214482867960316), (4790, 0.0), (4791, 0.0), (4792, 0.0), (4793, 0.0), (4794, 0.0033590504137857406), (4795, 0.0), (4796, 0.0070855730408330465), (4797, 0.0), (4798, 0.0), (4799, 0.0), (4800, 0.0), (4801, 0.0), (4802, 0.004547009893831279), (4803, 0.0), (4804, 0.0), (4805, 0.0), (4806, 0.0038383306880130008), (4807, 0.006177842006810334), (4808, 0.0), (4809, 0.0), (4810, 0.00996794704910462), (4811, 0.0), (4812, 0.0), (4813, 0.0), (4814, 0.005304034018592749), (4815, 0.0), (4816, 0.0), (4817, 0.0), (4818, 0.0), (4819, 0.0), (4820, 0.0), (4821, 0.0), (4822, 0.0), (4823, 0.0), (4824, 0.0066742174651153955), (4825, 0.0), (4826, 0.0), (4827, 0.0), (4828, 0.0), (4829, 0.0), (4830, 0.0), (4831, 0.0), (4832, 0.0), (4833, 0.0), (4834, 0.0), (4835, 0.0), (4836, 0.0), (4837, 0.0), (4838, 0.0), (4839, 0.0), (4840, 0.0), (4841, 0.0), (4842, 0.0050767970421983204), (4843, 0.0), (4844, 0.003969846404806825), (4845, 0.0), (4846, 0.0), (4847, 0.0), (4848, 0.0), (4849, 0.008916314211912453), (4850, 0.004517448648435869), (4851, 0.0), (4852, 0.0), (4853, 0.00440816890061762), (4854, 0.0), (4855, 0.0), (4856, 0.0), (4857, 0.0), (4858, 0.0), (4859, 0.005159122192886843), (4860, 0.0), (4861, 0.014224283279801799), (4862, 0.0), (4863, 0.0033533759951133346), (4864, 0.0), (4865, 0.00828004815862506), (4866, 0.0), (4867, 0.006846476288157408), (4868, 0.0), (4869, 0.014084707658509034), (4870, 0.0), (4871, 0.0), (4872, 0.0), (4873, 0.0), (4874, 0.0), (4875, 0.0), (4876, 0.0), (4877, 0.0), (4878, 0.004494037946092308), (4879, 0.010211693302709678), (4880, 0.0), (4881, 0.0), (4882, 0.0), (4883, 0.0), (4884, 0.007240237039775057), (4885, 0.003837049224648075), (4886, 0.0), (4887, 0.005493185187961906), (4888, 0.0), (4889, 0.0), (4890, 0.0), (4891, 0.0), (4892, 0.0), (4893, 0.007678884977780001), (4894, 0.005822027800391303), (4895, 0.0), (4896, 0.0), (4897, 0.0), (4898, 0.008314675011610635), (4899, 0.0), (4900, 0.004181507929225145), (4901, 0.004924919979008166), (4902, 0.0), (4903, 0.008081915147737845), (4904, 0.0), (4905, 0.0), (4906, 0.0), (4907, 0.0), (4908, 0.0), (4909, 0.0), (4910, 0.0), (4911, 0.0), (4912, 0.0), (4913, 0.0), (4914, 0.005251978889896424), (4915, 0.0), (4916, 0.0), (4917, 0.0), (4918, 0.006117642311715259), (4919, 0.0), (4920, 0.0), (4921, 0.006245161626747197), (4922, 0.0), (4923, 0.005334181122090158), (4924, 0.0), (4925, 0.0), (4926, 0.0), (4927, 0.0), (4928, 0.004024456224174119), (4929, 0.0), (4930, 0.0), (4931, 0.0), (4932, 0.0), (4933, 0.009376533244476569), (4934, 0.0), (4935, 0.038579418552648764), (4936, 0.0), (4937, 0.0), (4938, 0.0), (4939, 0.0), (4940, 0.007137015368362132), (4941, 0.0), (4942, 0.0), (4943, 0.0), (4944, 0.0), (4945, 0.0), (4946, 0.0), (4947, 0.0), (4948, 0.0), (4949, 0.00502613652471717), (4950, 0.005562919787533197), (4951, 0.0), (4952, 0.0), (4953, 0.0), (4954, 0.0), (4955, 0.0), (4956, 0.0), (4957, 0.011338764453179499), (4958, 0.0), (4959, 0.004817613012599197), (4960, 0.0), (4961, 0.0), (4962, 0.0), (4963, 0.006046265461564466), (4964, 0.0), (4965, 0.0), (4966, 0.0), (4967, 0.0), (4968, 0.0), (4969, 0.0), (4970, 0.005235457286472025), (4971, 0.005968340561365821), (4972, 0.007680817159463131), (4973, 0.0), (4974, 0.0), (4975, 0.0), (4976, 0.0), (4977, 0.0), (4978, 0.0), (4979, 0.003666356582776588), (4980, 0.0), (4981, 0.0), (4982, 0.0), (4983, 0.0), (4984, 0.0), (4985, 0.0), (4986, 0.0), (4987, 0.0), (4988, 0.05664659749092011), (4989, 0.006668779491498099), (4990, 0.0), (4991, 0.0), (4992, 0.0), (4993, 0.0), (4994, 0.0), (4995, 0.014612613432130203), (4996, 0.0), (4997, 0.0), (4998, 0.008049297090044667), (4999, 0.0), (5000, 0.0), (5001, 0.0), (5002, 0.0), (5003, 0.0), (5004, 0.009356362106673182), (5005, 0.01075036386147224), (5006, 0.0), (5007, 0.0), (5008, 0.0), (5009, 0.0), (5010, 0.012243376723795284), (5011, 0.0), (5012, 0.0), (5013, 0.0044968384216577985), (5014, 0.0), (5015, 0.004681770681679497), (5016, 0.0), (5017, 0.0), (5018, 0.0), (5019, 0.005453276061318428), (5020, 0.004240075912803414), (5021, 0.0), (5022, 0.0), (5023, 0.005854754450893549), (5024, 0.0), (5025, 0.0), (5026, 0.0), (5027, 0.0), (5028, 0.0), (5029, 0.0), (5030, 0.0), (5031, 0.0), (5032, 0.0), (5033, 0.0), (5034, 0.0), (5035, 0.0), (5036, 0.0), (5037, 0.0), (5038, 0.005374699843914623), (5039, 0.0), (5040, 0.016628893823639142), (5041, 0.0), (5042, 0.0), (5043, 0.0), (5044, 0.0), (5045, 0.0), (5046, 0.0), (5047, 0.0053129383816833305), (5048, 0.004751361676613535), (5049, 0.0), (5050, 0.0), (5051, 0.0), (5052, 0.004059563440811017), (5053, 0.0), (5054, 0.0), (5055, 0.0), (5056, 0.0), (5057, 0.0), (5058, 0.0), (5059, 0.0), (5060, 0.0071812164865885176), (5061, 0.0), (5062, 0.0), (5063, 0.0), (5064, 0.0), (5065, 0.0), (5066, 0.0), (5067, 0.0), (5068, 0.0), (5069, 0.0), (5070, 0.0), (5071, 0.0), (5072, 0.00954620907981252), (5073, 0.0), (5074, 0.0), (5075, 0.0), (5076, 0.0), (5077, 0.0), (5078, 0.0), (5079, 0.0), (5080, 0.0), (5081, 0.0), (5082, 0.0), (5083, 0.0), (5084, 0.0), (5085, 0.0), (5086, 0.00597169298366864), (5087, 0.0), (5088, 0.0), (5089, 0.0), (5090, 0.0), (5091, 0.0), (5092, 0.005332715213161499), (5093, 0.0), (5094, 0.0), (5095, 0.0), (5096, 0.0), (5097, 0.00466124870630684), (5098, 0.007901206181361864), (5099, 0.0), (5100, 0.0), (5101, 0.013926688164040312), (5102, 0.005145563208464762), (5103, 0.0), (5104, 0.010540927588408215), (5105, 0.005228847801759728), (5106, 0.0), (5107, 0.0), (5108, 0.0), (5109, 0.0), (5110, 0.0), (5111, 0.0), (5112, 0.0), (5113, 0.0), (5114, 0.004931243235452638), (5115, 0.004880238998473631), (5116, 0.0), (5117, 0.0055970255317509526), (5118, 0.0), (5119, 0.0), (5120, 0.005762614942981646), (5121, 0.0), (5122, 0.0), (5123, 0.0), (5124, 0.0), (5125, 0.0), (5126, 0.0), (5127, 0.010835498596046635), (5128, 0.0), (5129, 0.0), (5130, 0.0), (5131, 0.007595498554653538), (5132, 0.0), (5133, 0.0), (5134, 0.004954292552477685), (5135, 0.0), (5136, 0.009024140840732766), (5137, 0.0), (5138, 0.0), (5139, 0.006855558975344893), (5140, 0.048186576449610184), (5141, 0.0), (5142, 0.0), (5143, 0.0), (5144, 0.0068003270711131415), (5145, 0.0), (5146, 0.0), (5147, 0.009458126733944602), (5148, 0.006385281795050336), (5149, 0.0), (5150, 0.0), (5151, 0.0), (5152, 0.0), (5153, 0.0), (5154, 0.0), (5155, 0.0), (5156, 0.0), (5157, 0.0), (5158, 0.0), (5159, 0.0), (5160, 0.006427475760927646), (5161, 0.0), (5162, 0.003916592844857697), (5163, 0.0), (5164, 0.004001901685109476), (5165, 0.0), (5166, 0.0), (5167, 0.0), (5168, 0.0), (5169, 0.0), (5170, 0.0), (5171, 0.013706922538504952), (5172, 0.0), (5173, 0.005403125080130714), (5174, 0.0), (5175, 0.0), (5176, 0.0), (5177, 0.0), (5178, 0.0034677336565999235), (5179, 0.0), (5180, 0.0), (5181, 0.004698935456102241), (5182, 0.0), (5183, 0.0), (5184, 0.008768237148826097), (5185, 0.0), (5186, 0.0), (5187, 0.00609170070315041), (5188, 0.0), (5189, 0.0), (5190, 0.0), (5191, 0.010927325494414981), (5192, 0.0), (5193, 0.0), (5194, 0.0), (5195, 0.0), (5196, 0.0), (5197, 0.0), (5198, 0.0), (5199, 0.0), (5200, 0.0), (5201, 0.0), (5202, 0.0), (5203, 0.004103953534757891), (5204, 0.0), (5205, 0.0), (5206, 0.0), (5207, 0.0), (5208, 0.0), (5209, 0.0), (5210, 0.0), (5211, 0.0), (5212, 0.005886493773695066), (5213, 0.0), (5214, 0.0), (5215, 0.0), (5216, 0.0), (5217, 0.0), (5218, 0.0), (5219, 0.0), (5220, 0.0), (5221, 0.007222662232519062), (5222, 0.0), (5223, 0.0), (5224, 0.0), (5225, 0.0), (5226, 0.0), (5227, 0.0), (5228, 0.010621267742509665), (5229, 0.006500830795363147), (5230, 0.0), (5231, 0.0), (5232, 0.0), (5233, 0.0), (5234, 0.0), (5235, 0.0054810786029860425), (5236, 0.0), (5237, 0.009007686682165957), (5238, 0.0), (5239, 0.0), (5240, 0.0), (5241, 0.0), (5242, 0.0), (5243, 0.0), (5244, 0.0), (5245, 0.0), (5246, 0.004339851868433401), (5247, 0.0), (5248, 0.0), (5249, 0.0), (5250, 0.0), (5251, 0.0), (5252, 0.0), (5253, 0.0), (5254, 0.0), (5255, 0.0), (5256, 0.0), (5257, 0.0), (5258, 0.0), (5259, 0.0), (5260, 0.0), (5261, 0.0039723536961943475), (5262, 0.0), (5263, 0.0), (5264, 0.0), (5265, 0.0113009907317785), (5266, 0.0), (5267, 0.0), (5268, 0.004261904078525729), (5269, 0.0), (5270, 0.0), (5271, 0.0), (5272, 0.0), (5273, 0.0), (5274, 0.0), (5275, 0.007918721421733806), (5276, 0.0), (5277, 0.0), (5278, 0.0075635021389343846), (5279, 0.0), (5280, 0.0), (5281, 0.02635855078715336), (5282, 0.0), (5283, 0.0), (5284, 0.0), (5285, 0.0), (5286, 0.003286251399368231), (5287, 0.0), (5288, 0.007511606326389042), (5289, 0.0), (5290, 0.0043419372627832315), (5291, 0.0), (5292, 0.0), (5293, 0.0), (5294, 0.0), (5295, 0.0), (5296, 0.0), (5297, 0.0), (5298, 0.0), (5299, 0.0), (5300, 0.0), (5301, 0.0), (5302, 0.0), (5303, 0.0), (5304, 0.0), (5305, 0.008644347688537266), (5306, 0.0), (5307, 0.0), (5308, 0.005225395407472718), (5309, 0.0), (5310, 0.0), (5311, 0.0), (5312, 0.0), (5313, 0.0), (5314, 0.0), (5315, 0.0), (5316, 0.0), (5317, 0.0), (5318, 0.0), (5319, 0.0), (5320, 0.0), (5321, 0.0), (5322, 0.0), (5323, 0.003683656096340039), (5324, 0.0), (5325, 0.00462795100772383), (5326, 0.0), (5327, 0.0), (5328, 0.0), (5329, 0.0), (5330, 0.0), (5331, 0.0), (5332, 0.0), (5333, 0.0), (5334, 0.0), (5335, 0.0), (5336, 0.0), (5337, 0.0), (5338, 0.0), (5339, 0.0), (5340, 0.0), (5341, 0.0), (5342, 0.0), (5343, 0.0), (5344, 0.0), (5345, 0.0), (5346, 0.0), (5347, 0.0), (5348, 0.0), (5349, 0.01573020350575391), (5350, 0.0), (5351, 0.0), (5352, 0.0), (5353, 0.0), (5354, 0.0), (5355, 0.0), (5356, 0.0), (5357, 0.0), (5358, 0.01499181870894876), (5359, 0.0), (5360, 0.0), (5361, 0.0295238318849794), (5362, 0.0), (5363, 0.0), (5364, 0.0), (5365, 0.00587498606689793), (5366, 0.0), (5367, 0.0050083847658719495), (5368, 0.0058727673503066345), (5369, 0.0), (5370, 0.0059964093463411704), (5371, 0.0), (5372, 0.0), (5373, 0.0), (5374, 0.0), (5375, 0.0), (5376, 0.02289796943466402), (5377, 0.009421770744389641), (5378, 0.0), (5379, 0.0), (5380, 0.0), (5381, 0.0), (5382, 0.008178406108415802), (5383, 0.0), (5384, 0.0), (5385, 0.0), (5386, 0.0), (5387, 0.0), (5388, 0.0), (5389, 0.0), (5390, 0.0), (5391, 0.0), (5392, 0.0), (5393, 0.0), (5394, 0.006384014451840169), (5395, 0.0), (5396, 0.0), (5397, 0.0), (5398, 0.0), (5399, 0.008689196511374222), (5400, 0.0), (5401, 0.0), (5402, 0.0), (5403, 0.0), (5404, 0.0), (5405, 0.0), (5406, 0.0), (5407, 0.0), (5408, 0.0), (5409, 0.0), (5410, 0.004040886100312814), (5411, 0.0), (5412, 0.0), (5413, 0.0), (5414, 0.0), (5415, 0.0), (5416, 0.0), (5417, 0.0), (5418, 0.0), (5419, 0.0), (5420, 0.006242926090689055), (5421, 0.0), (5422, 0.007053019885904644), (5423, 0.0), (5424, 0.0), (5425, 0.0), (5426, 0.01144894340287474), (5427, 0.0), (5428, 0.0), (5429, 0.0), (5430, 0.0), (5431, 0.0), (5432, 0.0), (5433, 0.0), (5434, 0.004364199538741028), (5435, 0.0045504448191908495), (5436, 0.0), (5437, 0.0), (5438, 0.0), (5439, 0.0), (5440, 0.0), (5441, 0.0), (5442, 0.0), (5443, 0.0), (5444, 0.008182720984316393), (5445, 0.0), (5446, 0.0), (5447, 0.0), (5448, 0.0), (5449, 0.0), (5450, 0.0), (5451, 0.010906964767980126), (5452, 0.0), (5453, 0.0), (5454, 0.008855449868992988), (5455, 0.0), (5456, 0.0), (5457, 0.00641431518502924), (5458, 0.0), (5459, 0.0), (5460, 0.0), (5461, 0.0), (5462, 0.007674272441935088), (5463, 0.0), (5464, 0.0), (5465, 0.0), (5466, 0.0), (5467, 0.0), (5468, 0.0), (5469, 0.0), (5470, 0.0), (5471, 0.0), (5472, 0.0), (5473, 0.0), (5474, 0.0), (5475, 0.0), (5476, 0.0), (5477, 0.0), (5478, 0.0), (5479, 0.0), (5480, 0.0), (5481, 0.0), (5482, 0.005579102638671848), (5483, 0.0), (5484, 0.0), (5485, 0.0), (5486, 0.0), (5487, 0.0), (5488, 0.0), (5489, 0.0), (5490, 0.0), (5491, 0.0), (5492, 0.0), (5493, 0.0), (5494, 0.0), (5495, 0.0), (5496, 0.0), (5497, 0.0), (5498, 0.0), (5499, 0.0), (5500, 0.0), (5501, 0.0), (5502, 0.0), (5503, 0.0), (5504, 0.0), (5505, 0.0), (5506, 0.013114574614639418), (5507, 0.004726303238041339), (5508, 0.0), (5509, 0.01816916959818073), (5510, 0.0), (5511, 0.0), (5512, 0.0), (5513, 0.0), (5514, 0.004939120053555152), (5515, 0.004819936343633244), (5516, 0.0), (5517, 0.0), (5518, 0.0), (5519, 0.0022615017301253165), (5520, 0.0037174456734190807), (5521, 0.0052345201024668895), (5522, 0.0), (5523, 0.0), (5524, 0.0), (5525, 0.0169437621396471), (5526, 0.0), (5527, 0.003938684717757667), (5528, 0.0), (5529, 0.0), (5530, 0.0), (5531, 0.0), (5532, 0.0), (5533, 0.0), (5534, 0.0), (5535, 0.0), (5536, 0.005482031322744045), (5537, 0.0), (5538, 0.0), (5539, 0.005267767144970898), (5540, 0.0), (5541, 0.0), (5542, 0.0), (5543, 0.0), (5544, 0.0), (5545, 0.0), (5546, 0.0), (5547, 0.0047142627126271494), (5548, 0.009858591861377174), (5549, 0.0), (5550, 0.004590633073665326), (5551, 0.009260289752796986), (5552, 0.0), (5553, 0.0), (5554, 0.0), (5555, 0.0), (5556, 0.0), (5557, 0.007919966111623846), (5558, 0.005917860231422781), (5559, 0.0), (5560, 0.0), (5561, 0.0), (5562, 0.0), (5563, 0.0), (5564, 0.009761758449271643), (5565, 0.0), (5566, 0.0), (5567, 0.004926523938448253), (5568, 0.0), (5569, 0.0), (5570, 0.0), (5571, 0.0), (5572, 0.0), (5573, 0.0), (5574, 0.0), (5575, 0.0), (5576, 0.0), (5577, 0.017412359310507976), (5578, 0.0), (5579, 0.0), (5580, 0.0), (5581, 0.0), (5582, 0.0), (5583, 0.005707420269635844), (5584, 0.0), (5585, 0.0), (5586, 0.0), (5587, 0.011617607530963168), (5588, 0.0), (5589, 0.0), (5590, 0.0), (5591, 0.0), (5592, 0.0), (5593, 0.0), (5594, 0.0), (5595, 0.0), (5596, 0.0), (5597, 0.0), (5598, 0.0), (5599, 0.0), (5600, 0.0), (5601, 0.0), (5602, 0.0), (5603, 0.0), (5604, 0.0), (5605, 0.0), (5606, 0.0), (5607, 0.0), (5608, 0.0), (5609, 0.0), (5610, 0.0), (5611, 0.009114709283657083), (5612, 0.0), (5613, 0.0), (5614, 0.0), (5615, 0.0046248392800041895), (5616, 0.0), (5617, 0.0), (5618, 0.0), (5619, 0.0), (5620, 0.0), (5621, 0.0), (5622, 0.0), (5623, 0.0), (5624, 0.0), (5625, 0.005733065846070707), (5626, 0.0), (5627, 0.0), (5628, 0.0), (5629, 0.0), (5630, 0.0), (5631, 0.0), (5632, 0.0), (5633, 0.0), (5634, 0.0), (5635, 0.0), (5636, 0.0), (5637, 0.004077417192135638), (5638, 0.0), (5639, 0.0), (5640, 0.0), (5641, 0.0), (5642, 0.0), (5643, 0.0), (5644, 0.0), (5645, 0.0), (5646, 0.0), (5647, 0.0), (5648, 0.0), (5649, 0.0), (5650, 0.0), (5651, 0.0), (5652, 0.0), (5653, 0.0), (5654, 0.0), (5655, 0.0), (5656, 0.0), (5657, 0.0065435615240028045), (5658, 0.0), (5659, 0.007234551344665643), (5660, 0.0), (5661, 0.0), (5662, 0.0), (5663, 0.0), (5664, 0.005926016810543568), (5665, 0.0), (5666, 0.0), (5667, 0.0), (5668, 0.0), (5669, 0.0), (5670, 0.0075961227856398686), (5671, 0.0044733521213870305), (5672, 0.0), (5673, 0.004215541671354759), (5674, 0.0), (5675, 0.0), (5676, 0.0), (5677, 0.0), (5678, 0.004607777518972693), (5679, 0.0), (5680, 0.0), (5681, 0.0), (5682, 0.0), (5683, 0.005238122019067162), (5684, 0.0), (5685, 0.0), (5686, 0.0), (5687, 0.0), (5688, 0.0), (5689, 0.0), (5690, 0.0), (5691, 0.0), (5692, 0.0), (5693, 0.0), (5694, 0.0), (5695, 0.0), (5696, 0.0), (5697, 0.0), (5698, 0.0), (5699, 0.0), (5700, 0.0), (5701, 0.006457065343398609), (5702, 0.0), (5703, 0.0), (5704, 0.004945447941888663), (5705, 0.0), (5706, 0.0), (5707, 0.0062096375176216604), (5708, 0.0), (5709, 0.0), (5710, 0.0), (5711, 0.0), (5712, 0.0), (5713, 0.002816394470972358), (5714, 0.0), (5715, 0.0), (5716, 0.0), (5717, 0.0), (5718, 0.0), (5719, 0.005994340964040836), (5720, 0.0), (5721, 0.006599529633047548), (5722, 0.0), (5723, 0.0), (5724, 0.0), (5725, 0.0), (5726, 0.0), (5727, 0.00495333293775254), (5728, 0.0), (5729, 0.0), (5730, 0.0), (5731, 0.0), (5732, 0.01327362870359254), (5733, 0.006191163106251006), (5734, 0.011978573485259034), (5735, 0.00911219914484016), (5736, 0.0), (5737, 0.0), (5738, 0.0), (5739, 0.0), (5740, 0.0), (5741, 0.0), (5742, 0.006692932090274222), (5743, 0.004916517639817777), (5744, 0.005622201329216395), (5745, 0.0), (5746, 0.0), (5747, 0.0), (5748, 0.0), (5749, 0.0), (5750, 0.0), (5751, 0.0), (5752, 0.0), (5753, 0.0), (5754, 0.0), (5755, 0.0), (5756, 0.0), (5757, 0.0), (5758, 0.004922691194323047), (5759, 0.0), (5760, 0.006581236572525023), (5761, 0.0076995726133366246), (5762, 0.0), (5763, 0.0), (5764, 0.0), (5765, 0.0), (5766, 0.003526995253118235), (5767, 0.0), (5768, 0.0), (5769, 0.0), (5770, 0.0), (5771, 0.0), (5772, 0.0), (5773, 0.0), (5774, 0.0), (5775, 0.004503075192592087), (5776, 0.0), (5777, 0.0), (5778, 0.0), (5779, 0.0), (5780, 0.0), (5781, 0.0), (5782, 0.0), (5783, 0.0), (5784, 0.0), (5785, 0.0), (5786, 0.0), (5787, 0.0), (5788, 0.0), (5789, 0.0), (5790, 0.0), (5791, 0.0), (5792, 0.0), (5793, 0.0), (5794, 0.0), (5795, 0.009030230993781816), (5796, 0.0), (5797, 0.003310038435822398), (5798, 0.013474996470169115), (5799, 0.0), (5800, 0.0), (5801, 0.0), (5802, 0.007511214480704273), (5803, 0.0), (5804, 0.0), (5805, 0.0), (5806, 0.003269665902051966), (5807, 0.0), (5808, 0.0), (5809, 0.0), (5810, 0.0), (5811, 0.0), (5812, 0.0), (5813, 0.0), (5814, 0.014392913317344271), (5815, 0.0), (5816, 0.0), (5817, 0.008234193472309708), (5818, 0.0), (5819, 0.0), (5820, 0.0), (5821, 0.0034728577587547368), (5822, 0.0), (5823, 0.0), (5824, 0.0), (5825, 0.0), (5826, 0.0), (5827, 0.008272033245077474), (5828, 0.0), (5829, 0.0), (5830, 0.005969820264533933), (5831, 0.012220308160583946), (5832, 0.006165334015549968), (5833, 0.0), (5834, 0.0), (5835, 0.0), (5836, 0.0), (5837, 0.0), (5838, 0.0), (5839, 0.0), (5840, 0.0), (5841, 0.0), (5842, 0.0), (5843, 0.0), (5844, 0.0), (5845, 0.0), (5846, 0.0), (5847, 0.0), (5848, 0.0), (5849, 0.0), (5850, 0.0), (5851, 0.0), (5852, 0.0), (5853, 0.014141674764715045), (5854, 0.0), (5855, 0.0), (5856, 0.004520671171095275), (5857, 0.0), (5858, 0.0), (5859, 0.02329162277869184), (5860, 0.007882152274570307), (5861, 0.0), (5862, 0.0), (5863, 0.0), (5864, 0.006394178984954534), (5865, 0.0), (5866, 0.0), (5867, 0.0), (5868, 0.0), (5869, 0.0), (5870, 0.008047379055414423), (5871, 0.0), (5872, 0.0), (5873, 0.004048021253572287), (5874, 0.0), (5875, 0.0), (5876, 0.0), (5877, 0.0), (5878, 0.0), (5879, 0.0), (5880, 0.0), (5881, 0.0), (5882, 0.0), (5883, 0.0056507942621086115), (5884, 0.004440579604319509), (5885, 0.0), (5886, 0.0), (5887, 0.0), (5888, 0.0), (5889, 0.0), (5890, 0.0), (5891, 0.0), (5892, 0.0), (5893, 0.0), (5894, 0.0), (5895, 0.0), (5896, 0.0), (5897, 0.0), (5898, 0.0), (5899, 0.0), (5900, 0.0), (5901, 0.0), (5902, 0.0), (5903, 0.0), (5904, 0.0), (5905, 0.0), (5906, 0.0), (5907, 0.0), (5908, 0.0), (5909, 0.015767146580156315), (5910, 0.0), (5911, 0.0), (5912, 0.0), (5913, 0.0), (5914, 0.0), (5915, 0.0), (5916, 0.0), (5917, 0.0), (5918, 0.0), (5919, 0.0), (5920, 0.0), (5921, 0.00599875334060031), (5922, 0.0), (5923, 0.0), (5924, 0.0), (5925, 0.0), (5926, 0.0), (5927, 0.0), (5928, 0.0), (5929, 0.0), (5930, 0.0), (5931, 0.0), (5932, 0.0), (5933, 0.0), (5934, 0.0), (5935, 0.0), (5936, 0.0), (5937, 0.0), (5938, 0.0), (5939, 0.0), (5940, 0.0), (5941, 0.0), (5942, 0.0), (5943, 0.0), (5944, 0.0), (5945, 0.0), (5946, 0.0), (5947, 0.0), (5948, 0.0), (5949, 0.0), (5950, 0.0), (5951, 0.0), (5952, 0.01018814486236773), (5953, 0.0), (5954, 0.0), (5955, 0.0), (5956, 0.0), (5957, 0.005552518114503752), (5958, 0.0), (5959, 0.0), (5960, 0.006812881889158972), (5961, 0.0), (5962, 0.0), (5963, 0.0), (5964, 0.0), (5965, 0.0), (5966, 0.0), (5967, 0.0), (5968, 0.0), (5969, 0.0030995473956560884), (5970, 0.0), (5971, 0.0), (5972, 0.0), (5973, 0.0), (5974, 0.004356996261493934), (5975, 0.011316918676072856), (5976, 0.0), (5977, 0.008833171735311781), (5978, 0.0), (5979, 0.0), (5980, 0.0), (5981, 0.0), (5982, 0.0), (5983, 0.0), (5984, 0.0), (5985, 0.009408731237408338), (5986, 0.0), (5987, 0.009553454221468496), (5988, 0.0), (5989, 0.0), (5990, 0.0), (5991, 0.0), (5992, 0.0), (5993, 0.0), (5994, 0.0), (5995, 0.0035674422217019785), (5996, 0.0052636847261678475), (5997, 0.0), (5998, 0.0), (5999, 0.009699319167566858), (6000, 0.0), (6001, 0.0), (6002, 0.0), (6003, 0.0), (6004, 0.0), (6005, 0.0), (6006, 0.0), (6007, 0.0), (6008, 0.0), (6009, 0.0), (6010, 0.0), (6011, 0.007967787645846313), (6012, 0.0), (6013, 0.0), (6014, 0.0), (6015, 0.0), (6016, 0.0), (6017, 0.0), (6018, 0.0), (6019, 0.0), (6020, 0.0), (6021, 0.0), (6022, 0.0), (6023, 0.0), (6024, 0.0), (6025, 0.01332224307287184), (6026, 0.0), (6027, 0.0), (6028, 0.0), (6029, 0.0), (6030, 0.0), (6031, 0.0), (6032, 0.0036020736410093484), (6033, 0.0), (6034, 0.0), (6035, 0.0), (6036, 0.006214398081889564), (6037, 0.005101369430485684), (6038, 0.0), (6039, 0.0), (6040, 0.014582611396925231), (6041, 0.003050470951573664), (6042, 0.004432693016034439), (6043, 0.005497486167272768), (6044, 0.0), (6045, 0.0), (6046, 0.0), (6047, 0.0), (6048, 0.008265753473261528), (6049, 0.0), (6050, 0.00812753927632529), (6051, 0.0), (6052, 0.0), (6053, 0.0), (6054, 0.0), (6055, 0.0), (6056, 0.005664401535044631), (6057, 0.0), (6058, 0.004053309315535161), (6059, 0.0), (6060, 0.0), (6061, 0.0), (6062, 0.0), (6063, 0.0), (6064, 0.0), (6065, 0.0), (6066, 0.0), (6067, 0.0), (6068, 0.0), (6069, 0.0), (6070, 0.0), (6071, 0.0), (6072, 0.0), (6073, 0.0), (6074, 0.0), (6075, 0.0), (6076, 0.0), (6077, 0.010419524705246697), (6078, 0.00521835988679005), (6079, 0.009607650308313656), (6080, 0.0069669564546778395), (6081, 0.0), (6082, 0.005146117946677525), (6083, 0.0), (6084, 0.004966366698892263), (6085, 0.005592279411469604), (6086, 0.004855847700960611), (6087, 0.0), (6088, 0.0), (6089, 0.0), (6090, 0.0), (6091, 0.0), (6092, 0.006603593755609302), (6093, 0.004884794967026502), (6094, 0.0), (6095, 0.0), (6096, 0.0), (6097, 0.007038573871418745), (6098, 0.005232272417943878), (6099, 0.0), (6100, 0.0), (6101, 0.0), (6102, 0.003282017358297702), (6103, 0.009764490962308331), (6104, 0.0), (6105, 0.0), (6106, 0.0), (6107, 0.042329386639303954), (6108, 0.0), (6109, 0.0), (6110, 0.0), (6111, 0.0), (6112, 0.0), (6113, 0.0), (6114, 0.011311560175063452), (6115, 0.006192315597334106), (6116, 0.0), (6117, 0.0), (6118, 0.01610210456206731), (6119, 0.0), (6120, 0.010663373791469836), (6121, 0.0), (6122, 0.008551520712342121), (6123, 0.0), (6124, 0.004272389048226837), (6125, 0.0), (6126, 0.0), (6127, 0.0), (6128, 0.0), (6129, 0.0), (6130, 0.0), (6131, 0.0), (6132, 0.004035802388580312), (6133, 0.0), (6134, 0.0), (6135, 0.0), (6136, 0.0), (6137, 0.0), (6138, 0.0), (6139, 0.0), (6140, 0.0), (6141, 0.0), (6142, 0.0), (6143, 0.0), (6144, 0.0), (6145, 0.0), (6146, 0.0), (6147, 0.007720974277627302), (6148, 0.0), (6149, 0.0), (6150, 0.0), (6151, 0.009749854048829705), (6152, 0.0), (6153, 0.009269350694679069), (6154, 0.0), (6155, 0.0), (6156, 0.0), (6157, 0.005972797841609389), (6158, 0.0), (6159, 0.0032120799759221296), (6160, 0.0), (6161, 0.0), (6162, 0.0), (6163, 0.0), (6164, 0.0), (6165, 0.0), (6166, 0.0), (6167, 0.0), (6168, 0.0), (6169, 0.0), (6170, 0.0), (6171, 0.0), (6172, 0.0), (6173, 0.0), (6174, 0.00598927198431996), (6175, 0.0), (6176, 0.005084908685522135), (6177, 0.0), (6178, 0.0), (6179, 0.0), (6180, 0.00850591383319803), (6181, 0.0034175232321708056), (6182, 0.0), (6183, 0.004261167509210507), (6184, 0.0), (6185, 0.0), (6186, 0.0), (6187, 0.0), (6188, 0.0), (6189, 0.0), (6190, 0.0), (6191, 0.0), (6192, 0.0), (6193, 0.1272720265358555), (6194, 0.005599477326332861), (6195, 0.0), (6196, 0.0), (6197, 0.0), (6198, 0.0), (6199, 0.0), (6200, 0.0), (6201, 0.0), (6202, 0.0), (6203, 0.0), (6204, 0.0), (6205, 0.0), (6206, 0.0), (6207, 0.0), (6208, 0.008433005797470298), (6209, 0.003006178735032233), (6210, 0.0), (6211, 0.003388573047724247), (6212, 0.0), (6213, 0.0), (6214, 0.005109481818234445), (6215, 0.006508454251613709), (6216, 0.0), (6217, 0.0), (6218, 0.0), (6219, 0.03509703447441076), (6220, 0.0), (6221, 0.005543119301212138), (6222, 0.0), (6223, 0.004685179620231276), (6224, 0.0), (6225, 0.0), (6226, 0.0), (6227, 0.0), (6228, 0.0), (6229, 0.0060242941101552264), (6230, 0.0), (6231, 0.0), (6232, 0.0), (6233, 0.0), (6234, 0.0), (6235, 0.0), (6236, 0.0), (6237, 0.01573509932591235), (6238, 0.0), (6239, 0.0), (6240, 0.0), (6241, 0.0), (6242, 0.0), (6243, 0.004722281239944385), (6244, 0.004750746116901683), (6245, 0.0), (6246, 0.0), (6247, 0.008288238674312024), (6248, 0.0), (6249, 0.0), (6250, 0.0), (6251, 0.005796475059722003), (6252, 0.0), (6253, 0.0), (6254, 0.0), (6255, 0.003907870369776716), (6256, 0.0), (6257, 0.0), (6258, 0.0), (6259, 0.0), (6260, 0.0), (6261, 0.005182337257681002), (6262, 0.005610807531702184), (6263, 0.0), (6264, 0.0), (6265, 0.006412594595985167), (6266, 0.0), (6267, 0.0), (6268, 0.0), (6269, 0.0), (6270, 0.0), (6271, 0.0), (6272, 0.0), (6273, 0.0), (6274, 0.0), (6275, 0.012097359566761312), (6276, 0.0), (6277, 0.0), (6278, 0.0), (6279, 0.0), (6280, 0.0), (6281, 0.0), (6282, 0.0), (6283, 0.0), (6284, 0.0), (6285, 0.0), (6286, 0.0035059634248125033), (6287, 0.0), (6288, 0.00823204799647282), (6289, 0.0), (6290, 0.03832959634760022), (6291, 0.019627756610368096), (6292, 0.006293676207209639), (6293, 0.0), (6294, 0.0), (6295, 0.0), (6296, 0.0), (6297, 0.004253246775159659), (6298, 0.0049140837585687205), (6299, 0.0), (6300, 0.0), (6301, 0.0), (6302, 0.005069343373085564), (6303, 0.0), (6304, 0.0), (6305, 0.0), (6306, 0.0), (6307, 0.0), (6308, 0.0), (6309, 0.0), (6310, 0.005810780684669198), (6311, 0.008864022253979371), (6312, 0.0), (6313, 0.0), (6314, 0.0), (6315, 0.0), (6316, 0.0), (6317, 0.0), (6318, 0.0), (6319, 0.0), (6320, 0.0), (6321, 0.0), (6322, 0.0), (6323, 0.0), (6324, 0.0), (6325, 0.00806637413060847), (6326, 0.0), (6327, 0.0), (6328, 0.0), (6329, 0.0), (6330, 0.0), (6331, 0.0), (6332, 0.0), (6333, 0.0), (6334, 0.0), (6335, 0.0), (6336, 0.0), (6337, 0.0), (6338, 0.0), (6339, 0.0), (6340, 0.0), (6341, 0.0), (6342, 0.0), (6343, 0.0), (6344, 0.0), (6345, 0.0073372733148506725), (6346, 0.0), (6347, 0.0), (6348, 0.008818314008868568), (6349, 0.0045496378108782435), (6350, 0.0), (6351, 0.0), (6352, 0.0), (6353, 0.0), (6354, 0.0), (6355, 0.0036645088618843026), (6356, 0.0), (6357, 0.0), (6358, 0.0), (6359, 0.0), (6360, 0.0), (6361, 0.0), (6362, 0.0), (6363, 0.0), (6364, 0.0), (6365, 0.0), (6366, 0.0), (6367, 0.0), (6368, 0.0), (6369, 0.019445175470052933), (6370, 0.004290081926169846), (6371, 0.0), (6372, 0.0), (6373, 0.0), (6374, 0.004855420111116891), (6375, 0.00526138872034359), (6376, 0.0), (6377, 0.0), (6378, 0.0), (6379, 0.0), (6380, 0.0), (6381, 0.0), (6382, 0.0), (6383, 0.0), (6384, 0.0), (6385, 0.0), (6386, 0.0), (6387, 0.005106485386912733), (6388, 0.0054865442358414075), (6389, 0.0), (6390, 0.0), (6391, 0.003584379565765845), (6392, 0.0), (6393, 0.0), (6394, 0.0), (6395, 0.0), (6396, 0.0), (6397, 0.0), (6398, 0.004576481618421106), (6399, 0.0), (6400, 0.0), (6401, 0.0), (6402, 0.0), (6403, 0.0), (6404, 0.0), (6405, 0.0), (6406, 0.0033849876490279086), (6407, 0.0), (6408, 0.0), (6409, 0.0), (6410, 0.0), (6411, 0.006601218602469057), (6412, 0.0), (6413, 0.0), (6414, 0.0), (6415, 0.0063852510660382935), (6416, 0.0073576769941486484), (6417, 0.0), (6418, 0.0), (6419, 0.0), (6420, 0.003916037066750768), (6421, 0.0), (6422, 0.0), (6423, 0.0), (6424, 0.0), (6425, 0.0), (6426, 0.0), (6427, 0.0), (6428, 0.0), (6429, 0.030893953880673994), (6430, 0.0), (6431, 0.0), (6432, 0.0), (6433, 0.0), (6434, 0.0), (6435, 0.0), (6436, 0.0), (6437, 0.0), (6438, 0.0), (6439, 0.0), (6440, 0.0074500485425325206), (6441, 0.0), (6442, 0.004976295200436098), (6443, 0.0), (6444, 0.004653504827169246), (6445, 0.006714948519306214), (6446, 0.0), (6447, 0.011346297062271046), (6448, 0.0), (6449, 0.0), (6450, 0.0033777197572797384), (6451, 0.010581114624235895), (6452, 0.0), (6453, 0.0), (6454, 0.0), (6455, 0.0), (6456, 0.0), (6457, 0.0), (6458, 0.0), (6459, 0.0), (6460, 0.0), (6461, 0.0), (6462, 0.0), (6463, 0.0), (6464, 0.006441627655943525), (6465, 0.0), (6466, 0.0), (6467, 0.0), (6468, 0.0), (6469, 0.0036053804627232573), (6470, 0.006315389618007667), (6471, 0.0), (6472, 0.0), (6473, 0.0), (6474, 0.0), (6475, 0.011867928009694708), (6476, 0.0), (6477, 0.0), (6478, 0.0), (6479, 0.0), (6480, 0.0), (6481, 0.0), (6482, 0.0), (6483, 0.005165355657379245), (6484, 0.006050310442853716), (6485, 0.0), (6486, 0.0), (6487, 0.0), (6488, 0.005019247060747566), (6489, 0.0), (6490, 0.0), (6491, 0.0), (6492, 0.0), (6493, 0.0), (6494, 0.0), (6495, 0.0), (6496, 0.0), (6497, 0.0), (6498, 0.0), (6499, 0.0), (6500, 0.0), (6501, 0.0), (6502, 0.0), (6503, 0.0), (6504, 0.0), (6505, 0.0), (6506, 0.0), (6507, 0.0), (6508, 0.013824345488235124), (6509, 0.00849976488999816), (6510, 0.0), (6511, 0.0), (6512, 0.0), (6513, 0.0), (6514, 0.0), (6515, 0.0), (6516, 0.0), (6517, 0.0), (6518, 0.0), (6519, 0.0), (6520, 0.0), (6521, 0.0), (6522, 0.0), (6523, 0.0), (6524, 0.0), (6525, 0.0), (6526, 0.011689695257149935), (6527, 0.0), (6528, 0.0), (6529, 0.0), (6530, 0.007114039751953942), (6531, 0.0), (6532, 0.0), (6533, 0.0), (6534, 0.0), (6535, 0.01418205624372883), (6536, 0.0), (6537, 0.011106409548482094), (6538, 0.0), (6539, 0.0), (6540, 0.003786089849711377), (6541, 0.0), (6542, 0.0), (6543, 0.0), (6544, 0.0), (6545, 0.0), (6546, 0.0), (6547, 0.0), (6548, 0.0), (6549, 0.0), (6550, 0.0), (6551, 0.0), (6552, 0.0), (6553, 0.0), (6554, 0.059212889775680545), (6555, 0.0), (6556, 0.006198212031566858), (6557, 0.0), (6558, 0.0), (6559, 0.007695682208858327), (6560, 0.0), (6561, 0.0), (6562, 0.0), (6563, 0.0), (6564, 0.0), (6565, 0.0), (6566, 0.0), (6567, 0.0), (6568, 0.0), (6569, 0.0), (6570, 0.0), (6571, 0.0), (6572, 0.0), (6573, 0.0), (6574, 0.0), (6575, 0.0), (6576, 0.005345876398449719), (6577, 0.0), (6578, 0.0), (6579, 0.0), (6580, 0.0), (6581, 0.0), (6582, 0.004349799349138824), (6583, 0.0), (6584, 0.0), (6585, 0.0), (6586, 0.0), (6587, 0.0), (6588, 0.0), (6589, 0.0), (6590, 0.0035294529067580235), (6591, 0.003884350612059879), (6592, 0.0), (6593, 0.0), (6594, 0.0), (6595, 0.0), (6596, 0.0), (6597, 0.0), (6598, 0.009384073522408906), (6599, 0.00742117525360141), (6600, 0.0), (6601, 0.0), (6602, 0.0), (6603, 0.0), (6604, 0.0), (6605, 0.0), (6606, 0.003586749766986711), (6607, 0.0), (6608, 0.0), (6609, 0.0), (6610, 0.0), (6611, 0.0), (6612, 0.0), (6613, 0.0), (6614, 0.0), (6615, 0.0), (6616, 0.0), (6617, 0.0), (6618, 0.0), (6619, 0.0), (6620, 0.0), (6621, 0.0), (6622, 0.0), (6623, 0.0), (6624, 0.0), (6625, 0.0), (6626, 0.004361907007611065), (6627, 0.08047891602317381), (6628, 0.006773253121199144), (6629, 0.0), (6630, 0.0), (6631, 0.0), (6632, 0.0), (6633, 0.003872941721723022), (6634, 0.0), (6635, 0.0), (6636, 0.0), (6637, 0.0), (6638, 0.0), (6639, 0.0), (6640, 0.006395812020519929), (6641, 0.014948295760292623), (6642, 0.0072559180351657255), (6643, 0.0041193700917086015), (6644, 0.0), (6645, 0.0), (6646, 0.0), (6647, 0.007472763735781171), (6648, 0.0), (6649, 0.0), (6650, 0.0), (6651, 0.0), (6652, 0.0), (6653, 0.0), (6654, 0.0), (6655, 0.006629148058614381), (6656, 0.005130771128938379), (6657, 0.0), (6658, 0.0), (6659, 0.0), (6660, 0.0), (6661, 0.0), (6662, 0.0), (6663, 0.0), (6664, 0.004460632121891598), (6665, 0.0), (6666, 0.006092074983120853), (6667, 0.0), (6668, 0.0), (6669, 0.0), (6670, 0.009938947101214344), (6671, 0.0), (6672, 0.005499324783286664), (6673, 0.0), (6674, 0.0), (6675, 0.0), (6676, 0.0), (6677, 0.005301395306210548), (6678, 0.0), (6679, 0.0), (6680, 0.0), (6681, 0.0), (6682, 0.0), (6683, 0.0), (6684, 0.0), (6685, 0.0), (6686, 0.0), (6687, 0.0036539416496376696), (6688, 0.0070892859748391615), (6689, 0.0), (6690, 0.004626410675567209), (6691, 0.0), (6692, 0.0), (6693, 0.0), (6694, 0.004081314778695457), (6695, 0.0), (6696, 0.0), (6697, 0.004295897964097881), (6698, 0.0), (6699, 0.010280651825385421), (6700, 0.005731095789161418), (6701, 0.007822405058338405), (6702, 0.0), (6703, 0.0037602991713951775), (6704, 0.0), (6705, 0.0), (6706, 0.004319930467272911), (6707, 0.0), (6708, 0.0), (6709, 0.0), (6710, 0.0), (6711, 0.0), (6712, 0.006980269395821141), (6713, 0.01788809832017955), (6714, 0.0), (6715, 0.0), (6716, 0.02472930661926004), (6717, 0.0), (6718, 0.0), (6719, 0.0), (6720, 0.0), (6721, 0.0), (6722, 0.0), (6723, 0.0032050619235079888), (6724, 0.0), (6725, 0.0), (6726, 0.0), (6727, 0.003796241073344514), (6728, 0.0), (6729, 0.0), (6730, 0.0), (6731, 0.0), (6732, 0.01012539140269769), (6733, 0.0), (6734, 0.0), (6735, 0.0), (6736, 0.0), (6737, 0.0050033318082335874), (6738, 0.0), (6739, 0.0), (6740, 0.0), (6741, 0.006488470487825237), (6742, 0.0), (6743, 0.015547073117358805), (6744, 0.0), (6745, 0.0), (6746, 0.0), (6747, 0.0), (6748, 0.0), (6749, 0.0), (6750, 0.0068826890518525665), (6751, 0.0), (6752, 0.0), (6753, 0.0), (6754, 0.0), (6755, 0.0), (6756, 0.0), (6757, 0.0), (6758, 0.0), (6759, 0.004285552827552591), (6760, 0.0), (6761, 0.0), (6762, 0.0), (6763, 0.0), (6764, 0.0), (6765, 0.0), (6766, 0.0), (6767, 0.0), (6768, 0.006223932211024599), (6769, 0.0), (6770, 0.015147912371894234), (6771, 0.010469665948064068), (6772, 0.0), (6773, 0.0), (6774, 0.009926596330377919), (6775, 0.0), (6776, 0.0), (6777, 0.0), (6778, 0.014981071569514939), (6779, 0.0), (6780, 0.007786387402417627), (6781, 0.0), (6782, 0.0), (6783, 0.0030232321719677827), (6784, 0.0), (6785, 0.0054455511767967), (6786, 0.0), (6787, 0.0), (6788, 0.0), (6789, 0.0), (6790, 0.0), (6791, 0.0023974820017473473), (6792, 0.0), (6793, 0.0), (6794, 0.0), (6795, 0.0), (6796, 0.0), (6797, 0.0), (6798, 0.0), (6799, 0.0), (6800, 0.0), (6801, 0.0), (6802, 0.0), (6803, 0.0), (6804, 0.0), (6805, 0.0), (6806, 0.0), (6807, 0.0), (6808, 0.0), (6809, 0.0), (6810, 0.0), (6811, 0.0), (6812, 0.0), (6813, 0.0), (6814, 0.0), (6815, 0.0), (6816, 0.0), (6817, 0.0), (6818, 0.0), (6819, 0.0), (6820, 0.00666489934160397), (6821, 0.0), (6822, 0.005275744878276767), (6823, 0.0), (6824, 0.0), (6825, 0.0), (6826, 0.0), (6827, 0.0), (6828, 0.0), (6829, 0.0), (6830, 0.0), (6831, 0.008674891401010331), (6832, 0.00879619538618247), (6833, 0.0071210288898637545), (6834, 0.010978985788778414), (6835, 0.0), (6836, 0.0), (6837, 0.0), (6838, 0.0), (6839, 0.0), (6840, 0.003920623603705809), (6841, 0.0), (6842, 0.0035850453281741483), (6843, 0.0), (6844, 0.0), (6845, 0.0), (6846, 0.0), (6847, 0.0), (6848, 0.0), (6849, 0.0), (6850, 0.0), (6851, 0.0), (6852, 0.0), (6853, 0.0), (6854, 0.0), (6855, 0.0), (6856, 0.0), (6857, 0.0), (6858, 0.0), (6859, 0.0), (6860, 0.0), (6861, 0.0), (6862, 0.006124433695221237), (6863, 0.003490787649615122), (6864, 0.010508992346392075), (6865, 0.0), (6866, 0.0), (6867, 0.0), (6868, 0.0), (6869, 0.0), (6870, 0.0), (6871, 0.0), (6872, 0.0), (6873, 0.0), (6874, 0.0), (6875, 0.0), (6876, 0.0), (6877, 0.0), (6878, 0.0), (6879, 0.0), (6880, 0.0), (6881, 0.0), (6882, 0.005991121822770042), (6883, 0.0), (6884, 0.0), (6885, 0.007799025829849576), (6886, 0.0), (6887, 0.0038452680892179236), (6888, 0.0), (6889, 0.0), (6890, 0.0), (6891, 0.0), (6892, 0.0), (6893, 0.0), (6894, 0.0), (6895, 0.0), (6896, 0.0), (6897, 0.0), (6898, 0.0), (6899, 0.0), (6900, 0.0), (6901, 0.0070530282910869005), (6902, 0.0), (6903, 0.0), (6904, 0.0), (6905, 0.003960380777475153), (6906, 0.0), (6907, 0.0), (6908, 0.0), (6909, 0.0), (6910, 0.0), (6911, 0.0), (6912, 0.0), (6913, 0.0), (6914, 0.0), (6915, 0.0), (6916, 0.0), (6917, 0.0), (6918, 0.0), (6919, 0.0), (6920, 0.0), (6921, 0.0), (6922, 0.0), (6923, 0.0), (6924, 0.0), (6925, 0.0), (6926, 0.009894721258818136), (6927, 0.0), (6928, 0.0), (6929, 0.0), (6930, 0.0), (6931, 0.0), (6932, 0.0), (6933, 0.0), (6934, 0.0), (6935, 0.004427262108352891), (6936, 0.0), (6937, 0.0), (6938, 0.0), (6939, 0.0), (6940, 0.0), (6941, 0.00497437243523922), (6942, 0.0), (6943, 0.005697244739366817), (6944, 0.0), (6945, 0.0), (6946, 0.007270678939096269), (6947, 0.0), (6948, 0.0), (6949, 0.0), (6950, 0.0), (6951, 0.004701008605190623), (6952, 0.0), (6953, 0.0), (6954, 0.005170211115450216), (6955, 0.0), (6956, 0.0), (6957, 0.0), (6958, 0.0), (6959, 0.0), (6960, 0.0), (6961, 0.0), (6962, 0.0), (6963, 0.0), (6964, 0.0), (6965, 0.0), (6966, 0.0), (6967, 0.0), (6968, 0.0), (6969, 0.013523711764699185), (6970, 0.0), (6971, 0.0), (6972, 0.0), (6973, 0.0), (6974, 0.0), (6975, 0.0), (6976, 0.0041315636690805015), (6977, 0.0032937956041397343), (6978, 0.010401802307443572), (6979, 0.0), (6980, 0.0), (6981, 0.0), (6982, 0.0), (6983, 0.0), (6984, 0.0), (6985, 0.0), (6986, 0.0), (6987, 0.0), (6988, 0.0), (6989, 0.0), (6990, 0.0), (6991, 0.0), (6992, 0.0), (6993, 0.0), (6994, 0.0), (6995, 0.0), (6996, 0.0), (6997, 0.0), (6998, 0.0), (6999, 0.0), (7000, 0.0), (7001, 0.0), (7002, 0.0), (7003, 0.012247834558595093), (7004, 0.0), (7005, 0.0), (7006, 0.0), (7007, 0.0), (7008, 0.0), (7009, 0.0), (7010, 0.0), (7011, 0.0), (7012, 0.0), (7013, 0.0), (7014, 0.0), (7015, 0.0), (7016, 0.009372610026859726), (7017, 0.0), (7018, 0.0), (7019, 0.0), (7020, 0.0), (7021, 0.009962132317160283), (7022, 0.0), (7023, 0.0), (7024, 0.0), (7025, 0.0), (7026, 0.0), (7027, 0.0), (7028, 0.0), (7029, 0.0), (7030, 0.0), (7031, 0.0), (7032, 0.0), (7033, 0.0), (7034, 0.0), (7035, 0.0), (7036, 0.0), (7037, 0.0), (7038, 0.007588119843696997), (7039, 0.0), (7040, 0.0), (7041, 0.0), (7042, 0.011315281239777522), (7043, 0.010828525518507272), (7044, 0.0), (7045, 0.0), (7046, 0.0), (7047, 0.0), (7048, 0.0), (7049, 0.005609253861347377), (7050, 0.0), (7051, 0.0), (7052, 0.0), (7053, 0.008055170513147877), (7054, 0.0049281079950209), (7055, 0.0), (7056, 0.0), (7057, 0.0), (7058, 0.0), (7059, 0.0), (7060, 0.0), (7061, 0.0), (7062, 0.0), (7063, 0.0), (7064, 0.008295451714876502), (7065, 0.0), (7066, 0.0), (7067, 0.0), (7068, 0.0), (7069, 0.006337838420033559), (7070, 0.003438517502966766), (7071, 0.0), (7072, 0.0), (7073, 0.0), (7074, 0.0), (7075, 0.00665232219010094), (7076, 0.0), (7077, 0.011075328540176848), (7078, 0.0), (7079, 0.0), (7080, 0.0), (7081, 0.0), (7082, 0.0), (7083, 0.0), (7084, 0.006439840147854141), (7085, 0.0), (7086, 0.0), (7087, 0.0), (7088, 0.0), (7089, 0.0), (7090, 0.0), (7091, 0.0), (7092, 0.006682420401949217), (7093, 0.0), (7094, 0.0), (7095, 0.0), (7096, 0.0), (7097, 0.0033976484714271205), (7098, 0.0), (7099, 0.0), (7100, 0.006767445101952362), (7101, 0.010585116780618829), (7102, 0.0), (7103, 0.0), (7104, 0.0025793232818425416), (7105, 0.0), (7106, 0.0), (7107, 0.0), (7108, 0.0), (7109, 0.0), (7110, 0.0), (7111, 0.0), (7112, 0.0), (7113, 0.0), (7114, 0.0), (7115, 0.0027324248556839692), (7116, 0.0), (7117, 0.0), (7118, 0.0), (7119, 0.0), (7120, 0.0), (7121, 0.0), (7122, 0.0), (7123, 0.0), (7124, 0.006049475252716882), (7125, 0.0), (7126, 0.003919125658588043), (7127, 0.0), (7128, 0.0), (7129, 0.0), (7130, 0.0), (7131, 0.004341338946695286), (7132, 0.0040696800091993045), (7133, 0.0), (7134, 0.0), (7135, 0.0), (7136, 0.0), (7137, 0.0), (7138, 0.0), (7139, 0.0), (7140, 0.005288136150615427), (7141, 0.0), (7142, 0.0), (7143, 0.0), (7144, 0.0), (7145, 0.0), (7146, 0.0), (7147, 0.0), (7148, 0.00814660852489668), (7149, 0.0), (7150, 0.0), (7151, 0.0), (7152, 0.0), (7153, 0.0), (7154, 0.0), (7155, 0.0), (7156, 0.0), (7157, 0.0), (7158, 0.0), (7159, 0.01136144307543329), (7160, 0.0), (7161, 0.0), (7162, 0.0), (7163, 0.0), (7164, 0.0), (7165, 0.0), (7166, 0.005474164156087488), (7167, 0.0), (7168, 0.0), (7169, 0.0), (7170, 0.0), (7171, 0.0), (7172, 0.007957601901932846), (7173, 0.0), (7174, 0.0), (7175, 0.0), (7176, 0.0), (7177, 0.0), (7178, 0.0), (7179, 0.0), (7180, 0.0), (7181, 0.008524314168658577), (7182, 0.0), (7183, 0.0), (7184, 0.0), (7185, 0.00599484383116604), (7186, 0.0), (7187, 0.0), (7188, 0.0), (7189, 0.0), (7190, 0.0), (7191, 0.0), (7192, 0.0), (7193, 0.0), (7194, 0.0), (7195, 0.006022634587849853), (7196, 0.005848323978917573), (7197, 0.0), (7198, 0.006281525348702395), (7199, 0.007838861329547886), (7200, 0.0), (7201, 0.0), (7202, 0.0), (7203, 0.0), (7204, 0.02655094535805092), (7205, 0.0), (7206, 0.005883439874009583), (7207, 0.0), (7208, 0.0), (7209, 0.0), (7210, 0.0), (7211, 0.0), (7212, 0.0), (7213, 0.0), (7214, 0.0), (7215, 0.0), (7216, 0.0), (7217, 0.0), (7218, 0.0), (7219, 0.0), (7220, 0.0), (7221, 0.012643165728331306), (7222, 0.0), (7223, 0.0), (7224, 0.0), (7225, 0.0), (7226, 0.0), (7227, 0.0), (7228, 0.0), (7229, 0.0045765808085515645), (7230, 0.0050648629433615285), (7231, 0.0), (7232, 0.0), (7233, 0.01676988719703583), (7234, 0.0), (7235, 0.0), (7236, 0.0), (7237, 0.0), (7238, 0.0), (7239, 0.0), (7240, 0.0), (7241, 0.0), (7242, 0.0), (7243, 0.0), (7244, 0.0), (7245, 0.0), (7246, 0.0), (7247, 0.0), (7248, 0.0), (7249, 0.0032750471204205053), (7250, 0.0), (7251, 0.0), (7252, 0.0), (7253, 0.0), (7254, 0.0), (7255, 0.0), (7256, 0.0), (7257, 0.0), (7258, 0.0), (7259, 0.0), (7260, 0.0), (7261, 0.0), (7262, 0.0), (7263, 0.0), (7264, 0.0), (7265, 0.0), (7266, 0.012480080330877845), (7267, 0.022049480825642065), (7268, 0.0), (7269, 0.0), (7270, 0.0), (7271, 0.0), (7272, 0.0), (7273, 0.010784971921117142), (7274, 0.0), (7275, 0.0), (7276, 0.0), (7277, 0.0), (7278, 0.0), (7279, 0.0), (7280, 0.0), (7281, 0.0), (7282, 0.0), (7283, 0.0039772240194745), (7284, 0.0), (7285, 0.0), (7286, 0.0), (7287, 0.0), (7288, 0.008448180515491064), (7289, 0.0), (7290, 0.0), (7291, 0.0), (7292, 0.0), (7293, 0.0), (7294, 0.0), (7295, 0.0), (7296, 0.0), (7297, 0.0), (7298, 0.0), (7299, 0.007096773715038156), (7300, 0.004780555165944142), (7301, 0.0), (7302, 0.0), (7303, 0.0), (7304, 0.0), (7305, 0.0), (7306, 0.004540872052969827), (7307, 0.0), (7308, 0.007275164586348543), (7309, 0.0), (7310, 0.0), (7311, 0.005115242583005059), (7312, 0.0), (7313, 0.0), (7314, 0.006139884182841337), (7315, 0.0), (7316, 0.0), (7317, 0.0), (7318, 0.0), (7319, 0.0), (7320, 0.0), (7321, 0.0), (7322, 0.0), (7323, 0.0), (7324, 0.0), (7325, 0.0), (7326, 0.0), (7327, 0.0), (7328, 0.0), (7329, 0.005363263761464681), (7330, 0.0), (7331, 0.0058171632327404825), (7332, 0.0), (7333, 0.0), (7334, 0.010063900318514316), (7335, 0.0), (7336, 0.0), (7337, 0.0), (7338, 0.0), (7339, 0.0), (7340, 0.0), (7341, 0.004653692333206696), (7342, 0.0), (7343, 0.0), (7344, 0.0), (7345, 0.0), (7346, 0.0), (7347, 0.0), (7348, 0.0), (7349, 0.0036889128348256356), (7350, 0.0023264117552428787), (7351, 0.0), (7352, 0.0), (7353, 0.0), (7354, 0.0), (7355, 0.0), (7356, 0.0052303136593510515), (7357, 0.0), (7358, 0.0), (7359, 0.0), (7360, 0.0), (7361, 0.0), (7362, 0.0), (7363, 0.0), (7364, 0.00391876662863943), (7365, 0.004369284421828251), (7366, 0.0), (7367, 0.0), (7368, 0.0), (7369, 0.0), (7370, 0.0), (7371, 0.029690566766866176), (7372, 0.0), (7373, 0.0), (7374, 0.0), (7375, 0.0), (7376, 0.0), (7377, 0.0), (7378, 0.0), (7379, 0.0), (7380, 0.0), (7381, 0.0), (7382, 0.0), (7383, 0.0), (7384, 0.00442442388942486), (7385, 0.0), (7386, 0.0), (7387, 0.008502537419282918), (7388, 0.0), (7389, 0.0), (7390, 0.009087880365798353), (7391, 0.0), (7392, 0.0), (7393, 0.0), (7394, 0.0), (7395, 0.0), (7396, 0.0), (7397, 0.008943749823306268), (7398, 0.0), (7399, 0.0), (7400, 0.0), (7401, 0.0), (7402, 0.0), (7403, 0.010845240538077344), (7404, 0.0), (7405, 0.0), (7406, 0.0), (7407, 0.0), (7408, 0.0), (7409, 0.0), (7410, 0.004234861374133311), (7411, 0.0), (7412, 0.0), (7413, 0.0), (7414, 0.0), (7415, 0.004390139643955093), (7416, 0.0), (7417, 0.0), (7418, 0.0), (7419, 0.0), (7420, 0.020197138252333425), (7421, 0.0), (7422, 0.003568331378268792), (7423, 0.0), (7424, 0.0), (7425, 0.0), (7426, 0.011364825013091773), (7427, 0.0), (7428, 0.0), (7429, 0.0), (7430, 0.0), (7431, 0.0), (7432, 0.0), (7433, 0.0), (7434, 0.0), (7435, 0.01939219038449866), (7436, 0.0), (7437, 0.0), (7438, 0.0), (7439, 0.0), (7440, 0.0), (7441, 0.0), (7442, 0.0), (7443, 0.0), (7444, 0.0), (7445, 0.0), (7446, 0.0), (7447, 0.0), (7448, 0.0), (7449, 0.0), (7450, 0.0), (7451, 0.0), (7452, 0.0), (7453, 0.0), (7454, 0.0), (7455, 0.0), (7456, 0.018442265053405484), (7457, 0.0), (7458, 0.0), (7459, 0.0037175321312792344), (7460, 0.004870328621999838), (7461, 0.004805647594114121), (7462, 0.0), (7463, 0.0), (7464, 0.0), (7465, 0.007902805023744913), (7466, 0.0), (7467, 0.015091696452790565), (7468, 0.0), (7469, 0.010680701875626097), (7470, 0.0), (7471, 0.0), (7472, 0.0), (7473, 0.0), (7474, 0.0), (7475, 0.0), (7476, 0.004511003251645817), (7477, 0.0), (7478, 0.0), (7479, 0.0), (7480, 0.006069734238744094), (7481, 0.0), (7482, 0.0), (7483, 0.0), (7484, 0.0), (7485, 0.003905414718988424), (7486, 0.0), (7487, 0.0), (7488, 0.0), (7489, 0.0), (7490, 0.0), (7491, 0.0), (7492, 0.012099137595022623), (7493, 0.0), (7494, 0.005157076111435), (7495, 0.0), (7496, 0.0038919619185010398), (7497, 0.0), (7498, 0.0), (7499, 0.0), (7500, 0.0), (7501, 0.010743602560619325), (7502, 0.0), (7503, 0.0), (7504, 0.0), (7505, 0.004478042656581777), (7506, 0.0), (7507, 0.007420068196858392), (7508, 0.0), (7509, 0.0), (7510, 0.0), (7511, 0.00500834885421719), (7512, 0.0), (7513, 0.0), (7514, 0.0), (7515, 0.0), (7516, 0.005008150382076673), (7517, 0.007226892085048642), (7518, 0.0), (7519, 0.0), (7520, 0.0), (7521, 0.0), (7522, 0.0), (7523, 0.012876950735735901), (7524, 0.006861462041650047), (7525, 0.0), (7526, 0.0), (7527, 0.0), (7528, 0.0), (7529, 0.0), (7530, 0.0), (7531, 0.0334442991407337), (7532, 0.009925880039564327), (7533, 0.0), (7534, 0.0), (7535, 0.23081293461697489), (7536, 0.0), (7537, 0.0), (7538, 0.0), (7539, 0.0), (7540, 0.0), (7541, 0.0), (7542, 0.0), (7543, 0.0), (7544, 0.0), (7545, 0.0), (7546, 0.014905206541998017), (7547, 0.0029635130555797726), (7548, 0.0), (7549, 0.0), (7550, 0.0), (7551, 0.0), (7552, 0.0), (7553, 0.0), (7554, 0.007948609894414913), (7555, 0.0), (7556, 0.0), (7557, 0.0), (7558, 0.0), (7559, 0.0), (7560, 0.0), (7561, 0.006288279370543157), (7562, 0.0), (7563, 0.0), (7564, 0.0), (7565, 0.0), (7566, 0.0), (7567, 0.0), (7568, 0.0), (7569, 0.004848999989273814), (7570, 0.0), (7571, 0.009805770426319176), (7572, 0.0), (7573, 0.005826177138325587), (7574, 0.0), (7575, 0.0), (7576, 0.0), (7577, 0.0), (7578, 0.0), (7579, 0.0), (7580, 0.0), (7581, 0.0), (7582, 0.0), (7583, 0.0), (7584, 0.0), (7585, 0.0), (7586, 0.0), (7587, 0.0), (7588, 0.0), (7589, 0.0), (7590, 0.0), (7591, 0.0), (7592, 0.009832220149456061), (7593, 0.0), (7594, 0.0), (7595, 0.0), (7596, 0.0), (7597, 0.00539529259997828), (7598, 0.0), (7599, 0.006792199195715088), (7600, 0.0), (7601, 0.004697163467571207), (7602, 0.0), (7603, 0.0), (7604, 0.0), (7605, 0.0), (7606, 0.0), (7607, 0.0), (7608, 0.0), (7609, 0.0059791242429468195), (7610, 0.0), (7611, 0.0), (7612, 0.0), (7613, 0.0), (7614, 0.0), (7615, 0.0052913893316655185), (7616, 0.0), (7617, 0.0051727300769024934), (7618, 0.020195310105462383), (7619, 0.0), (7620, 0.0), (7621, 0.0052832279491129164), (7622, 0.0), (7623, 0.0), (7624, 0.0), (7625, 0.0), (7626, 0.0), (7627, 0.0), (7628, 0.0), (7629, 0.0), (7630, 0.0), (7631, 0.0), (7632, 0.0), (7633, 0.0), (7634, 0.0), (7635, 0.0), (7636, 0.0), (7637, 0.0), (7638, 0.005422463140860343), (7639, 0.0), (7640, 0.0), (7641, 0.0), (7642, 0.0), (7643, 0.0), (7644, 0.0), (7645, 0.0), (7646, 0.010169891763702747), (7647, 0.0), (7648, 0.0), (7649, 0.0), (7650, 0.0), (7651, 0.006672142831849321), (7652, 0.004085509956731978), (7653, 0.01409367173597172), (7654, 0.0), (7655, 0.0), (7656, 0.0), (7657, 0.0), (7658, 0.004111128368391996), (7659, 0.0), (7660, 0.0), (7661, 0.0), (7662, 0.0), (7663, 0.0), (7664, 0.0), (7665, 0.003554253459105878), (7666, 0.0), (7667, 0.0), (7668, 0.0), (7669, 0.0), (7670, 0.0), (7671, 0.0), (7672, 0.0), (7673, 0.0), (7674, 0.0), (7675, 0.0), (7676, 0.0), (7677, 0.0), (7678, 0.006732586431800102), (7679, 0.0), (7680, 0.0), (7681, 0.0), (7682, 0.0036481847544506483), (7683, 0.0), (7684, 0.004540416470916481), (7685, 0.00901988454943905), (7686, 0.004881275389157646), (7687, 0.0), (7688, 0.003104215412753042), (7689, 0.0), (7690, 0.0), (7691, 0.0), (7692, 0.0), (7693, 0.010398954493632165), (7694, 0.0043647960051257685), (7695, 0.0), (7696, 0.008346950475151674), (7697, 0.0), (7698, 0.012784231609856119), (7699, 0.0), (7700, 0.0), (7701, 0.0), (7702, 0.0), (7703, 0.0), (7704, 0.004842269792857221), (7705, 0.0), (7706, 0.0), (7707, 0.0), (7708, 0.0), (7709, 0.0), (7710, 0.0), (7711, 0.0), (7712, 0.006235756984783122), (7713, 0.0), (7714, 0.0), (7715, 0.0), (7716, 0.0), (7717, 0.0), (7718, 0.0), (7719, 0.0), (7720, 0.0), (7721, 0.0), (7722, 0.0), (7723, 0.03634861898570783), (7724, 0.0), (7725, 0.0), (7726, 0.0), (7727, 0.0), (7728, 0.0), (7729, 0.0), (7730, 0.0), (7731, 0.0), (7732, 0.0), (7733, 0.0), (7734, 0.0), (7735, 0.0), (7736, 0.0), (7737, 0.02582497148274577), (7738, 0.006577038404817138), (7739, 0.0), (7740, 0.004618998829350077), (7741, 0.0), (7742, 0.0), (7743, 0.0), (7744, 0.012278055422930347), (7745, 0.0), (7746, 0.0), (7747, 0.007398624347595256), (7748, 0.005005921816390548), (7749, 0.01212366355145602), (7750, 0.0), (7751, 0.0), (7752, 0.007379670239614951), (7753, 0.0069455741834044), (7754, 0.0), (7755, 0.0), (7756, 0.0), (7757, 0.0), (7758, 0.0), (7759, 0.0), (7760, 0.0), (7761, 0.0), (7762, 0.0), (7763, 0.0), (7764, 0.0), (7765, 0.0), (7766, 0.014058037907710614), (7767, 0.0), (7768, 0.009079857986961221), (7769, 0.005756734413927497), (7770, 0.0), (7771, 0.014452382542310394), (7772, 0.0), (7773, 0.0), (7774, 0.0), (7775, 0.0), (7776, 0.0), (7777, 0.0), (7778, 0.0), (7779, 0.0), (7780, 0.007056783016543055), (7781, 0.0), (7782, 0.0), (7783, 0.0), (7784, 0.0), (7785, 0.0039581886337010045), (7786, 0.0), (7787, 0.0), (7788, 0.005416063006291682), (7789, 0.0), (7790, 0.0), (7791, 0.0), (7792, 0.0), (7793, 0.003331820984841408), (7794, 0.0), (7795, 0.0), (7796, 0.0), (7797, 0.0), (7798, 0.0), (7799, 0.006503883164541235), (7800, 0.0), (7801, 0.0), (7802, 0.0), (7803, 0.0), (7804, 0.0), (7805, 0.0), (7806, 0.0), (7807, 0.0), (7808, 0.01387824424267019), (7809, 0.0), (7810, 0.0), (7811, 0.0), (7812, 0.0), (7813, 0.0), (7814, 0.0), (7815, 0.0), (7816, 0.0), (7817, 0.0), (7818, 0.008204678576803803), (7819, 0.0), (7820, 0.0), (7821, 0.0), (7822, 0.0), (7823, 0.0), (7824, 0.004480150743746396), (7825, 0.0), (7826, 0.0), (7827, 0.0), (7828, 0.0), (7829, 0.0), (7830, 0.0), (7831, 0.0), (7832, 0.0), (7833, 0.0), (7834, 0.0), (7835, 0.0), (7836, 0.0), (7837, 0.0), (7838, 0.0), (7839, 0.010674780999644803), (7840, 0.0), (7841, 0.0), (7842, 0.0), (7843, 0.0), (7844, 0.0), (7845, 0.0), (7846, 0.0), (7847, 0.010186106288929945), (7848, 0.0), (7849, 0.0), (7850, 0.0), (7851, 0.0), (7852, 0.0), (7853, 0.0), (7854, 0.0), (7855, 0.0), (7856, 0.0037774316409648384), (7857, 0.0), (7858, 0.006317747517472386), (7859, 0.0), (7860, 0.0), (7861, 0.0), (7862, 0.0), (7863, 0.0), (7864, 0.0041789590724340036), (7865, 0.0), (7866, 0.0), (7867, 0.0), (7868, 0.00943595891839052), (7869, 0.0), (7870, 0.007145499647533876), (7871, 0.0), (7872, 0.0), (7873, 0.0), (7874, 0.0), (7875, 0.0065011788487498515), (7876, 0.003774995059987156), (7877, 0.007580038044256674), (7878, 0.0), (7879, 0.0052387586267879), (7880, 0.0), (7881, 0.0), (7882, 0.0), (7883, 0.0), (7884, 0.0), (7885, 0.0), (7886, 0.0), (7887, 0.0), (7888, 0.0), (7889, 0.0), (7890, 0.0), (7891, 0.003931729531049647), (7892, 0.0), (7893, 0.0), (7894, 0.0), (7895, 0.0), (7896, 0.0), (7897, 0.0), (7898, 0.0), (7899, 0.0), (7900, 0.0), (7901, 0.0), (7902, 0.0), (7903, 0.0), (7904, 0.0), (7905, 0.0), (7906, 0.0), (7907, 0.0), (7908, 0.0052253537652159395), (7909, 0.0), (7910, 0.0), (7911, 0.0), (7912, 0.0), (7913, 0.0), (7914, 0.0), (7915, 0.0), (7916, 0.0), (7917, 0.0), (7918, 0.0), (7919, 0.0), (7920, 0.0), (7921, 0.0), (7922, 0.0), (7923, 0.0), (7924, 0.0), (7925, 0.0), (7926, 0.0), (7927, 0.0), (7928, 0.0), (7929, 0.0), (7930, 0.0), (7931, 0.0), (7932, 0.0), (7933, 0.0), (7934, 0.0), (7935, 0.0), (7936, 0.0), (7937, 0.0), (7938, 0.0), (7939, 0.0), (7940, 0.0), (7941, 0.0), (7942, 0.0), (7943, 0.0), (7944, 0.0), (7945, 0.0), (7946, 0.0), (7947, 0.0), (7948, 0.0), (7949, 0.0), (7950, 0.0), (7951, 0.0), (7952, 0.0), (7953, 0.0063714644029501085), (7954, 0.005780622449423155), (7955, 0.008152188310557095), (7956, 0.0), (7957, 0.0), (7958, 0.0), (7959, 0.0), (7960, 0.0), (7961, 0.0), (7962, 0.0), (7963, 0.0), (7964, 0.0), (7965, 0.0), (7966, 0.00997993536246706), (7967, 0.0), (7968, 0.0), (7969, 0.0), (7970, 0.0), (7971, 0.008538232491381628), (7972, 0.0), (7973, 0.003906415867729843), (7974, 0.0), (7975, 0.004560540881684251), (7976, 0.0031041077296452024), (7977, 0.0), (7978, 0.008786469795095569), (7979, 0.0), (7980, 0.0), (7981, 0.0), (7982, 0.0), (7983, 0.0), (7984, 0.005307971137905043), (7985, 0.0), (7986, 0.0), (7987, 0.0), (7988, 0.0), (7989, 0.0), (7990, 0.0), (7991, 0.0), (7992, 0.0), (7993, 0.0), (7994, 0.0), (7995, 0.0), (7996, 0.0), (7997, 0.0), (7998, 0.0), (7999, 0.0), (8000, 0.0), (8001, 0.0), (8002, 0.008961912493248288), (8003, 0.0), (8004, 0.0), (8005, 0.0), (8006, 0.0), (8007, 0.008740633952361552), (8008, 0.0), (8009, 0.0), (8010, 0.003112864353628232), (8011, 0.0), (8012, 0.011161719563159886), (8013, 0.0), (8014, 0.0), (8015, 0.0), (8016, 0.0), (8017, 0.0032961772008737833), (8018, 0.0), (8019, 0.0), (8020, 0.010018616779408188), (8021, 0.0), (8022, 0.0), (8023, 0.0), (8024, 0.004790136086437098), (8025, 0.014346434623696051), (8026, 0.0), (8027, 0.0), (8028, 0.0), (8029, 0.004028825511524855), (8030, 0.0), (8031, 0.0), (8032, 0.0), (8033, 0.0), (8034, 0.0), (8035, 0.01207145725811231), (8036, 0.0), (8037, 0.0), (8038, 0.0), (8039, 0.0), (8040, 0.0), (8041, 0.0), (8042, 0.0), (8043, 0.0), (8044, 0.0), (8045, 0.0), (8046, 0.0), (8047, 0.0), (8048, 0.004114185829202258), (8049, 0.0), (8050, 0.0), (8051, 0.00953074633625457), (8052, 0.0), (8053, 0.0), (8054, 0.0), (8055, 0.0), (8056, 0.0), (8057, 0.0), (8058, 0.0), (8059, 0.0), (8060, 0.0), (8061, 0.0), (8062, 0.0), (8063, 0.0), (8064, 0.0), (8065, 0.0), (8066, 0.0), (8067, 0.0), (8068, 0.0), (8069, 0.0), (8070, 0.0), (8071, 0.007923335903402108), (8072, 0.0), (8073, 0.0), (8074, 0.0033897211340132467), (8075, 0.0), (8076, 0.0), (8077, 0.0), (8078, 0.0), (8079, 0.0), (8080, 0.0), (8081, 0.0), (8082, 0.0), (8083, 0.0), (8084, 0.0), (8085, 0.0), (8086, 0.0034099033284157748), (8087, 0.00894736930294411), (8088, 0.0), (8089, 0.0), (8090, 0.0), (8091, 0.004363788064971029), (8092, 0.0037245063304288534), (8093, 0.0), (8094, 0.0), (8095, 0.0), (8096, 0.0), (8097, 0.0), (8098, 0.0), (8099, 0.0), (8100, 0.0), (8101, 0.005051582562761123), (8102, 0.0), (8103, 0.0), (8104, 0.0), (8105, 0.0), (8106, 0.0), (8107, 0.0), (8108, 0.008814132934022495), (8109, 0.0036196234598744473), (8110, 0.004128651084084403), (8111, 0.0), (8112, 0.0033743944164437443), (8113, 0.011946884271167111), (8114, 0.0), (8115, 0.0), (8116, 0.0), (8117, 0.0), (8118, 0.0), (8119, 0.0), (8120, 0.0), (8121, 0.0), (8122, 0.0), (8123, 0.0), (8124, 0.0), (8125, 0.0), (8126, 0.0), (8127, 0.0), (8128, 0.0), (8129, 0.0), (8130, 0.0), (8131, 0.0), (8132, 0.0), (8133, 0.0), (8134, 0.0), (8135, 0.0), (8136, 0.0), (8137, 0.0), (8138, 0.0), (8139, 0.0), (8140, 0.0), (8141, 0.0), (8142, 0.0), (8143, 0.0), (8144, 0.0), (8145, 0.0), (8146, 0.0), (8147, 0.0), (8148, 0.0), (8149, 0.0), (8150, 0.0), (8151, 0.0), (8152, 0.0), (8153, 0.0), (8154, 0.0), (8155, 0.0), (8156, 0.0), (8157, 0.0), (8158, 0.0), (8159, 0.0), (8160, 0.004792659036822755), (8161, 0.0), (8162, 0.0), (8163, 0.0), (8164, 0.0), (8165, 0.0), (8166, 0.0), (8167, 0.0), (8168, 0.0), (8169, 0.0), (8170, 0.0), (8171, 0.0), (8172, 0.0), (8173, 0.0), (8174, 0.0), (8175, 0.0), (8176, 0.0), (8177, 0.006259578188755643), (8178, 0.0), (8179, 0.0), (8180, 0.0), (8181, 0.0), (8182, 0.0), (8183, 0.0), (8184, 0.0), (8185, 0.0), (8186, 0.0), (8187, 0.008592758909226231), (8188, 0.0), (8189, 0.0), (8190, 0.0), (8191, 0.026905047601865382), (8192, 0.0), (8193, 0.006362023180905498), (8194, 0.0), (8195, 0.005481082143147138), (8196, 0.0), (8197, 0.0072217022673199995), (8198, 0.0), (8199, 0.0), (8200, 0.0), (8201, 0.0), (8202, 0.0), (8203, 0.00885523658507412), (8204, 0.009692072317763357), (8205, 0.0), (8206, 0.0), (8207, 0.007778655137019134), (8208, 0.0), (8209, 0.0), (8210, 0.0), (8211, 0.0), (8212, 0.0), (8213, 0.0), (8214, 0.0), (8215, 0.0), (8216, 0.0), (8217, 0.0), (8218, 0.0), (8219, 0.0), (8220, 0.0), (8221, 0.0), (8222, 0.00479584695180084), (8223, 0.0), (8224, 0.0), (8225, 0.0), (8226, 0.004092772269067758), (8227, 0.0), (8228, 0.0), (8229, 0.0), (8230, 0.0), (8231, 0.0), (8232, 0.0), (8233, 0.0), (8234, 0.004310237312230065), (8235, 0.0), (8236, 0.0), (8237, 0.005352292773096301), (8238, 0.0), (8239, 0.0), (8240, 0.0), (8241, 0.0), (8242, 0.0), (8243, 0.0), (8244, 0.0), (8245, 0.0), (8246, 0.0), (8247, 0.007402726337142661), (8248, 0.009098614020313296), (8249, 0.0), (8250, 0.0), (8251, 0.0), (8252, 0.00410745704852146), (8253, 0.004830590900637052), (8254, 0.0), (8255, 0.0), (8256, 0.0), (8257, 0.0), (8258, 0.0), (8259, 0.0), (8260, 0.0), (8261, 0.005397703831907775), (8262, 0.012727381888753386), (8263, 0.0), (8264, 0.0), (8265, 0.010207602483977778), (8266, 0.0), (8267, 0.0), (8268, 0.0), (8269, 0.0), (8270, 0.0), (8271, 0.0), (8272, 0.0), (8273, 0.0), (8274, 0.0), (8275, 0.0), (8276, 0.0), (8277, 0.0), (8278, 0.0), (8279, 0.0), (8280, 0.0), (8281, 0.0), (8282, 0.005277218351005272), (8283, 0.0), (8284, 0.0), (8285, 0.0), (8286, 0.0032888022600786287), (8287, 0.0), (8288, 0.005135375343324914), (8289, 0.004435437752745144), (8290, 0.0), (8291, 0.0), (8292, 0.0), (8293, 0.0), (8294, 0.0), (8295, 0.0), (8296, 0.0), (8297, 0.0), (8298, 0.0), (8299, 0.0), (8300, 0.0), (8301, 0.0), (8302, 0.006166292307186956), (8303, 0.0), (8304, 0.0), (8305, 0.0), (8306, 0.0), (8307, 0.0), (8308, 0.0), (8309, 0.0), (8310, 0.0), (8311, 0.0), (8312, 0.007283615118860036), (8313, 0.003803642952416215), (8314, 0.005595796547049341), (8315, 0.0), (8316, 0.0), (8317, 0.0), (8318, 0.009073419181057031), (8319, 0.0), (8320, 0.0), (8321, 0.0), (8322, 0.0061204819108919275), (8323, 0.0), (8324, 0.0), (8325, 0.0), (8326, 0.0), (8327, 0.0), (8328, 0.0), (8329, 0.005619431568159763), (8330, 0.03932677507706608), (8331, 0.0), (8332, 0.0), (8333, 0.0), (8334, 0.006005495765208362), (8335, 0.00610203437760092), (8336, 0.008436263285350468), (8337, 0.0), (8338, 0.0), (8339, 0.0037641555765160267), (8340, 0.0), (8341, 0.0), (8342, 0.0), (8343, 0.0), (8344, 0.0), (8345, 0.0), (8346, 0.0), (8347, 0.0), (8348, 0.0), (8349, 0.0), (8350, 0.005378157680201533), (8351, 0.00981335059520718), (8352, 0.003658293790286203), (8353, 0.0), (8354, 0.0037255759704973037), (8355, 0.0029422703140945493), (8356, 0.0), (8357, 0.0), (8358, 0.0), (8359, 0.0), (8360, 0.006369609303022177), (8361, 0.0), (8362, 0.010938068900113096), (8363, 0.0), (8364, 0.005504796634570993), (8365, 0.0), (8366, 0.00448708030316855), (8367, 0.0), (8368, 0.0), (8369, 0.0), (8370, 0.00490679635215085), (8371, 0.0), (8372, 0.0), (8373, 0.0073154662873308705), (8374, 0.00362645241943075), (8375, 0.0), (8376, 0.0), (8377, 0.006087895828590721), (8378, 0.0), (8379, 0.0), (8380, 0.005574795703583426), (8381, 0.0), (8382, 0.0), (8383, 0.0), (8384, 0.00555922100837471), (8385, 0.0), (8386, 0.0), (8387, 0.0), (8388, 0.0), (8389, 0.0), (8390, 0.0059712525310527545), (8391, 0.00908231745538145), (8392, 0.0), (8393, 0.0), (8394, 0.0), (8395, 0.0), (8396, 0.0), (8397, 0.0), (8398, 0.0), (8399, 0.0032357541774992032), (8400, 0.0), (8401, 0.0), (8402, 0.0), (8403, 0.0), (8404, 0.0), (8405, 0.0), (8406, 0.0), (8407, 0.0), (8408, 0.0), (8409, 0.0), (8410, 0.0), (8411, 0.0), (8412, 0.0), (8413, 0.013259132224258835), (8414, 0.0), (8415, 0.006204869394323118), (8416, 0.005108240209014948), (8417, 0.0), (8418, 0.0), (8419, 0.0), (8420, 0.0), (8421, 0.0), (8422, 0.0), (8423, 0.026038597498115434), (8424, 0.0), (8425, 0.006351991015280895), (8426, 0.0), (8427, 0.0), (8428, 0.0), (8429, 0.0), (8430, 0.0), (8431, 0.0), (8432, 0.0), (8433, 0.0), (8434, 0.00745679766706506), (8435, 0.004326360057202736), (8436, 0.0), (8437, 0.0), (8438, 0.0), (8439, 0.0), (8440, 0.0), (8441, 0.0), (8442, 0.0), (8443, 0.0), (8444, 0.0), (8445, 0.0), (8446, 0.0), (8447, 0.0), (8448, 0.0), (8449, 0.0), (8450, 0.0), (8451, 0.0), (8452, 0.010231622539934057), (8453, 0.0), (8454, 0.0), (8455, 0.0), (8456, 0.0), (8457, 0.0), (8458, 0.0), (8459, 0.0), (8460, 0.0), (8461, 0.004475805905079806), (8462, 0.0), (8463, 0.0), (8464, 0.0), (8465, 0.0), (8466, 0.0), (8467, 0.0230198345934793), (8468, 0.006836020463338047), (8469, 0.007286197886508243), (8470, 0.0), (8471, 0.0), (8472, 0.0), (8473, 0.0), (8474, 0.0), (8475, 0.005876967153644684), (8476, 0.01926103724506439), (8477, 0.0), (8478, 0.0), (8479, 0.005287617567506882), (8480, 0.0), (8481, 0.0), (8482, 0.0), (8483, 0.0), (8484, 0.0), (8485, 0.0), (8486, 0.0), (8487, 0.0), (8488, 0.0), (8489, 0.0), (8490, 0.0), (8491, 0.0), (8492, 0.009529503253828947), (8493, 0.004144401703251171), (8494, 0.0), (8495, 0.0), (8496, 0.0), (8497, 0.0), (8498, 0.009318148486691984), (8499, 0.0), (8500, 0.0), (8501, 0.007956622439969032), (8502, 0.0), (8503, 0.0), (8504, 0.007485012414157797), (8505, 0.0), (8506, 0.0), (8507, 0.0), (8508, 0.0), (8509, 0.0), (8510, 0.004715104966326622), (8511, 0.0), (8512, 0.0), (8513, 0.0), (8514, 0.0), (8515, 0.0), (8516, 0.004950954593493977), (8517, 0.0), (8518, 0.0), (8519, 0.00510176980614176), (8520, 0.0), (8521, 0.0), (8522, 0.0), (8523, 0.0), (8524, 0.0), (8525, 0.0), (8526, 0.0), (8527, 0.0), (8528, 0.0), (8529, 0.0), (8530, 0.0), (8531, 0.0), (8532, 0.0), (8533, 0.0), (8534, 0.0), (8535, 0.0), (8536, 0.0), (8537, 0.0), (8538, 0.0), (8539, 0.0), (8540, 0.0), (8541, 0.013559897493815793), (8542, 0.0), (8543, 0.0), (8544, 0.0), (8545, 0.01107890674262256), (8546, 0.0), (8547, 0.007089926156594626), (8548, 0.0), (8549, 0.003916397423885517), (8550, 0.0), (8551, 0.0), (8552, 0.0), (8553, 0.0), (8554, 0.0), (8555, 0.0), (8556, 0.005129129398476514), (8557, 0.0), (8558, 0.0), (8559, 0.0), (8560, 0.0), (8561, 0.0), (8562, 0.0), (8563, 0.003076792206387194), (8564, 0.0), (8565, 0.0), (8566, 0.0), (8567, 0.0041958301383208324), (8568, 0.0), (8569, 0.004542792988262647), (8570, 0.0), (8571, 0.0), (8572, 0.0), (8573, 0.006553964984830735), (8574, 0.0), (8575, 0.008921754487780318), (8576, 0.0), (8577, 0.006082930582877926), (8578, 0.0), (8579, 0.004680849707842166), (8580, 0.0), (8581, 0.0), (8582, 0.0), (8583, 0.0), (8584, 0.0), (8585, 0.0), (8586, 0.004011945921470629), (8587, 0.007554337538121404), (8588, 0.009785531412614939), (8589, 0.009101327598950007), (8590, 0.010274799113373298), (8591, 0.0), (8592, 0.0035257148407815374), (8593, 0.0), (8594, 0.0), (8595, 0.0), (8596, 0.0), (8597, 0.0), (8598, 0.0), (8599, 0.0), (8600, 0.008377499358938393), (8601, 0.003696087900675462), (8602, 0.0), (8603, 0.011736707562067964), (8604, 0.0), (8605, 0.0), (8606, 0.0), (8607, 0.0), (8608, 0.0), (8609, 0.003639716411133601), (8610, 0.0), (8611, 0.0), (8612, 0.0), (8613, 0.0), (8614, 0.0), (8615, 0.0), (8616, 0.0), (8617, 0.0), (8618, 0.0), (8619, 0.0), (8620, 0.0), (8621, 0.0), (8622, 0.013321974149767235), (8623, 0.0), (8624, 0.0), (8625, 0.0), (8626, 0.0), (8627, 0.0), (8628, 0.0), (8629, 0.0), (8630, 0.0), (8631, 0.0), (8632, 0.0), (8633, 0.0), (8634, 0.0), (8635, 0.0), (8636, 0.0), (8637, 0.0), (8638, 0.0), (8639, 0.0), (8640, 0.0), (8641, 0.0), (8642, 0.0), (8643, 0.0), (8644, 0.0), (8645, 0.0), (8646, 0.0), (8647, 0.0), (8648, 0.0), (8649, 0.0), (8650, 0.004223767920806769), (8651, 0.0), (8652, 0.0), (8653, 0.0), (8654, 0.0), (8655, 0.00504937607463393), (8656, 0.0), (8657, 0.0), (8658, 0.0), (8659, 0.0), (8660, 0.0), (8661, 0.0), (8662, 0.0), (8663, 0.0), (8664, 0.0), (8665, 0.005277874511120128), (8666, 0.004147276648030479), (8667, 0.0), (8668, 0.0), (8669, 0.0), (8670, 0.0), (8671, 0.0), (8672, 0.0), (8673, 0.0), (8674, 0.006352591974313986), (8675, 0.0), (8676, 0.0), (8677, 0.0), (8678, 0.0), (8679, 0.0), (8680, 0.0), (8681, 0.0), (8682, 0.01762973925431001), (8683, 0.0), (8684, 0.0), (8685, 0.0), (8686, 0.0), (8687, 0.0), (8688, 0.0), (8689, 0.0), (8690, 0.0), (8691, 0.0), (8692, 0.0), (8693, 0.0), (8694, 0.004166976043272832), (8695, 0.0), (8696, 0.0), (8697, 0.004406140326528414), (8698, 0.0), (8699, 0.008130610573858861), (8700, 0.0), (8701, 0.0), (8702, 0.004509487349653107), (8703, 0.0), (8704, 0.0), (8705, 0.0), (8706, 0.007754025755139962), (8707, 0.0046280139676183945), (8708, 0.006491798365475144), (8709, 0.0), (8710, 0.0), (8711, 0.0), (8712, 0.0), (8713, 0.0), (8714, 0.0), (8715, 0.0), (8716, 0.008664797148336447), (8717, 0.0), (8718, 0.0), (8719, 0.0), (8720, 0.008479595818316235), (8721, 0.0), (8722, 0.0), (8723, 0.004934212372360014), (8724, 0.013039380135003387), (8725, 0.0), (8726, 0.0), (8727, 0.007604770976687757), (8728, 0.0), (8729, 0.0), (8730, 0.0), (8731, 0.0), (8732, 0.0), (8733, 0.0), (8734, 0.0), (8735, 0.0), (8736, 0.0), (8737, 0.0), (8738, 0.0), (8739, 0.01394514092706436), (8740, 0.004700500376152677), (8741, 0.0), (8742, 0.0), (8743, 0.005967508522247977), (8744, 0.0), (8745, 0.005030494040531635), (8746, 0.0), (8747, 0.0), (8748, 0.0), (8749, 0.0), (8750, 0.0), (8751, 0.0), (8752, 0.0), (8753, 0.00531545424042894), (8754, 0.0), (8755, 0.0), (8756, 0.0), (8757, 0.0), (8758, 0.0), (8759, 0.0), (8760, 0.0), (8761, 0.0), (8762, 0.0), (8763, 0.0), (8764, 0.012972887412030815), (8765, 0.0035674422217019785), (8766, 0.0), (8767, 0.0), (8768, 0.0), (8769, 0.0), (8770, 0.004664247314864888), (8771, 0.0), (8772, 0.0), (8773, 0.0), (8774, 0.005584268038342451), (8775, 0.0), (8776, 0.0), (8777, 0.00751330596203432), (8778, 0.008161198673258376), (8779, 0.005150883980447674), (8780, 0.0), (8781, 0.0), (8782, 0.0), (8783, 0.0), (8784, 0.0), (8785, 0.0), (8786, 0.0), (8787, 0.0), (8788, 0.0), (8789, 0.0), (8790, 0.0), (8791, 0.0), (8792, 0.0061737535418532365), (8793, 0.004766268474798157), (8794, 0.0), (8795, 0.0), (8796, 0.0), (8797, 0.004493335988291046), (8798, 0.004456692139628581), (8799, 0.0), (8800, 0.0), (8801, 0.0), (8802, 0.0), (8803, 0.0), (8804, 0.010168520699752367), (8805, 0.004041745349934076), (8806, 0.0), (8807, 0.0), (8808, 0.0), (8809, 0.0), (8810, 0.0), (8811, 0.0), (8812, 0.0), (8813, 0.0), (8814, 0.0), (8815, 0.0059122142069873845), (8816, 0.0), (8817, 0.0), (8818, 0.0), (8819, 0.0), (8820, 0.0), (8821, 0.0), (8822, 0.0), (8823, 0.0), (8824, 0.0), (8825, 0.004067156328562165), (8826, 0.0), (8827, 0.011272719180844186), (8828, 0.0), (8829, 0.0), (8830, 0.0), (8831, 0.0), (8832, 0.0031965508913577743), (8833, 0.0), (8834, 0.0), (8835, 0.0034245221171743884), (8836, 0.0066441515451917425), (8837, 0.0), (8838, 0.0), (8839, 0.0), (8840, 0.0), (8841, 0.0), (8842, 0.0), (8843, 0.0), (8844, 0.0049743702991090506), (8845, 0.0), (8846, 0.0), (8847, 0.0), (8848, 0.0), (8849, 0.004993731076216361), (8850, 0.0), (8851, 0.0), (8852, 0.0), (8853, 0.0), (8854, 0.007668504727755073), (8855, 0.0), (8856, 0.0), (8857, 0.0), (8858, 0.0), (8859, 0.0), (8860, 0.0037919148056233145), (8861, 0.0), (8862, 0.0), (8863, 0.0), (8864, 0.0), (8865, 0.0), (8866, 0.0), (8867, 0.0), (8868, 0.006281049752226639), (8869, 0.0), (8870, 0.0), (8871, 0.0), (8872, 0.0), (8873, 0.0), (8874, 0.0), (8875, 0.0), (8876, 0.0), (8877, 0.0), (8878, 0.0), (8879, 0.0), (8880, 0.0), (8881, 0.0), (8882, 0.0), (8883, 0.0), (8884, 0.0045003675361312365), (8885, 0.0026739235058195424), (8886, 0.0), (8887, 0.0), (8888, 0.0), (8889, 0.0), (8890, 0.0), (8891, 0.0), (8892, 0.0), (8893, 0.00898980148388093), (8894, 0.0), (8895, 0.0), (8896, 0.00282060752753413), (8897, 0.0), (8898, 0.0), (8899, 0.0), (8900, 0.0), (8901, 0.0), (8902, 0.0), (8903, 0.0), (8904, 0.0), (8905, 0.0), (8906, 0.0), (8907, 0.0), (8908, 0.0), (8909, 0.0), (8910, 0.0), (8911, 0.0), (8912, 0.0), (8913, 0.0), (8914, 0.0), (8915, 0.0), (8916, 0.0072368767918860166), (8917, 0.0), (8918, 0.0), (8919, 0.004496548064140697), (8920, 0.0), (8921, 0.0), (8922, 0.01777982150221507), (8923, 0.0), (8924, 0.0), (8925, 0.0), (8926, 0.005432978217020149), (8927, 0.0), (8928, 0.0), (8929, 0.0), (8930, 0.0), (8931, 0.0), (8932, 0.0), (8933, 0.0), (8934, 0.0), (8935, 0.006040329819881653), (8936, 0.0), (8937, 0.0), (8938, 0.0), (8939, 0.0), (8940, 0.0), (8941, 0.0), (8942, 0.020251537173925097), (8943, 0.0), (8944, 0.0), (8945, 0.0), (8946, 0.0), (8947, 0.0), (8948, 0.0035106028193395943), (8949, 0.0038155917537864084), (8950, 0.0), (8951, 0.0), (8952, 0.0), (8953, 0.003946709975090771), (8954, 0.0), (8955, 0.019211313214087117), (8956, 0.007241406020729464), (8957, 0.0), (8958, 0.0), (8959, 0.00635237130515367), (8960, 0.0), (8961, 0.0), (8962, 0.0), (8963, 0.0), (8964, 0.0), (8965, 0.0), (8966, 0.0), (8967, 0.009573470189623142), (8968, 0.0), (8969, 0.0), (8970, 0.003508544085318605), (8971, 0.0), (8972, 0.0), (8973, 0.0), (8974, 0.0), (8975, 0.0), (8976, 0.0), (8977, 0.0), (8978, 0.0), (8979, 0.006161985243848054), (8980, 0.0), (8981, 0.0), (8982, 0.0), (8983, 0.0), (8984, 0.0), (8985, 0.0), (8986, 0.0), (8987, 0.0), (8988, 0.0), (8989, 0.0), (8990, 0.0), (8991, 0.0), (8992, 0.0), (8993, 0.011715548978239515), (8994, 0.0), (8995, 0.0), (8996, 0.005190322353963281), (8997, 0.0), (8998, 0.0), (8999, 0.0), (9000, 0.0), (9001, 0.0), (9002, 0.006021102912986968), (9003, 0.0062695090293200684), (9004, 0.0), (9005, 0.0), (9006, 0.0), (9007, 0.0), (9008, 0.0), (9009, 0.0), (9010, 0.0), (9011, 0.0), (9012, 0.0), (9013, 0.0), (9014, 0.0), (9015, 0.0), (9016, 0.0), (9017, 0.0), (9018, 0.0), (9019, 0.0), (9020, 0.015428647179538832), (9021, 0.0), (9022, 0.0), (9023, 0.0), (9024, 0.0), (9025, 0.0), (9026, 0.0), (9027, 0.0), (9028, 0.0), (9029, 0.0), (9030, 0.0), (9031, 0.0), (9032, 0.0), (9033, 0.0), (9034, 0.0), (9035, 0.0), (9036, 0.0), (9037, 0.0), (9038, 0.0), (9039, 0.0), (9040, 0.0), (9041, 0.0), (9042, 0.0), (9043, 0.0), (9044, 0.0), (9045, 0.0), (9046, 0.0), (9047, 0.004549151741308303), (9048, 0.0), (9049, 0.0), (9050, 0.0), (9051, 0.0), (9052, 0.0), (9053, 0.0), (9054, 0.0), (9055, 0.0), (9056, 0.0), (9057, 0.0), (9058, 0.0), (9059, 0.0), (9060, 0.0), (9061, 0.0), (9062, 0.0), (9063, 0.00600347563565943), (9064, 0.0), (9065, 0.0), (9066, 0.0), (9067, 0.0), (9068, 0.0), (9069, 0.0), (9070, 0.0), (9071, 0.0), (9072, 0.0), (9073, 0.0), (9074, 0.0), (9075, 0.0), (9076, 0.004948082133285304), (9077, 0.0), (9078, 0.0), (9079, 0.0), (9080, 0.004662200465162521), (9081, 0.0), (9082, 0.0), (9083, 0.0), (9084, 0.0), (9085, 0.0), (9086, 0.0), (9087, 0.0), (9088, 0.0), (9089, 0.0), (9090, 0.005669828850996185), (9091, 0.0), (9092, 0.0), (9093, 0.0), (9094, 0.0), (9095, 0.004779589627343358), (9096, 0.0), (9097, 0.003449126190863791), (9098, 0.0)]\n"
     ]
    }
   ],
   "source": [
    "print(list(enumerate(cosine_sim[0])))"
   ]
  },
  {
   "cell_type": "code",
   "execution_count": null,
   "metadata": {},
   "outputs": [],
   "source": []
  }
 ],
 "metadata": {
  "kernelspec": {
   "display_name": "Python 2",
   "language": "python",
   "name": "python2"
  },
  "language_info": {
   "codemirror_mode": {
    "name": "ipython",
    "version": 2
   },
   "file_extension": ".py",
   "mimetype": "text/x-python",
   "name": "python",
   "nbconvert_exporter": "python",
   "pygments_lexer": "ipython2",
   "version": "2.7.6"
  }
 },
 "nbformat": 4,
 "nbformat_minor": 0
}
