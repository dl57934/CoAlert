{
 "cells": [
  {
   "cell_type": "code",
   "execution_count": null,
   "metadata": {
    "collapsed": true
   },
   "outputs": [],
   "source": [
    "[\n",
    "    {name:\"이상훈\", 'cosmetics':{\"1선크림\":3, \"2선크림\":4, \"3선크림\":5}, type:\"건성\"},\n",
    "    {name:\"정승우\", 'cosmetics':{\"3선크림\":3, \"4선크림\":4, \"5선크림\":5}, type:\"지성\"}\n",
    "]\n",
    "\n",
    "{type:\"건성\", cosmetics:{\"1선크림\":3, \"2선크림\":5, \"4선크림\":4}}"
   ]
  }
 ],
 "metadata": {
  "kernelspec": {
   "display_name": "Python 2",
   "language": "python",
   "name": "python2"
  },
  "language_info": {
   "codemirror_mode": {
    "name": "ipython",
    "version": 2
   },
   "file_extension": ".py",
   "mimetype": "text/x-python",
   "name": "python",
   "nbconvert_exporter": "python",
   "pygments_lexer": "ipython2",
   "version": "2.7.6"
  }
 },
 "nbformat": 4,
 "nbformat_minor": 0
}
