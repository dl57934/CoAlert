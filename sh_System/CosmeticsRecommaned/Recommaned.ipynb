{
 "cells": [
  {
   "cell_type": "code",
   "execution_count": 456,
   "metadata": {
    "collapsed": true
   },
   "outputs": [],
   "source": [
    "%matplotlib inline\n",
    "import pandas as pd \n",
    "import numpy as np\n",
    "import matplotlib.pyplot as plt \n",
    "from sklearn.feature_extraction.text import TfidfVectorizer\n",
    "from sklearn.metrics.pairwise import linear_kernel, cosine_similarity\n",
    "from scipy import stats\n",
    "from ast import literal_eval # 문자열 모형의 딕트를 스근하게 딕트로 바꾸어 준다. \n",
    "from sklearn.metrics.pairwise import linear_kernel, cosine_similarity\n",
    "from nltk.stem.snowball import SnowballStemmer\n",
    "from surprise import Reader, Dataset, SVD, evaluate\n"
   ]
  },
  {
   "cell_type": "code",
   "execution_count": 457,
   "metadata": {},
   "outputs": [],
   "source": [
    "dataSet = pd.read_csv('crawler/top.csv')\n",
    "dataSet = dataSet.drop(columns='Unnamed: 0', axis=1)\n",
    "dataSet2 = dataSet.copy()\n",
    "reviewData = dataSet[['cosmeticId', 'type', 'review']]\n"
   ]
  },
  {
   "cell_type": "code",
   "execution_count": 458,
   "metadata": {
    "collapsed": false
   },
   "outputs": [],
   "source": [
    "reviewArray = ['' for i in range(100)]\n",
    "for index, row in reviewData.iterrows():\n",
    "    reviewArray[row['cosmeticId']] += row['review']"
   ]
  },
  {
   "cell_type": "code",
   "execution_count": 459,
   "metadata": {
    "collapsed": true
   },
   "outputs": [],
   "source": [
    "name_popId = dataSet[['name', 'cosmeticId']]\n",
    "id2name = dataSet[['cosmeticId', 'name']]\n",
    "name_popId = name_popId.drop_duplicates().set_index('name')\n",
    "id2name = id2name.drop_duplicates().set_index('cosmeticId')"
   ]
  },
  {
   "cell_type": "code",
   "execution_count": 460,
   "metadata": {},
   "outputs": [],
   "source": [
    "dataSet = dataSet.drop('name', axis=1)"
   ]
  },
  {
   "cell_type": "code",
   "execution_count": 461,
   "metadata": {
    "collapsed": true
   },
   "outputs": [],
   "source": [
    "dataSet.head(5)\n",
    "seriesReview = pd.Series(reviewArray)"
   ]
  },
  {
   "cell_type": "code",
   "execution_count": 462,
   "metadata": {
    "collapsed": true
   },
   "outputs": [],
   "source": [
    "tf = TfidfVectorizer(analyzer='word', min_df=2, stop_words=['\\r', '\\n'], sublinear_tf=True)\n",
    "tf_matrix = tf.fit_transform(seriesReview)"
   ]
  },
  {
   "cell_type": "code",
   "execution_count": 463,
   "metadata": {},
   "outputs": [
    {
     "data": {
      "text/plain": [
       "<100x4970 sparse matrix of type '<class 'numpy.float64'>'\n\twith 31625 stored elements in Compressed Sparse Row format>"
      ]
     },
     "execution_count": 463,
     "metadata": {},
     "output_type": "execute_result"
    }
   ],
   "source": [
    "tf_matrix"
   ]
  },
  {
   "cell_type": "code",
   "execution_count": 464,
   "metadata": {},
   "outputs": [],
   "source": [
    "cosine_sim = linear_kernel(tf_matrix, tf_matrix)\n",
    "cosine_sim[0]\n",
    "reader = Reader() "
   ]
  },
  {
   "cell_type": "code",
   "execution_count": 465,
   "metadata": {},
   "outputs": [
    {
     "name": "stdout",
     "output_type": "stream",
     "text": [
      "<class 'pandas.core.frame.DataFrame'>\nRangeIndex: 1923 entries, 0 to 1922\nData columns (total 4 columns):\ncosmeticId    1923 non-null int64\nrate          1923 non-null float64\nreview        1923 non-null object\ntype          1923 non-null object\ndtypes: float64(1), int64(1), object(2)\nmemory usage: 60.2+ KB\n"
     ]
    }
   ],
   "source": [
    "dataSet.info()"
   ]
  },
  {
   "cell_type": "code",
   "execution_count": 466,
   "metadata": {},
   "outputs": [],
   "source": [
    "type = {'건성': 0, '지성': 1, '중성': 2, '복합성': 3, '민감성': 4}\n",
    "dataSet['type'] = dataSet['type'].map(type)\n",
    "trainData = dataSet[['type', 'cosmeticId', 'rate']].drop_duplicates()\n",
    "data = Dataset.load_from_df(trainData , reader)"
   ]
  },
  {
   "cell_type": "code",
   "execution_count": 467,
   "metadata": {},
   "outputs": [],
   "source": [
    "data.split(n_folds=5)"
   ]
  },
  {
   "cell_type": "code",
   "execution_count": 468,
   "metadata": {
    "collapsed": true
   },
   "outputs": [
    {
     "name": "stdout",
     "output_type": "stream",
     "text": [
      "Evaluating RMSE, MAE of algorithm SVD.\n\n------------\nFold 1\nRMSE: 0.2943\nMAE:  0.2124\n------------\nFold 2\nRMSE: 0.3651\nMAE:  0.2399\n------------\nFold 3\n"
     ]
    },
    {
     "name": "stderr",
     "output_type": "stream",
     "text": [
      "C:\\Users\\LeeSangHoon\\Anaconda3\\envs\\tensorflow\\lib\\site-packages\\surprise\\evaluate.py:66: UserWarning: The evaluate() method is deprecated. Please use model_selection.cross_validate() instead.\n  'model_selection.cross_validate() instead.', UserWarning)\nC:\\Users\\LeeSangHoon\\Anaconda3\\envs\\tensorflow\\lib\\site-packages\\surprise\\dataset.py:193: UserWarning: Using data.split() or using load_from_folds() without using a CV iterator is now deprecated. \n  UserWarning)\n"
     ]
    },
    {
     "name": "stdout",
     "output_type": "stream",
     "text": [
      "RMSE: 0.3035\nMAE:  0.2328\n------------\nFold 4\nRMSE: 0.2930\nMAE:  0.2202\n------------\nFold 5\nRMSE: 0.3246"
     ]
    },
    {
     "name": "stdout",
     "output_type": "stream",
     "text": [
      "\nMAE:  0.2244\n------------\n------------\nMean RMSE: 0.3161\nMean MAE : 0.2259\n------------\n------------\n"
     ]
    }
   ],
   "source": [
    "svd = SVD()\n",
    "evaluate(svd, data, measures=['RMSE', 'MAE'])"
   ]
  },
  {
   "cell_type": "code",
   "execution_count": 469,
   "metadata": {
    "collapsed": true
   },
   "outputs": [],
   "source": [
    "trainset = data.build_full_trainset()\n",
    "svd.fit(trainset)\n"
   ]
  },
  {
   "cell_type": "code",
   "execution_count": 470,
   "metadata": {
    "collapsed": true
   },
   "outputs": [],
   "source": [
    ""
   ]
  },
  {
   "cell_type": "code",
   "execution_count": 470,
   "metadata": {
    "collapsed": true
   },
   "outputs": [],
   "source": [
    "def type_cosmeticsNum(type, cosmeticName=''):\n",
    "    if cosmeticName != '':\n",
    "        idx = name_popId['cosmeticId'][cosmeticName]\n",
    "        print(idx)\n",
    "    else:\n",
    "        sortRate = dataSet[dataSet['type'] == type].drop_duplicates(['cosmeticId'])\n",
    "        sortRate = sortRate.sort_values('rate', ascending=False)\n",
    "        idx = sortRate['cosmeticId'][:10]\n",
    "        sortRate = sortRate.reset_index(drop=True)\n",
    "        sortRate['lenReview'] = 0\n",
    "        for i, k in enumerate(idx):\n",
    "            sortRate.loc[i, 'lenReview'] = len(dataSet2[dataSet2['cosmeticId'] == k]['review'])\n",
    "        sortRate = sortRate.sort_values('lenReview', ascending=False)\n",
    "        idx = sortRate['cosmeticId'][:1]\n",
    "    sim_scores = list(enumerate(cosine_sim[int(idx)]))\n",
    "    sim_scores = sorted(sim_scores, key=lambda x: x[1], reverse=True)\n",
    "    sim_scores = sim_scores[1:26]\n",
    "    cosmetic_indcies = [i[0] for i in sim_scores]\n",
    "    cosmeticpd = pd.Series(cosmetic_indcies)\n",
    "\n",
    "    # #cosmetics = dataSet.iloc[cosmetic_indcies][['cosmeticId', 'rate', 'review', 'type']]\n",
    "    cosmeticpd = {'cosmeticId': cosmetic_indcies, 'est': cosmeticpd.apply(lambda x: svd.predict(type, x).est\n",
    "                                                                          )}\n",
    "    cosmeticpd = pd.DataFrame(cosmeticpd, columns=['cosmeticId', 'est'])\n",
    "    cosmeticpd = cosmeticpd.sort_values('est', ascending=False)\n",
    "\n",
    "    # finalCosmetics = cosmetics.drop_duplicates(['cosmeticId'])\n",
    "    # finalCosmetics = finalCosmetics['cosmeticId'].reset_index(drop=True)\n",
    "    # preCosmeticName = name_popId.index[finalCosmetics]\n",
    "    for id in cosmeticpd['cosmeticId']:\n",
    "        print(id2name.loc[id]['name'])\n"
   ]
  },
  {
   "cell_type": "code",
   "execution_count": 475,
   "metadata": {
    "collapsed": true
   },
   "outputs": [
    {
     "name": "stdout",
     "output_type": "stream",
     "text": [
      "0\nUV 아쿠아 리치 워터리 젤 SPF 50+ PA++++\n마일드 프로텍트 촉촉한 선크림 SPF30 PA++\n퓨어 미네랄 선크림 SPF50+ PA++++\n내추럴 미네랄 썬 프로텍션\n슈퍼푸드_블루베리 리밸런싱 워터리 선크림 SPF37 PA+++\n워터풀 썬 업 크림  SPF50+ PA++++\n익스트림 모이스처 선크림 SPF50+ PA++++\n산소수 라이트 선 젤 SPF50+ PA++++\n마일드-S 모이스쳐 라이트 선 젤 SPF50+ PA++++\n스킨 디펜스 멀티 프로텍션 에센스 SPF50+ PA+++ \nUV 퍼펙트 에어쿨 선 젤 SPF50+ PA++++\n올 어라운드 세이프 블록 에센스 선밀크 SPF50+ PA+++ \nNEW 이데베논 선블럭 SPF50+PA++++\n마일드 프로텍트 에센스 선 SPF50+ PA++++\n모이스쳐라이징 썬 스크린 SPF50+ PA+++\nUV 아쿠아 리치 워터리 에센스 선크림 SPF50+ PA++++\n스킨 릴리프 UV 프로텍터 SPF50+ PA+++\n선 솔루션 프레쉬 선 에센스 IRF20 SPF50+ PA++++\n유브이 퍼펙션 하이드라썬 SPF50+ PA+++\n트루케어 논나노 논코메도 무기자차 선크림 SPF48 PA+++\n블랙 티 올 데이 아쿠아 선 젤 SPF30 PA++\n에브리 선데이\n아임 쏘리 포 마이 스킨 데일리 카밍 선 크림 SPF50+ PA++++\n선크림 스테이 선 세이프 SPF50+ PA++++\n더마 디펜스 선 플루이드\n"
     ]
    }
   ],
   "source": [
    "type_cosmeticsNum(1, '비타민 워터리 선 젤 SPF50+ PA++++')"
   ]
  },
  {
   "cell_type": "code",
   "execution_count": 472,
   "metadata": {
    "collapsed": true
   },
   "outputs": [],
   "source": [
    ""
   ]
  },
  {
   "cell_type": "code",
   "execution_count": 472,
   "metadata": {},
   "outputs": [
    {
     "name": "stdout",
     "output_type": "stream",
     "text": [
      "<class 'pandas.core.frame.DataFrame'>\nRangeIndex: 1923 entries, 0 to 1922\nData columns (total 4 columns):\ncosmeticId    1923 non-null int64\nrate          1923 non-null float64\nreview        1923 non-null object\ntype          1923 non-null int64\ndtypes: float64(1), int64(2), object(1)\nmemory usage: 60.2+ KB\n"
     ]
    }
   ],
   "source": [
    "dataSet.info()"
   ]
  },
  {
   "cell_type": "code",
   "execution_count": 473,
   "metadata": {},
   "outputs": [],
   "source": [
    ""
   ]
  },
  {
   "cell_type": "code",
   "execution_count": 473,
   "metadata": {},
   "outputs": [],
   "source": []
  }
 ],
 "metadata": {
  "kernelspec": {
   "display_name": "Python 2",
   "language": "python",
   "name": "python2"
  },
  "language_info": {
   "codemirror_mode": {
    "name": "ipython",
    "version": 2
   },
   "file_extension": ".py",
   "mimetype": "text/x-python",
   "name": "python",
   "nbconvert_exporter": "python",
   "pygments_lexer": "ipython2",
   "version": "2.7.6"
  }
 },
 "nbformat": 4,
 "nbformat_minor": 0
}
